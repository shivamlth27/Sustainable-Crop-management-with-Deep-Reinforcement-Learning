{
 "cells": [
  {
   "cell_type": "code",
   "execution_count": 2,
   "metadata": {},
   "outputs": [
    {
     "name": "stderr",
     "output_type": "stream",
     "text": [
      "c:\\Users\\Ayush\\apython\\envs\\gpu\\Lib\\site-packages\\pandas\\core\\arrays\\masked.py:60: UserWarning: Pandas requires version '1.3.6' or newer of 'bottleneck' (version '1.3.5' currently installed).\n",
      "  from pandas.core import (\n"
     ]
    }
   ],
   "source": [
    "import pandas as pd\n",
    "import torch\n",
    "import torch.nn as nn\n",
    "import torch.optim as optim\n",
    "import plotly.graph_objects as go\n",
    "from sklearn.preprocessing import MinMaxScaler, LabelEncoder\n",
    "from sklearn.model_selection import train_test_split "
   ]
  },
  {
   "cell_type": "code",
   "execution_count": 3,
   "metadata": {},
   "outputs": [
    {
     "name": "stderr",
     "output_type": "stream",
     "text": [
      "c:\\Users\\Ayush\\apython\\envs\\gpu\\Lib\\site-packages\\tqdm\\auto.py:21: TqdmWarning: IProgress not found. Please update jupyter and ipywidgets. See https://ipywidgets.readthedocs.io/en/stable/user_install.html\n",
      "  from .autonotebook import tqdm as notebook_tqdm\n"
     ]
    },
    {
     "name": "stdout",
     "output_type": "stream",
     "text": [
      "Test Accuracy: 0.9205\n"
     ]
    },
    {
     "data": {
      "application/vnd.plotly.v1+json": {
       "config": {
        "plotlyServerURL": "https://plot.ly"
       },
       "data": [
        {
         "mode": "lines",
         "name": "Training Loss",
         "type": "scatter",
         "x": [
          1,
          2,
          3,
          4,
          5,
          6,
          7,
          8,
          9,
          10,
          11,
          12,
          13,
          14,
          15,
          16,
          17,
          18,
          19,
          20,
          21,
          22,
          23,
          24,
          25,
          26,
          27,
          28,
          29,
          30,
          31,
          32,
          33,
          34,
          35,
          36,
          37,
          38,
          39,
          40,
          41,
          42,
          43,
          44,
          45,
          46,
          47,
          48,
          49,
          50,
          51,
          52,
          53,
          54,
          55,
          56,
          57,
          58,
          59,
          60,
          61,
          62,
          63,
          64,
          65,
          66,
          67,
          68,
          69,
          70,
          71,
          72,
          73,
          74,
          75,
          76,
          77,
          78,
          79,
          80,
          81,
          82,
          83,
          84,
          85,
          86,
          87,
          88,
          89,
          90,
          91,
          92,
          93,
          94,
          95,
          96,
          97,
          98,
          99,
          100,
          101,
          102,
          103,
          104,
          105,
          106,
          107,
          108,
          109,
          110,
          111,
          112,
          113,
          114,
          115,
          116,
          117,
          118,
          119,
          120,
          121,
          122,
          123,
          124,
          125,
          126,
          127,
          128,
          129,
          130,
          131,
          132,
          133,
          134,
          135,
          136,
          137,
          138,
          139,
          140,
          141,
          142,
          143,
          144,
          145,
          146,
          147,
          148,
          149,
          150,
          151,
          152,
          153,
          154,
          155,
          156,
          157,
          158,
          159,
          160,
          161,
          162,
          163,
          164,
          165,
          166,
          167,
          168,
          169,
          170,
          171,
          172,
          173,
          174,
          175,
          176,
          177,
          178,
          179,
          180,
          181,
          182,
          183,
          184,
          185,
          186,
          187,
          188,
          189,
          190,
          191,
          192,
          193,
          194,
          195,
          196,
          197,
          198,
          199,
          200
         ],
         "y": [
          3.1028449535369873,
          3.0960071086883545,
          3.0899558067321777,
          3.084951162338257,
          3.080158233642578,
          3.0753273963928223,
          3.070779323577881,
          3.0663888454437256,
          3.0619051456451416,
          3.057317018508911,
          3.0525264739990234,
          3.0475361347198486,
          3.0424506664276123,
          3.0372724533081055,
          3.0320377349853516,
          3.026719570159912,
          3.021256923675537,
          3.0155768394470215,
          3.0096588134765625,
          3.003474235534668,
          2.9970548152923584,
          2.9903883934020996,
          2.983476400375366,
          2.9762964248657227,
          2.968812942504883,
          2.9610090255737305,
          2.95286226272583,
          2.9443771839141846,
          2.935554265975952,
          2.926356077194214,
          2.9167640209198,
          2.906770706176758,
          2.896350383758545,
          2.885457754135132,
          2.8740668296813965,
          2.862194776535034,
          2.8498668670654297,
          2.8371968269348145,
          2.8242063522338867,
          2.8107738494873047,
          2.7968764305114746,
          2.7825119495391846,
          2.767693042755127,
          2.7524333000183105,
          2.7367334365844727,
          2.720602512359619,
          2.7040421962738037,
          2.6870806217193604,
          2.6697404384613037,
          2.6520354747772217,
          2.633965015411377,
          2.6155173778533936,
          2.5966968536376953,
          2.5775444507598877,
          2.558077096939087,
          2.5383126735687256,
          2.518300771713257,
          2.498008966445923,
          2.4773809909820557,
          2.456474542617798,
          2.4353315830230713,
          2.4138944149017334,
          2.3921616077423096,
          2.3702800273895264,
          2.3481192588806152,
          2.325756072998047,
          2.3032257556915283,
          2.280487298965454,
          2.2575676441192627,
          2.2344770431518555,
          2.211238384246826,
          2.1878533363342285,
          2.164339542388916,
          2.1407058238983154,
          2.116973400115967,
          2.0931732654571533,
          2.0693247318267822,
          2.045443058013916,
          2.021540880203247,
          1.9976396560668945,
          1.9737622737884521,
          1.9499266147613525,
          1.9261524677276611,
          1.9024542570114136,
          1.8788527250289917,
          1.8553646802902222,
          1.8320072889328003,
          1.8087952136993408,
          1.7857422828674316,
          1.7628167867660522,
          1.7399307489395142,
          1.717149019241333,
          1.6948866844177246,
          1.672851800918579,
          1.6509578227996826,
          1.629227638244629,
          1.6076925992965698,
          1.5863769054412842,
          1.5653201341629028,
          1.5445622205734253,
          1.5240148305892944,
          1.50364089012146,
          1.4834833145141602,
          1.4635770320892334,
          1.4439274072647095,
          1.424515724182129,
          1.4053269624710083,
          1.3863601684570312,
          1.3676129579544067,
          1.3490890264511108,
          1.3307902812957764,
          1.3127185106277466,
          1.2948716878890991,
          1.2772444486618042,
          1.2598353624343872,
          1.242637276649475,
          1.2256492376327515,
          1.208865761756897,
          1.192287802696228,
          1.1759161949157715,
          1.1597458124160767,
          1.1437736749649048,
          1.1280035972595215,
          1.1124292612075806,
          1.0970458984375,
          1.0818477869033813,
          1.0668377876281738,
          1.0520135164260864,
          1.0373650789260864,
          1.022889494895935,
          1.0085997581481934,
          0.9945039749145508,
          0.9805771112442017,
          0.966846764087677,
          0.9533020853996277,
          0.9399434924125671,
          0.9267817139625549,
          0.9138044714927673,
          0.9009844064712524,
          0.8883546590805054,
          0.8759090900421143,
          0.8636678457260132,
          0.8516215085983276,
          0.8397419452667236,
          0.8280375599861145,
          0.8165075182914734,
          0.8051514625549316,
          0.793969452381134,
          0.7829636931419373,
          0.7721306085586548,
          0.7614653706550598,
          0.7509639263153076,
          0.7406285405158997,
          0.7304537892341614,
          0.7204458713531494,
          0.7106009721755981,
          0.7009170055389404,
          0.6913915872573853,
          0.6820229291915894,
          0.672809898853302,
          0.6637536883354187,
          0.6548516750335693,
          0.646104633808136,
          0.6375063061714172,
          0.6290522217750549,
          0.6207395792007446,
          0.6125656962394714,
          0.6045323610305786,
          0.5966354608535767,
          0.5888742208480835,
          0.581244945526123,
          0.5737453699111938,
          0.5663747191429138,
          0.5591300129890442,
          0.552010178565979,
          0.5450124144554138,
          0.5381346940994263,
          0.531374990940094,
          0.524730384349823,
          0.5181991457939148,
          0.5117784142494202,
          0.505466878414154,
          0.4992620646953583,
          0.4931615889072418,
          0.4871639013290405,
          0.48126843571662903,
          0.4754721224308014,
          0.46977347135543823,
          0.46417003870010376,
          0.4586601257324219,
          0.4532417058944702,
          0.447913259267807,
          0.442672997713089,
          0.4375195801258087,
          0.4324512481689453,
          0.4274665117263794,
          0.42256414890289307,
          0.41774216294288635,
          0.4129982590675354,
          0.40833041071891785
         ]
        }
       ],
       "layout": {
        "template": {
         "data": {
          "bar": [
           {
            "error_x": {
             "color": "#2a3f5f"
            },
            "error_y": {
             "color": "#2a3f5f"
            },
            "marker": {
             "line": {
              "color": "#E5ECF6",
              "width": 0.5
             },
             "pattern": {
              "fillmode": "overlay",
              "size": 10,
              "solidity": 0.2
             }
            },
            "type": "bar"
           }
          ],
          "barpolar": [
           {
            "marker": {
             "line": {
              "color": "#E5ECF6",
              "width": 0.5
             },
             "pattern": {
              "fillmode": "overlay",
              "size": 10,
              "solidity": 0.2
             }
            },
            "type": "barpolar"
           }
          ],
          "carpet": [
           {
            "aaxis": {
             "endlinecolor": "#2a3f5f",
             "gridcolor": "white",
             "linecolor": "white",
             "minorgridcolor": "white",
             "startlinecolor": "#2a3f5f"
            },
            "baxis": {
             "endlinecolor": "#2a3f5f",
             "gridcolor": "white",
             "linecolor": "white",
             "minorgridcolor": "white",
             "startlinecolor": "#2a3f5f"
            },
            "type": "carpet"
           }
          ],
          "choropleth": [
           {
            "colorbar": {
             "outlinewidth": 0,
             "ticks": ""
            },
            "type": "choropleth"
           }
          ],
          "contour": [
           {
            "colorbar": {
             "outlinewidth": 0,
             "ticks": ""
            },
            "colorscale": [
             [
              0,
              "#0d0887"
             ],
             [
              0.1111111111111111,
              "#46039f"
             ],
             [
              0.2222222222222222,
              "#7201a8"
             ],
             [
              0.3333333333333333,
              "#9c179e"
             ],
             [
              0.4444444444444444,
              "#bd3786"
             ],
             [
              0.5555555555555556,
              "#d8576b"
             ],
             [
              0.6666666666666666,
              "#ed7953"
             ],
             [
              0.7777777777777778,
              "#fb9f3a"
             ],
             [
              0.8888888888888888,
              "#fdca26"
             ],
             [
              1,
              "#f0f921"
             ]
            ],
            "type": "contour"
           }
          ],
          "contourcarpet": [
           {
            "colorbar": {
             "outlinewidth": 0,
             "ticks": ""
            },
            "type": "contourcarpet"
           }
          ],
          "heatmap": [
           {
            "colorbar": {
             "outlinewidth": 0,
             "ticks": ""
            },
            "colorscale": [
             [
              0,
              "#0d0887"
             ],
             [
              0.1111111111111111,
              "#46039f"
             ],
             [
              0.2222222222222222,
              "#7201a8"
             ],
             [
              0.3333333333333333,
              "#9c179e"
             ],
             [
              0.4444444444444444,
              "#bd3786"
             ],
             [
              0.5555555555555556,
              "#d8576b"
             ],
             [
              0.6666666666666666,
              "#ed7953"
             ],
             [
              0.7777777777777778,
              "#fb9f3a"
             ],
             [
              0.8888888888888888,
              "#fdca26"
             ],
             [
              1,
              "#f0f921"
             ]
            ],
            "type": "heatmap"
           }
          ],
          "heatmapgl": [
           {
            "colorbar": {
             "outlinewidth": 0,
             "ticks": ""
            },
            "colorscale": [
             [
              0,
              "#0d0887"
             ],
             [
              0.1111111111111111,
              "#46039f"
             ],
             [
              0.2222222222222222,
              "#7201a8"
             ],
             [
              0.3333333333333333,
              "#9c179e"
             ],
             [
              0.4444444444444444,
              "#bd3786"
             ],
             [
              0.5555555555555556,
              "#d8576b"
             ],
             [
              0.6666666666666666,
              "#ed7953"
             ],
             [
              0.7777777777777778,
              "#fb9f3a"
             ],
             [
              0.8888888888888888,
              "#fdca26"
             ],
             [
              1,
              "#f0f921"
             ]
            ],
            "type": "heatmapgl"
           }
          ],
          "histogram": [
           {
            "marker": {
             "pattern": {
              "fillmode": "overlay",
              "size": 10,
              "solidity": 0.2
             }
            },
            "type": "histogram"
           }
          ],
          "histogram2d": [
           {
            "colorbar": {
             "outlinewidth": 0,
             "ticks": ""
            },
            "colorscale": [
             [
              0,
              "#0d0887"
             ],
             [
              0.1111111111111111,
              "#46039f"
             ],
             [
              0.2222222222222222,
              "#7201a8"
             ],
             [
              0.3333333333333333,
              "#9c179e"
             ],
             [
              0.4444444444444444,
              "#bd3786"
             ],
             [
              0.5555555555555556,
              "#d8576b"
             ],
             [
              0.6666666666666666,
              "#ed7953"
             ],
             [
              0.7777777777777778,
              "#fb9f3a"
             ],
             [
              0.8888888888888888,
              "#fdca26"
             ],
             [
              1,
              "#f0f921"
             ]
            ],
            "type": "histogram2d"
           }
          ],
          "histogram2dcontour": [
           {
            "colorbar": {
             "outlinewidth": 0,
             "ticks": ""
            },
            "colorscale": [
             [
              0,
              "#0d0887"
             ],
             [
              0.1111111111111111,
              "#46039f"
             ],
             [
              0.2222222222222222,
              "#7201a8"
             ],
             [
              0.3333333333333333,
              "#9c179e"
             ],
             [
              0.4444444444444444,
              "#bd3786"
             ],
             [
              0.5555555555555556,
              "#d8576b"
             ],
             [
              0.6666666666666666,
              "#ed7953"
             ],
             [
              0.7777777777777778,
              "#fb9f3a"
             ],
             [
              0.8888888888888888,
              "#fdca26"
             ],
             [
              1,
              "#f0f921"
             ]
            ],
            "type": "histogram2dcontour"
           }
          ],
          "mesh3d": [
           {
            "colorbar": {
             "outlinewidth": 0,
             "ticks": ""
            },
            "type": "mesh3d"
           }
          ],
          "parcoords": [
           {
            "line": {
             "colorbar": {
              "outlinewidth": 0,
              "ticks": ""
             }
            },
            "type": "parcoords"
           }
          ],
          "pie": [
           {
            "automargin": true,
            "type": "pie"
           }
          ],
          "scatter": [
           {
            "fillpattern": {
             "fillmode": "overlay",
             "size": 10,
             "solidity": 0.2
            },
            "type": "scatter"
           }
          ],
          "scatter3d": [
           {
            "line": {
             "colorbar": {
              "outlinewidth": 0,
              "ticks": ""
             }
            },
            "marker": {
             "colorbar": {
              "outlinewidth": 0,
              "ticks": ""
             }
            },
            "type": "scatter3d"
           }
          ],
          "scattercarpet": [
           {
            "marker": {
             "colorbar": {
              "outlinewidth": 0,
              "ticks": ""
             }
            },
            "type": "scattercarpet"
           }
          ],
          "scattergeo": [
           {
            "marker": {
             "colorbar": {
              "outlinewidth": 0,
              "ticks": ""
             }
            },
            "type": "scattergeo"
           }
          ],
          "scattergl": [
           {
            "marker": {
             "colorbar": {
              "outlinewidth": 0,
              "ticks": ""
             }
            },
            "type": "scattergl"
           }
          ],
          "scattermapbox": [
           {
            "marker": {
             "colorbar": {
              "outlinewidth": 0,
              "ticks": ""
             }
            },
            "type": "scattermapbox"
           }
          ],
          "scatterpolar": [
           {
            "marker": {
             "colorbar": {
              "outlinewidth": 0,
              "ticks": ""
             }
            },
            "type": "scatterpolar"
           }
          ],
          "scatterpolargl": [
           {
            "marker": {
             "colorbar": {
              "outlinewidth": 0,
              "ticks": ""
             }
            },
            "type": "scatterpolargl"
           }
          ],
          "scatterternary": [
           {
            "marker": {
             "colorbar": {
              "outlinewidth": 0,
              "ticks": ""
             }
            },
            "type": "scatterternary"
           }
          ],
          "surface": [
           {
            "colorbar": {
             "outlinewidth": 0,
             "ticks": ""
            },
            "colorscale": [
             [
              0,
              "#0d0887"
             ],
             [
              0.1111111111111111,
              "#46039f"
             ],
             [
              0.2222222222222222,
              "#7201a8"
             ],
             [
              0.3333333333333333,
              "#9c179e"
             ],
             [
              0.4444444444444444,
              "#bd3786"
             ],
             [
              0.5555555555555556,
              "#d8576b"
             ],
             [
              0.6666666666666666,
              "#ed7953"
             ],
             [
              0.7777777777777778,
              "#fb9f3a"
             ],
             [
              0.8888888888888888,
              "#fdca26"
             ],
             [
              1,
              "#f0f921"
             ]
            ],
            "type": "surface"
           }
          ],
          "table": [
           {
            "cells": {
             "fill": {
              "color": "#EBF0F8"
             },
             "line": {
              "color": "white"
             }
            },
            "header": {
             "fill": {
              "color": "#C8D4E3"
             },
             "line": {
              "color": "white"
             }
            },
            "type": "table"
           }
          ]
         },
         "layout": {
          "annotationdefaults": {
           "arrowcolor": "#2a3f5f",
           "arrowhead": 0,
           "arrowwidth": 1
          },
          "autotypenumbers": "strict",
          "coloraxis": {
           "colorbar": {
            "outlinewidth": 0,
            "ticks": ""
           }
          },
          "colorscale": {
           "diverging": [
            [
             0,
             "#8e0152"
            ],
            [
             0.1,
             "#c51b7d"
            ],
            [
             0.2,
             "#de77ae"
            ],
            [
             0.3,
             "#f1b6da"
            ],
            [
             0.4,
             "#fde0ef"
            ],
            [
             0.5,
             "#f7f7f7"
            ],
            [
             0.6,
             "#e6f5d0"
            ],
            [
             0.7,
             "#b8e186"
            ],
            [
             0.8,
             "#7fbc41"
            ],
            [
             0.9,
             "#4d9221"
            ],
            [
             1,
             "#276419"
            ]
           ],
           "sequential": [
            [
             0,
             "#0d0887"
            ],
            [
             0.1111111111111111,
             "#46039f"
            ],
            [
             0.2222222222222222,
             "#7201a8"
            ],
            [
             0.3333333333333333,
             "#9c179e"
            ],
            [
             0.4444444444444444,
             "#bd3786"
            ],
            [
             0.5555555555555556,
             "#d8576b"
            ],
            [
             0.6666666666666666,
             "#ed7953"
            ],
            [
             0.7777777777777778,
             "#fb9f3a"
            ],
            [
             0.8888888888888888,
             "#fdca26"
            ],
            [
             1,
             "#f0f921"
            ]
           ],
           "sequentialminus": [
            [
             0,
             "#0d0887"
            ],
            [
             0.1111111111111111,
             "#46039f"
            ],
            [
             0.2222222222222222,
             "#7201a8"
            ],
            [
             0.3333333333333333,
             "#9c179e"
            ],
            [
             0.4444444444444444,
             "#bd3786"
            ],
            [
             0.5555555555555556,
             "#d8576b"
            ],
            [
             0.6666666666666666,
             "#ed7953"
            ],
            [
             0.7777777777777778,
             "#fb9f3a"
            ],
            [
             0.8888888888888888,
             "#fdca26"
            ],
            [
             1,
             "#f0f921"
            ]
           ]
          },
          "colorway": [
           "#636efa",
           "#EF553B",
           "#00cc96",
           "#ab63fa",
           "#FFA15A",
           "#19d3f3",
           "#FF6692",
           "#B6E880",
           "#FF97FF",
           "#FECB52"
          ],
          "font": {
           "color": "#2a3f5f"
          },
          "geo": {
           "bgcolor": "white",
           "lakecolor": "white",
           "landcolor": "#E5ECF6",
           "showlakes": true,
           "showland": true,
           "subunitcolor": "white"
          },
          "hoverlabel": {
           "align": "left"
          },
          "hovermode": "closest",
          "mapbox": {
           "style": "light"
          },
          "paper_bgcolor": "white",
          "plot_bgcolor": "#E5ECF6",
          "polar": {
           "angularaxis": {
            "gridcolor": "white",
            "linecolor": "white",
            "ticks": ""
           },
           "bgcolor": "#E5ECF6",
           "radialaxis": {
            "gridcolor": "white",
            "linecolor": "white",
            "ticks": ""
           }
          },
          "scene": {
           "xaxis": {
            "backgroundcolor": "#E5ECF6",
            "gridcolor": "white",
            "gridwidth": 2,
            "linecolor": "white",
            "showbackground": true,
            "ticks": "",
            "zerolinecolor": "white"
           },
           "yaxis": {
            "backgroundcolor": "#E5ECF6",
            "gridcolor": "white",
            "gridwidth": 2,
            "linecolor": "white",
            "showbackground": true,
            "ticks": "",
            "zerolinecolor": "white"
           },
           "zaxis": {
            "backgroundcolor": "#E5ECF6",
            "gridcolor": "white",
            "gridwidth": 2,
            "linecolor": "white",
            "showbackground": true,
            "ticks": "",
            "zerolinecolor": "white"
           }
          },
          "shapedefaults": {
           "line": {
            "color": "#2a3f5f"
           }
          },
          "ternary": {
           "aaxis": {
            "gridcolor": "white",
            "linecolor": "white",
            "ticks": ""
           },
           "baxis": {
            "gridcolor": "white",
            "linecolor": "white",
            "ticks": ""
           },
           "bgcolor": "#E5ECF6",
           "caxis": {
            "gridcolor": "white",
            "linecolor": "white",
            "ticks": ""
           }
          },
          "title": {
           "x": 0.05
          },
          "xaxis": {
           "automargin": true,
           "gridcolor": "white",
           "linecolor": "white",
           "ticks": "",
           "title": {
            "standoff": 15
           },
           "zerolinecolor": "white",
           "zerolinewidth": 2
          },
          "yaxis": {
           "automargin": true,
           "gridcolor": "white",
           "linecolor": "white",
           "ticks": "",
           "title": {
            "standoff": 15
           },
           "zerolinecolor": "white",
           "zerolinewidth": 2
          }
         }
        },
        "title": {
         "text": "Training Loss Over Epochs"
        },
        "xaxis": {
         "title": {
          "text": "Epoch"
         }
        },
        "yaxis": {
         "title": {
          "text": "Loss"
         }
        }
       }
      }
     },
     "metadata": {},
     "output_type": "display_data"
    }
   ],
   "source": [
    "# Load the dataset\n",
    "df = pd.read_csv(r'C:\\Users\\Ayush\\OneDrive\\Desktop\\AI-search-algo\\ai-project\\datasets\\Crop_recommendation.csv')\n",
    "\n",
    "# Drop any rows with missing values\n",
    "df = df.dropna()\n",
    "\n",
    "# Encode categorical variables if needed (e.g., using one-hot encoding)\n",
    "# Example:\n",
    "# df = pd.get_dummies(df, columns=['categorical_column'])\n",
    "\n",
    "# Split the data into features (X) and labels (y)\n",
    "X = df.drop(['label'], axis=1)  # Features excluding the 'label' column\n",
    "y = df['label']  # Target variable 'label'\n",
    "\n",
    "# Scale the features\n",
    "scaler = MinMaxScaler()\n",
    "X_scaled = scaler.fit_transform(X)\n",
    "\n",
    "# Split the data into train and test sets\n",
    "X_train, X_test, y_train, y_test = train_test_split(X_scaled, y, test_size=0.2, random_state=42)\n",
    "\n",
    "# Initialize LabelEncoder\n",
    "label_encoder = LabelEncoder()\n",
    "\n",
    "# Fit and transform labels in y_train and y_test\n",
    "y_train_encoded = label_encoder.fit_transform(y_train)\n",
    "y_test_encoded = label_encoder.transform(y_test)\n",
    "\n",
    "# Convert encoded labels to tensors\n",
    "device = torch.device(\"cuda\" if torch.cuda.is_available() else \"cpu\")\n",
    "y_train_tensor = torch.tensor(y_train_encoded, dtype=torch.long).to(device)\n",
    "y_test_tensor = torch.tensor(y_test_encoded, dtype=torch.long).to(device)\n",
    "\n",
    "# Define the Q-learning model with increased complexity\n",
    "class QLearningModel(nn.Module):\n",
    "    def __init__(self, input_size, num_actions):\n",
    "        super(QLearningModel, self).__init__()\n",
    "        self.dense1 = nn.Linear(input_size, 128)\n",
    "        self.relu1 = nn.ReLU()\n",
    "        self.dense2 = nn.Linear(128, 64)\n",
    "        self.relu2 = nn.ReLU()\n",
    "        self.dense3 = nn.Linear(64, num_actions)\n",
    "\n",
    "    def forward(self, x):\n",
    "        x = self.relu1(self.dense1(x))\n",
    "        x = self.relu2(self.dense2(x))\n",
    "        return self.dense3(x)\n",
    "\n",
    "# Initialize the Q-learning model and move it to CUDA if available\n",
    "model = QLearningModel(X_train.shape[1], len(label_encoder.classes_))\n",
    "model.to(device)\n",
    "\n",
    "# Define optimizer and loss function\n",
    "optimizer = optim.Adam(model.parameters())\n",
    "criterion = nn.CrossEntropyLoss()\n",
    "\n",
    "X_train_tensor = torch.tensor(X_train, dtype=torch.float32).to(device)\n",
    "\n",
    "# Train the model\n",
    "num_epochs = 200  # Increased number of epochs\n",
    "training_loss_values = []  # List to store training loss values\n",
    "\n",
    "for epoch in range(num_epochs):\n",
    "    optimizer.zero_grad()\n",
    "    outputs = model(X_train_tensor)\n",
    "    loss = criterion(outputs, y_train_tensor)\n",
    "    loss.backward()\n",
    "    optimizer.step()\n",
    "    \n",
    "    training_loss_values.append(loss.item())  # Append current loss to the list\n",
    "\n",
    "# Save the trained model, scaler, and label encoder\n",
    "torch.save(model.state_dict(), 'model.pth')\n",
    "torch.save(scaler, 'scaler.pkl')\n",
    "torch.save(label_encoder, 'label_encoder.pkl')\n",
    "\n",
    "# Evaluate the model on the test set\n",
    "with torch.no_grad():\n",
    "    X_test_tensor = torch.tensor(X_test, dtype=torch.float32).to(device)\n",
    "    y_pred = model(X_test_tensor)\n",
    "    predicted_labels = torch.argmax(y_pred, dim=1)\n",
    "    accuracy = (predicted_labels == y_test_tensor).sum().item() / len(y_test_tensor)\n",
    "    print(f\"Test Accuracy: {accuracy:.4f}\")\n",
    "\n",
    "# Create the line plot for training loss over epochs\n",
    "fig = go.Figure()\n",
    "fig.add_trace(go.Scatter(x=list(range(1, num_epochs + 1)), y=training_loss_values, mode='lines', name='Training Loss'))\n",
    "fig.update_layout(title='Training Loss Over Epochs', xaxis_title='Epoch', yaxis_title='Loss')\n",
    "fig.show()\n"
   ]
  },
  {
   "cell_type": "code",
   "execution_count": 4,
   "metadata": {},
   "outputs": [
    {
     "data": {
      "application/vnd.plotly.v1+json": {
       "config": {
        "plotlyServerURL": "https://plot.ly"
       },
       "data": [
        {
         "labels": [
          "coconut",
          "chickpea",
          "mothbeans",
          "jute",
          "papaya",
          "apple",
          "pigeonpeas",
          "pomegranate",
          "maize",
          "banana",
          "blackgram",
          "kidneybeans",
          "watermelon",
          "mungbean",
          "mango",
          "rice",
          "coffee",
          "cotton",
          "muskmelon",
          "orange",
          "grapes",
          "lentil"
         ],
         "type": "pie",
         "values": [
          27,
          26,
          24,
          23,
          23,
          23,
          23,
          23,
          21,
          21,
          20,
          20,
          19,
          19,
          19,
          19,
          17,
          17,
          17,
          14,
          14,
          11
         ]
        }
       ],
       "layout": {
        "template": {
         "data": {
          "bar": [
           {
            "error_x": {
             "color": "#2a3f5f"
            },
            "error_y": {
             "color": "#2a3f5f"
            },
            "marker": {
             "line": {
              "color": "#E5ECF6",
              "width": 0.5
             },
             "pattern": {
              "fillmode": "overlay",
              "size": 10,
              "solidity": 0.2
             }
            },
            "type": "bar"
           }
          ],
          "barpolar": [
           {
            "marker": {
             "line": {
              "color": "#E5ECF6",
              "width": 0.5
             },
             "pattern": {
              "fillmode": "overlay",
              "size": 10,
              "solidity": 0.2
             }
            },
            "type": "barpolar"
           }
          ],
          "carpet": [
           {
            "aaxis": {
             "endlinecolor": "#2a3f5f",
             "gridcolor": "white",
             "linecolor": "white",
             "minorgridcolor": "white",
             "startlinecolor": "#2a3f5f"
            },
            "baxis": {
             "endlinecolor": "#2a3f5f",
             "gridcolor": "white",
             "linecolor": "white",
             "minorgridcolor": "white",
             "startlinecolor": "#2a3f5f"
            },
            "type": "carpet"
           }
          ],
          "choropleth": [
           {
            "colorbar": {
             "outlinewidth": 0,
             "ticks": ""
            },
            "type": "choropleth"
           }
          ],
          "contour": [
           {
            "colorbar": {
             "outlinewidth": 0,
             "ticks": ""
            },
            "colorscale": [
             [
              0,
              "#0d0887"
             ],
             [
              0.1111111111111111,
              "#46039f"
             ],
             [
              0.2222222222222222,
              "#7201a8"
             ],
             [
              0.3333333333333333,
              "#9c179e"
             ],
             [
              0.4444444444444444,
              "#bd3786"
             ],
             [
              0.5555555555555556,
              "#d8576b"
             ],
             [
              0.6666666666666666,
              "#ed7953"
             ],
             [
              0.7777777777777778,
              "#fb9f3a"
             ],
             [
              0.8888888888888888,
              "#fdca26"
             ],
             [
              1,
              "#f0f921"
             ]
            ],
            "type": "contour"
           }
          ],
          "contourcarpet": [
           {
            "colorbar": {
             "outlinewidth": 0,
             "ticks": ""
            },
            "type": "contourcarpet"
           }
          ],
          "heatmap": [
           {
            "colorbar": {
             "outlinewidth": 0,
             "ticks": ""
            },
            "colorscale": [
             [
              0,
              "#0d0887"
             ],
             [
              0.1111111111111111,
              "#46039f"
             ],
             [
              0.2222222222222222,
              "#7201a8"
             ],
             [
              0.3333333333333333,
              "#9c179e"
             ],
             [
              0.4444444444444444,
              "#bd3786"
             ],
             [
              0.5555555555555556,
              "#d8576b"
             ],
             [
              0.6666666666666666,
              "#ed7953"
             ],
             [
              0.7777777777777778,
              "#fb9f3a"
             ],
             [
              0.8888888888888888,
              "#fdca26"
             ],
             [
              1,
              "#f0f921"
             ]
            ],
            "type": "heatmap"
           }
          ],
          "heatmapgl": [
           {
            "colorbar": {
             "outlinewidth": 0,
             "ticks": ""
            },
            "colorscale": [
             [
              0,
              "#0d0887"
             ],
             [
              0.1111111111111111,
              "#46039f"
             ],
             [
              0.2222222222222222,
              "#7201a8"
             ],
             [
              0.3333333333333333,
              "#9c179e"
             ],
             [
              0.4444444444444444,
              "#bd3786"
             ],
             [
              0.5555555555555556,
              "#d8576b"
             ],
             [
              0.6666666666666666,
              "#ed7953"
             ],
             [
              0.7777777777777778,
              "#fb9f3a"
             ],
             [
              0.8888888888888888,
              "#fdca26"
             ],
             [
              1,
              "#f0f921"
             ]
            ],
            "type": "heatmapgl"
           }
          ],
          "histogram": [
           {
            "marker": {
             "pattern": {
              "fillmode": "overlay",
              "size": 10,
              "solidity": 0.2
             }
            },
            "type": "histogram"
           }
          ],
          "histogram2d": [
           {
            "colorbar": {
             "outlinewidth": 0,
             "ticks": ""
            },
            "colorscale": [
             [
              0,
              "#0d0887"
             ],
             [
              0.1111111111111111,
              "#46039f"
             ],
             [
              0.2222222222222222,
              "#7201a8"
             ],
             [
              0.3333333333333333,
              "#9c179e"
             ],
             [
              0.4444444444444444,
              "#bd3786"
             ],
             [
              0.5555555555555556,
              "#d8576b"
             ],
             [
              0.6666666666666666,
              "#ed7953"
             ],
             [
              0.7777777777777778,
              "#fb9f3a"
             ],
             [
              0.8888888888888888,
              "#fdca26"
             ],
             [
              1,
              "#f0f921"
             ]
            ],
            "type": "histogram2d"
           }
          ],
          "histogram2dcontour": [
           {
            "colorbar": {
             "outlinewidth": 0,
             "ticks": ""
            },
            "colorscale": [
             [
              0,
              "#0d0887"
             ],
             [
              0.1111111111111111,
              "#46039f"
             ],
             [
              0.2222222222222222,
              "#7201a8"
             ],
             [
              0.3333333333333333,
              "#9c179e"
             ],
             [
              0.4444444444444444,
              "#bd3786"
             ],
             [
              0.5555555555555556,
              "#d8576b"
             ],
             [
              0.6666666666666666,
              "#ed7953"
             ],
             [
              0.7777777777777778,
              "#fb9f3a"
             ],
             [
              0.8888888888888888,
              "#fdca26"
             ],
             [
              1,
              "#f0f921"
             ]
            ],
            "type": "histogram2dcontour"
           }
          ],
          "mesh3d": [
           {
            "colorbar": {
             "outlinewidth": 0,
             "ticks": ""
            },
            "type": "mesh3d"
           }
          ],
          "parcoords": [
           {
            "line": {
             "colorbar": {
              "outlinewidth": 0,
              "ticks": ""
             }
            },
            "type": "parcoords"
           }
          ],
          "pie": [
           {
            "automargin": true,
            "type": "pie"
           }
          ],
          "scatter": [
           {
            "fillpattern": {
             "fillmode": "overlay",
             "size": 10,
             "solidity": 0.2
            },
            "type": "scatter"
           }
          ],
          "scatter3d": [
           {
            "line": {
             "colorbar": {
              "outlinewidth": 0,
              "ticks": ""
             }
            },
            "marker": {
             "colorbar": {
              "outlinewidth": 0,
              "ticks": ""
             }
            },
            "type": "scatter3d"
           }
          ],
          "scattercarpet": [
           {
            "marker": {
             "colorbar": {
              "outlinewidth": 0,
              "ticks": ""
             }
            },
            "type": "scattercarpet"
           }
          ],
          "scattergeo": [
           {
            "marker": {
             "colorbar": {
              "outlinewidth": 0,
              "ticks": ""
             }
            },
            "type": "scattergeo"
           }
          ],
          "scattergl": [
           {
            "marker": {
             "colorbar": {
              "outlinewidth": 0,
              "ticks": ""
             }
            },
            "type": "scattergl"
           }
          ],
          "scattermapbox": [
           {
            "marker": {
             "colorbar": {
              "outlinewidth": 0,
              "ticks": ""
             }
            },
            "type": "scattermapbox"
           }
          ],
          "scatterpolar": [
           {
            "marker": {
             "colorbar": {
              "outlinewidth": 0,
              "ticks": ""
             }
            },
            "type": "scatterpolar"
           }
          ],
          "scatterpolargl": [
           {
            "marker": {
             "colorbar": {
              "outlinewidth": 0,
              "ticks": ""
             }
            },
            "type": "scatterpolargl"
           }
          ],
          "scatterternary": [
           {
            "marker": {
             "colorbar": {
              "outlinewidth": 0,
              "ticks": ""
             }
            },
            "type": "scatterternary"
           }
          ],
          "surface": [
           {
            "colorbar": {
             "outlinewidth": 0,
             "ticks": ""
            },
            "colorscale": [
             [
              0,
              "#0d0887"
             ],
             [
              0.1111111111111111,
              "#46039f"
             ],
             [
              0.2222222222222222,
              "#7201a8"
             ],
             [
              0.3333333333333333,
              "#9c179e"
             ],
             [
              0.4444444444444444,
              "#bd3786"
             ],
             [
              0.5555555555555556,
              "#d8576b"
             ],
             [
              0.6666666666666666,
              "#ed7953"
             ],
             [
              0.7777777777777778,
              "#fb9f3a"
             ],
             [
              0.8888888888888888,
              "#fdca26"
             ],
             [
              1,
              "#f0f921"
             ]
            ],
            "type": "surface"
           }
          ],
          "table": [
           {
            "cells": {
             "fill": {
              "color": "#EBF0F8"
             },
             "line": {
              "color": "white"
             }
            },
            "header": {
             "fill": {
              "color": "#C8D4E3"
             },
             "line": {
              "color": "white"
             }
            },
            "type": "table"
           }
          ]
         },
         "layout": {
          "annotationdefaults": {
           "arrowcolor": "#2a3f5f",
           "arrowhead": 0,
           "arrowwidth": 1
          },
          "autotypenumbers": "strict",
          "coloraxis": {
           "colorbar": {
            "outlinewidth": 0,
            "ticks": ""
           }
          },
          "colorscale": {
           "diverging": [
            [
             0,
             "#8e0152"
            ],
            [
             0.1,
             "#c51b7d"
            ],
            [
             0.2,
             "#de77ae"
            ],
            [
             0.3,
             "#f1b6da"
            ],
            [
             0.4,
             "#fde0ef"
            ],
            [
             0.5,
             "#f7f7f7"
            ],
            [
             0.6,
             "#e6f5d0"
            ],
            [
             0.7,
             "#b8e186"
            ],
            [
             0.8,
             "#7fbc41"
            ],
            [
             0.9,
             "#4d9221"
            ],
            [
             1,
             "#276419"
            ]
           ],
           "sequential": [
            [
             0,
             "#0d0887"
            ],
            [
             0.1111111111111111,
             "#46039f"
            ],
            [
             0.2222222222222222,
             "#7201a8"
            ],
            [
             0.3333333333333333,
             "#9c179e"
            ],
            [
             0.4444444444444444,
             "#bd3786"
            ],
            [
             0.5555555555555556,
             "#d8576b"
            ],
            [
             0.6666666666666666,
             "#ed7953"
            ],
            [
             0.7777777777777778,
             "#fb9f3a"
            ],
            [
             0.8888888888888888,
             "#fdca26"
            ],
            [
             1,
             "#f0f921"
            ]
           ],
           "sequentialminus": [
            [
             0,
             "#0d0887"
            ],
            [
             0.1111111111111111,
             "#46039f"
            ],
            [
             0.2222222222222222,
             "#7201a8"
            ],
            [
             0.3333333333333333,
             "#9c179e"
            ],
            [
             0.4444444444444444,
             "#bd3786"
            ],
            [
             0.5555555555555556,
             "#d8576b"
            ],
            [
             0.6666666666666666,
             "#ed7953"
            ],
            [
             0.7777777777777778,
             "#fb9f3a"
            ],
            [
             0.8888888888888888,
             "#fdca26"
            ],
            [
             1,
             "#f0f921"
            ]
           ]
          },
          "colorway": [
           "#636efa",
           "#EF553B",
           "#00cc96",
           "#ab63fa",
           "#FFA15A",
           "#19d3f3",
           "#FF6692",
           "#B6E880",
           "#FF97FF",
           "#FECB52"
          ],
          "font": {
           "color": "#2a3f5f"
          },
          "geo": {
           "bgcolor": "white",
           "lakecolor": "white",
           "landcolor": "#E5ECF6",
           "showlakes": true,
           "showland": true,
           "subunitcolor": "white"
          },
          "hoverlabel": {
           "align": "left"
          },
          "hovermode": "closest",
          "mapbox": {
           "style": "light"
          },
          "paper_bgcolor": "white",
          "plot_bgcolor": "#E5ECF6",
          "polar": {
           "angularaxis": {
            "gridcolor": "white",
            "linecolor": "white",
            "ticks": ""
           },
           "bgcolor": "#E5ECF6",
           "radialaxis": {
            "gridcolor": "white",
            "linecolor": "white",
            "ticks": ""
           }
          },
          "scene": {
           "xaxis": {
            "backgroundcolor": "#E5ECF6",
            "gridcolor": "white",
            "gridwidth": 2,
            "linecolor": "white",
            "showbackground": true,
            "ticks": "",
            "zerolinecolor": "white"
           },
           "yaxis": {
            "backgroundcolor": "#E5ECF6",
            "gridcolor": "white",
            "gridwidth": 2,
            "linecolor": "white",
            "showbackground": true,
            "ticks": "",
            "zerolinecolor": "white"
           },
           "zaxis": {
            "backgroundcolor": "#E5ECF6",
            "gridcolor": "white",
            "gridwidth": 2,
            "linecolor": "white",
            "showbackground": true,
            "ticks": "",
            "zerolinecolor": "white"
           }
          },
          "shapedefaults": {
           "line": {
            "color": "#2a3f5f"
           }
          },
          "ternary": {
           "aaxis": {
            "gridcolor": "white",
            "linecolor": "white",
            "ticks": ""
           },
           "baxis": {
            "gridcolor": "white",
            "linecolor": "white",
            "ticks": ""
           },
           "bgcolor": "#E5ECF6",
           "caxis": {
            "gridcolor": "white",
            "linecolor": "white",
            "ticks": ""
           }
          },
          "title": {
           "x": 0.05
          },
          "xaxis": {
           "automargin": true,
           "gridcolor": "white",
           "linecolor": "white",
           "ticks": "",
           "title": {
            "standoff": 15
           },
           "zerolinecolor": "white",
           "zerolinewidth": 2
          },
          "yaxis": {
           "automargin": true,
           "gridcolor": "white",
           "linecolor": "white",
           "ticks": "",
           "title": {
            "standoff": 15
           },
           "zerolinecolor": "white",
           "zerolinewidth": 2
          }
         }
        },
        "title": {
         "text": "Test Crop Labels Distribution"
        }
       }
      }
     },
     "metadata": {},
     "output_type": "display_data"
    }
   ],
   "source": [
    "test_crop_labels_distribution = y_test.value_counts()\n",
    "\n",
    "# Create the pie chart\n",
    "fig = go.Figure()\n",
    "fig.add_trace(go.Pie(labels=test_crop_labels_distribution.index, values=test_crop_labels_distribution.values))\n",
    "fig.update_layout(title='Test Crop Labels Distribution')\n",
    "fig.show()\n"
   ]
  },
  {
   "cell_type": "code",
   "execution_count": 5,
   "metadata": {},
   "outputs": [
    {
     "data": {
      "application/vnd.plotly.v1+json": {
       "config": {
        "plotlyServerURL": "https://plot.ly"
       },
       "data": [
        {
         "mode": "markers",
         "name": "N vs P",
         "type": "scatter",
         "x": [
          90,
          85,
          60,
          74,
          78,
          69,
          69,
          94,
          89,
          68,
          91,
          90,
          78,
          93,
          94,
          60,
          85,
          91,
          77,
          88,
          89,
          76,
          67,
          83,
          98,
          66,
          97,
          97,
          60,
          84,
          73,
          92,
          85,
          98,
          88,
          95,
          99,
          95,
          60,
          63,
          62,
          64,
          83,
          82,
          85,
          91,
          76,
          74,
          79,
          88,
          60,
          76,
          93,
          65,
          95,
          75,
          74,
          91,
          71,
          99,
          72,
          83,
          93,
          70,
          76,
          99,
          99,
          86,
          69,
          91,
          61,
          67,
          79,
          78,
          75,
          97,
          67,
          73,
          77,
          81,
          68,
          72,
          61,
          67,
          67,
          66,
          82,
          84,
          81,
          91,
          93,
          90,
          81,
          78,
          60,
          88,
          93,
          60,
          78,
          65,
          71,
          61,
          80,
          73,
          61,
          68,
          93,
          89,
          76,
          67,
          70,
          90,
          62,
          92,
          66,
          63,
          70,
          61,
          66,
          74,
          77,
          99,
          74,
          83,
          100,
          79,
          94,
          75,
          78,
          87,
          87,
          63,
          84,
          64,
          60,
          98,
          75,
          86,
          98,
          76,
          99,
          60,
          74,
          89,
          69,
          96,
          61,
          74,
          74,
          63,
          99,
          77,
          87,
          60,
          94,
          95,
          84,
          77,
          66,
          63,
          79,
          72,
          67,
          86,
          76,
          75,
          81,
          73,
          71,
          96,
          99,
          62,
          86,
          94,
          76,
          77,
          74,
          81,
          63,
          99,
          90,
          68,
          60,
          71,
          61,
          88,
          65,
          78,
          78,
          92,
          79,
          91,
          76,
          87,
          71,
          90,
          67,
          60,
          83,
          83,
          40,
          23,
          39,
          22,
          36,
          32,
          58,
          59,
          42,
          28,
          58,
          43,
          58,
          23,
          27,
          28,
          50,
          39,
          25,
          31,
          26,
          25,
          31,
          60,
          59,
          22,
          36,
          59,
          54,
          43,
          28,
          42,
          32,
          22,
          31,
          28,
          57,
          49,
          46,
          54,
          38,
          59,
          36,
          57,
          35,
          35,
          52,
          27,
          57,
          52,
          43,
          44,
          24,
          29,
          20,
          56,
          37,
          49,
          59,
          20,
          24,
          51,
          57,
          22,
          52,
          29,
          44,
          41,
          52,
          34,
          42,
          34,
          27,
          30,
          57,
          27,
          32,
          31,
          33,
          47,
          54,
          47,
          35,
          53,
          45,
          37,
          30,
          37,
          53,
          22,
          60,
          42,
          39,
          35,
          30,
          57,
          48,
          36,
          40,
          49,
          13,
          25,
          31,
          40,
          2,
          26,
          17,
          26,
          17,
          27,
          28,
          25,
          28,
          25,
          12,
          6,
          22,
          27,
          10,
          23,
          19,
          19,
          22,
          37,
          11,
          18,
          21,
          24,
          34,
          16,
          17,
          37,
          40,
          9,
          1,
          33,
          23,
          6,
          25,
          7,
          8,
          27,
          28,
          32,
          27,
          17,
          0,
          13,
          34,
          9,
          11,
          3,
          35,
          3,
          23,
          22,
          31,
          34,
          12,
          27,
          7,
          24,
          11,
          37,
          25,
          34,
          20,
          37,
          18,
          4,
          37,
          5,
          11,
          22,
          12,
          5,
          27,
          31,
          36,
          5,
          32,
          11,
          0,
          14,
          29,
          32,
          17,
          13,
          14,
          9,
          20,
          40,
          27,
          14,
          7,
          27,
          30,
          37,
          27,
          22,
          3,
          40,
          33,
          27,
          10,
          30,
          40,
          38,
          35,
          38,
          33,
          16,
          31,
          16,
          27,
          40,
          18,
          3,
          26,
          16,
          24,
          9,
          16,
          28,
          16,
          24,
          38,
          9,
          34,
          1,
          6,
          26,
          27,
          27,
          36,
          17,
          26,
          17,
          14,
          39,
          6,
          8,
          2,
          1,
          16,
          23,
          32,
          28,
          5,
          36,
          1,
          24,
          17,
          5,
          5,
          37,
          13,
          6,
          16,
          25,
          34,
          20,
          35,
          14,
          36,
          7,
          29,
          30,
          20,
          19,
          3,
          5,
          5,
          37,
          9,
          20,
          31,
          0,
          21,
          13,
          27,
          29,
          5,
          39,
          22,
          18,
          39,
          13,
          27,
          26,
          23,
          4,
          20,
          7,
          17,
          35,
          11,
          20,
          10,
          33,
          3,
          22,
          36,
          4,
          29,
          32,
          14,
          5,
          25,
          11,
          40,
          38,
          27,
          24,
          23,
          29,
          31,
          0,
          7,
          17,
          11,
          22,
          9,
          28,
          26,
          36,
          8,
          24,
          22,
          36,
          22,
          17,
          8,
          7,
          36,
          11,
          6,
          17,
          4,
          9,
          25,
          36,
          21,
          37,
          32,
          29,
          25,
          10,
          23,
          9,
          3,
          22,
          12,
          39,
          32,
          30,
          19,
          4,
          21,
          35,
          22,
          35,
          17,
          28,
          22,
          11,
          38,
          23,
          25,
          40,
          23,
          2,
          3,
          26,
          39,
          27,
          24,
          7,
          15,
          26,
          20,
          34,
          19,
          29,
          20,
          11,
          15,
          35,
          9,
          40,
          35,
          14,
          40,
          18,
          35,
          4,
          22,
          33,
          2,
          16,
          19,
          8,
          36,
          10,
          22,
          9,
          34,
          31,
          0,
          21,
          28,
          17,
          24,
          28,
          21,
          34,
          19,
          31,
          19,
          24,
          13,
          31,
          28,
          31,
          33,
          34,
          13,
          33,
          32,
          23,
          35,
          6,
          29,
          4,
          10,
          14,
          8,
          20,
          36,
          14,
          11,
          10,
          7,
          2,
          20,
          2,
          27,
          35,
          4,
          1,
          36,
          11,
          34,
          21,
          17,
          25,
          2,
          9,
          37,
          36,
          40,
          30,
          1,
          9,
          14,
          35,
          31,
          4,
          30,
          9,
          20,
          37,
          34,
          14,
          23,
          5,
          22,
          40,
          27,
          31,
          38,
          6,
          6,
          24,
          25,
          32,
          8,
          19,
          39,
          33,
          26,
          21,
          22,
          29,
          4,
          10,
          4,
          20,
          23,
          25,
          56,
          25,
          42,
          42,
          44,
          50,
          35,
          30,
          27,
          50,
          39,
          57,
          52,
          55,
          51,
          36,
          59,
          50,
          30,
          20,
          58,
          25,
          52,
          40,
          20,
          48,
          49,
          48,
          32,
          21,
          20,
          25,
          41,
          53,
          39,
          25,
          21,
          57,
          56,
          49,
          24,
          49,
          28,
          55,
          50,
          34,
          20,
          55,
          23,
          53,
          26,
          33,
          37,
          33,
          22,
          20,
          43,
          44,
          34,
          21,
          25,
          41,
          28,
          35,
          52,
          58,
          34,
          52,
          23,
          42,
          37,
          44,
          21,
          56,
          29,
          43,
          55,
          44,
          29,
          47,
          40,
          58,
          41,
          58,
          27,
          27,
          52,
          44,
          21,
          60,
          33,
          59,
          29,
          59,
          29,
          58,
          55,
          42,
          44,
          38,
          32,
          13,
          38,
          11,
          37,
          29,
          2,
          6,
          13,
          8,
          6,
          2,
          3,
          27,
          39,
          40,
          37,
          31,
          22,
          3,
          4,
          13,
          12,
          4,
          9,
          18,
          32,
          6,
          15,
          0,
          30,
          3,
          2,
          10,
          14,
          39,
          19,
          18,
          31,
          28,
          5,
          16,
          34,
          14,
          22,
          24,
          2,
          26,
          27,
          24,
          13,
          6,
          12,
          32,
          6,
          10,
          38,
          17,
          26,
          23,
          32,
          19,
          22,
          28,
          1,
          12,
          36,
          28,
          12,
          22,
          26,
          16,
          14,
          33,
          21,
          0,
          10,
          30,
          0,
          35,
          7,
          9,
          14,
          14,
          36,
          28,
          28,
          40,
          10,
          12,
          37,
          0,
          7,
          10,
          39,
          26,
          9,
          4,
          34,
          33,
          2,
          6,
          8,
          37,
          0,
          31,
          21,
          6,
          25,
          15,
          14,
          16,
          36,
          4,
          29,
          16,
          18,
          11,
          5,
          18,
          9,
          40,
          22,
          9,
          12,
          0,
          2,
          28,
          8,
          29,
          17,
          34,
          21,
          25,
          8,
          26,
          4,
          36,
          5,
          19,
          39,
          5,
          4,
          38,
          37,
          9,
          29,
          5,
          22,
          4,
          21,
          29,
          23,
          13,
          5,
          27,
          7,
          12,
          4,
          3,
          1,
          23,
          24,
          13,
          40,
          21,
          3,
          40,
          14,
          38,
          34,
          32,
          18,
          8,
          15,
          0,
          22,
          14,
          31,
          39,
          10,
          8,
          32,
          18,
          20,
          39,
          20,
          11,
          40,
          3,
          9,
          30,
          40,
          40,
          32,
          33,
          4,
          13,
          39,
          8,
          91,
          105,
          108,
          86,
          80,
          93,
          90,
          108,
          108,
          105,
          118,
          101,
          95,
          106,
          86,
          83,
          85,
          109,
          100,
          117,
          114,
          110,
          94,
          80,
          114,
          88,
          112,
          117,
          111,
          89,
          93,
          92,
          105,
          102,
          94,
          116,
          117,
          119,
          99,
          91,
          80,
          101,
          108,
          100,
          109,
          82,
          106,
          90,
          83,
          119,
          107,
          116,
          101,
          93,
          95,
          107,
          83,
          102,
          86,
          117,
          111,
          95,
          91,
          93,
          92,
          104,
          103,
          92,
          93,
          120,
          108,
          105,
          98,
          111,
          97,
          95,
          89,
          89,
          118,
          101,
          99,
          82,
          90,
          95,
          104,
          102,
          100,
          94,
          99,
          112,
          117,
          96,
          113,
          105,
          85,
          108,
          92,
          110,
          82,
          117,
          2,
          39,
          21,
          25,
          0,
          20,
          19,
          18,
          11,
          30,
          18,
          23,
          37,
          11,
          12,
          3,
          37,
          26,
          14,
          40,
          4,
          36,
          30,
          28,
          38,
          12,
          38,
          8,
          15,
          34,
          11,
          33,
          12,
          12,
          5,
          1,
          16,
          35,
          4,
          9,
          2,
          26,
          34,
          5,
          31,
          34,
          36,
          7,
          38,
          5,
          37,
          21,
          37,
          23,
          36,
          24,
          26,
          22,
          11,
          29,
          22,
          23,
          1,
          2,
          39,
          15,
          3,
          8,
          33,
          14,
          18,
          9,
          20,
          9,
          26,
          31,
          14,
          40,
          28,
          0,
          1,
          2,
          12,
          7,
          0,
          26,
          27,
          22,
          22,
          28,
          7,
          29,
          8,
          39,
          40,
          19,
          21,
          22,
          31,
          18,
          24,
          13,
          22,
          36,
          24,
          2,
          35,
          11,
          6,
          17,
          25,
          27,
          9,
          16,
          32,
          22,
          31,
          3,
          28,
          4,
          39,
          38,
          36,
          25,
          15,
          24,
          13,
          5,
          30,
          23,
          26,
          7,
          32,
          9,
          20,
          32,
          3,
          38,
          14,
          20,
          40,
          36,
          11,
          0,
          19,
          31,
          4,
          39,
          8,
          39,
          32,
          12,
          8,
          8,
          21,
          40,
          39,
          19,
          21,
          17,
          33,
          22,
          32,
          37,
          15,
          39,
          40,
          40,
          29,
          32,
          6,
          8,
          34,
          35,
          16,
          8,
          25,
          16,
          39,
          38,
          33,
          35,
          1,
          39,
          28,
          6,
          6,
          29,
          37,
          38,
          38,
          14,
          6,
          32,
          11,
          23,
          40,
          6,
          37,
          35,
          119,
          119,
          105,
          114,
          93,
          80,
          85,
          85,
          82,
          118,
          83,
          86,
          101,
          119,
          104,
          95,
          102,
          109,
          81,
          103,
          105,
          97,
          120,
          95,
          83,
          83,
          91,
          116,
          112,
          88,
          118,
          92,
          106,
          99,
          98,
          108,
          119,
          117,
          109,
          80,
          100,
          91,
          86,
          107,
          103,
          101,
          85,
          84,
          102,
          98,
          97,
          90,
          95,
          82,
          82,
          110,
          118,
          120,
          91,
          81,
          101,
          101,
          111,
          107,
          115,
          84,
          120,
          91,
          89,
          113,
          97,
          117,
          90,
          104,
          81,
          88,
          92,
          81,
          111,
          108,
          113,
          83,
          101,
          114,
          99,
          92,
          92,
          91,
          110,
          112,
          89,
          100,
          83,
          95,
          119,
          97,
          110,
          96,
          83,
          120,
          115,
          114,
          101,
          118,
          95,
          81,
          117,
          114,
          113,
          108,
          81,
          115,
          83,
          84,
          109,
          95,
          119,
          110,
          82,
          87,
          85,
          100,
          107,
          91,
          102,
          117,
          85,
          104,
          102,
          116,
          100,
          110,
          104,
          107,
          98,
          88,
          87,
          120,
          95,
          108,
          82,
          120,
          110,
          95,
          106,
          99,
          106,
          83,
          117,
          98,
          113,
          101,
          98,
          93,
          95,
          109,
          118,
          100,
          89,
          95,
          95,
          87,
          93,
          84,
          111,
          111,
          111,
          89,
          110,
          95,
          115,
          120,
          102,
          94,
          84,
          107,
          80,
          86,
          113,
          115,
          82,
          98,
          117,
          83,
          120,
          111,
          85,
          90,
          99,
          102,
          80,
          87,
          114,
          99,
          89,
          96,
          82,
          106,
          90,
          106,
          24,
          7,
          14,
          8,
          20,
          32,
          27,
          0,
          22,
          1,
          30,
          29,
          13,
          9,
          0,
          30,
          36,
          37,
          33,
          7,
          35,
          29,
          2,
          34,
          29,
          32,
          13,
          25,
          9,
          6,
          37,
          2,
          11,
          10,
          24,
          23,
          18,
          13,
          26,
          28,
          26,
          21,
          21,
          5,
          2,
          15,
          31,
          25,
          16,
          19,
          10,
          20,
          28,
          28,
          2,
          2,
          27,
          30,
          32,
          29,
          26,
          40,
          6,
          35,
          17,
          33,
          16,
          27,
          29,
          3,
          15,
          5,
          10,
          7,
          2,
          29,
          30,
          29,
          14,
          18,
          33,
          40,
          9,
          38,
          28,
          35,
          12,
          1,
          0,
          31,
          35,
          29,
          33,
          14,
          35,
          40,
          25,
          31,
          36,
          10,
          22,
          37,
          27,
          7,
          20,
          26,
          5,
          0,
          39,
          13,
          21,
          33,
          6,
          19,
          24,
          9,
          31,
          22,
          13,
          16,
          4,
          0,
          8,
          4,
          33,
          30,
          21,
          11,
          9,
          5,
          29,
          33,
          8,
          15,
          16,
          0,
          5,
          6,
          10,
          1,
          1,
          0,
          24,
          36,
          40,
          40,
          32,
          9,
          13,
          15,
          29,
          1,
          18,
          14,
          33,
          4,
          17,
          12,
          34,
          39,
          31,
          12,
          12,
          26,
          19,
          39,
          16,
          36,
          37,
          39,
          31,
          18,
          20,
          5,
          20,
          25,
          14,
          37,
          26,
          13,
          32,
          19,
          28,
          24,
          7,
          18,
          7,
          20,
          18,
          34,
          20,
          37,
          12,
          34,
          6,
          27,
          13,
          6,
          40,
          31,
          61,
          58,
          45,
          39,
          31,
          70,
          68,
          34,
          38,
          69,
          58,
          59,
          44,
          56,
          69,
          56,
          49,
          38,
          54,
          57,
          39,
          58,
          61,
          34,
          31,
          47,
          32,
          36,
          61,
          70,
          44,
          34,
          50,
          39,
          34,
          44,
          31,
          65,
          44,
          50,
          43,
          60,
          70,
          59,
          60,
          42,
          35,
          34,
          36,
          39,
          37,
          33,
          34,
          49,
          40,
          68,
          50,
          65,
          40,
          42,
          49,
          59,
          63,
          70,
          63,
          40,
          63,
          45,
          66,
          54,
          69,
          67,
          45,
          56,
          70,
          44,
          50,
          52,
          35,
          68,
          32,
          32,
          48,
          39,
          49,
          48,
          69,
          53,
          38,
          57,
          51,
          56,
          54,
          58,
          68,
          42,
          43,
          35,
          56,
          39,
          18,
          37,
          13,
          2,
          10,
          7,
          39,
          34,
          31,
          25,
          16,
          26,
          27,
          37,
          19,
          0,
          31,
          9,
          22,
          31,
          34,
          24,
          1,
          31,
          10,
          36,
          38,
          11,
          16,
          33,
          16,
          32,
          38,
          8,
          23,
          29,
          24,
          32,
          30,
          14,
          27,
          40,
          17,
          30,
          28,
          39,
          32,
          7,
          29,
          34,
          14,
          18,
          7,
          24,
          39,
          29,
          10,
          0,
          32,
          37,
          20,
          31,
          17,
          1,
          6,
          15,
          27,
          3,
          8,
          20,
          26,
          1,
          27,
          23,
          0,
          38,
          25,
          40,
          0,
          26,
          35,
          19,
          31,
          17,
          2,
          30,
          8,
          18,
          8,
          40,
          27,
          21,
          3,
          22,
          27,
          22,
          28,
          23,
          37,
          19,
          133,
          136,
          104,
          133,
          126,
          126,
          113,
          121,
          121,
          129,
          107,
          122,
          140,
          102,
          111,
          131,
          135,
          100,
          123,
          117,
          121,
          101,
          107,
          100,
          125,
          105,
          102,
          131,
          139,
          108,
          118,
          107,
          125,
          113,
          131,
          115,
          113,
          111,
          111,
          122,
          108,
          132,
          103,
          133,
          127,
          110,
          131,
          108,
          122,
          111,
          140,
          100,
          123,
          107,
          118,
          103,
          133,
          129,
          116,
          114,
          131,
          107,
          123,
          112,
          119,
          130,
          127,
          134,
          109,
          100,
          132,
          102,
          111,
          117,
          136,
          134,
          112,
          105,
          140,
          126,
          106,
          121,
          108,
          116,
          100,
          129,
          118,
          117,
          126,
          120,
          102,
          131,
          114,
          101,
          106,
          113,
          102,
          110,
          107,
          120,
          89,
          60,
          63,
          86,
          96,
          100,
          63,
          70,
          67,
          74,
          89,
          74,
          89,
          60,
          67,
          70,
          74,
          90,
          82,
          73,
          85,
          81,
          84,
          80,
          76,
          76,
          81,
          76,
          69,
          82,
          69,
          81,
          67,
          72,
          65,
          78,
          77,
          89,
          62,
          90,
          66,
          80,
          89,
          77,
          94,
          75,
          60,
          62,
          84,
          100,
          75,
          78,
          82,
          100,
          88,
          67,
          72,
          89,
          89,
          61,
          79,
          84,
          98,
          75,
          89,
          91,
          77,
          66,
          62,
          82,
          61,
          99,
          70,
          90,
          73,
          67,
          84,
          72,
          71,
          64,
          65,
          60,
          86,
          90,
          91,
          87,
          72,
          71,
          82,
          71,
          80,
          77,
          95,
          63,
          93,
          87,
          88,
          90,
          90,
          84,
          91,
          107,
          83,
          108,
          116,
          116,
          109,
          89,
          118,
          111,
          84,
          85,
          99,
          81,
          95,
          81,
          80,
          104,
          109,
          100,
          100,
          83,
          120,
          104,
          108,
          91,
          86,
          98,
          111,
          84,
          98,
          118,
          103,
          82,
          86,
          88,
          84,
          120,
          106,
          113,
          117,
          80,
          88,
          113,
          87,
          113,
          98,
          97,
          85,
          82,
          103,
          112,
          99,
          120,
          114,
          100,
          108,
          115,
          87,
          82,
          94,
          87,
          118,
          87,
          92,
          97,
          99,
          89,
          112,
          111,
          114,
          117,
          111,
          119,
          116,
          95,
          86,
          117,
          105,
          109,
          80,
          101,
          103,
          93,
          104,
          116,
          107,
          101,
          107,
          99,
          103,
          118,
          106,
          116,
          97,
          107,
          99,
          118,
          117,
          104
         ],
         "y": [
          42,
          58,
          55,
          35,
          42,
          37,
          55,
          53,
          54,
          58,
          53,
          46,
          58,
          56,
          50,
          48,
          38,
          35,
          38,
          35,
          45,
          40,
          59,
          41,
          47,
          53,
          59,
          50,
          49,
          51,
          57,
          35,
          37,
          53,
          54,
          55,
          57,
          39,
          43,
          44,
          42,
          45,
          60,
          40,
          52,
          35,
          49,
          39,
          43,
          55,
          36,
          60,
          56,
          60,
          52,
          38,
          54,
          36,
          46,
          55,
          40,
          58,
          58,
          36,
          47,
          41,
          54,
          59,
          46,
          56,
          52,
          45,
          42,
          43,
          54,
          36,
          47,
          35,
          36,
          41,
          57,
          45,
          53,
          43,
          58,
          60,
          43,
          50,
          53,
          50,
          53,
          44,
          45,
          40,
          51,
          46,
          47,
          55,
          35,
          37,
          54,
          44,
          43,
          58,
          38,
          41,
          41,
          60,
          44,
          60,
          44,
          49,
          52,
          44,
          54,
          58,
          47,
          41,
          53,
          55,
          57,
          50,
          56,
          45,
          48,
          51,
          39,
          49,
          48,
          54,
          35,
          43,
          57,
          35,
          46,
          44,
          56,
          55,
          35,
          57,
          56,
          44,
          48,
          60,
          51,
          46,
          60,
          58,
          43,
          43,
          36,
          36,
          60,
          38,
          54,
          38,
          44,
          58,
          44,
          35,
          45,
          60,
          51,
          36,
          48,
          53,
          45,
          45,
          35,
          54,
          39,
          48,
          37,
          50,
          39,
          52,
          39,
          49,
          42,
          38,
          52,
          40,
          57,
          52,
          59,
          38,
          60,
          37,
          58,
          60,
          59,
          55,
          51,
          48,
          60,
          57,
          35,
          54,
          58,
          57,
          72,
          72,
          58,
          72,
          67,
          73,
          70,
          70,
          62,
          74,
          66,
          66,
          63,
          62,
          62,
          72,
          56,
          71,
          78,
          70,
          80,
          68,
          78,
          68,
          62,
          67,
          65,
          60,
          77,
          68,
          76,
          79,
          60,
          78,
          79,
          58,
          58,
          55,
          76,
          61,
          60,
          55,
          76,
          68,
          66,
          64,
          60,
          76,
          60,
          68,
          79,
          74,
          55,
          77,
          60,
          67,
          66,
          71,
          69,
          79,
          56,
          72,
          73,
          64,
          73,
          75,
          59,
          69,
          56,
          76,
          74,
          71,
          73,
          70,
          57,
          79,
          71,
          76,
          75,
          80,
          62,
          79,
          57,
          73,
          61,
          78,
          75,
          55,
          65,
          60,
          61,
          67,
          76,
          63,
          65,
          56,
          65,
          56,
          58,
          69,
          60,
          70,
          55,
          64,
          61,
          65,
          57,
          80,
          59,
          59,
          58,
          57,
          80,
          60,
          78,
          77,
          79,
          80,
          55,
          65,
          78,
          65,
          70,
          64,
          71,
          79,
          63,
          80,
          60,
          75,
          77,
          72,
          73,
          77,
          62,
          59,
          59,
          62,
          63,
          79,
          72,
          64,
          66,
          57,
          56,
          77,
          65,
          72,
          60,
          80,
          72,
          67,
          69,
          77,
          62,
          71,
          79,
          59,
          63,
          56,
          63,
          67,
          71,
          74,
          76,
          66,
          69,
          65,
          74,
          67,
          56,
          59,
          61,
          80,
          61,
          74,
          69,
          75,
          68,
          65,
          79,
          78,
          55,
          59,
          68,
          68,
          64,
          69,
          67,
          69,
          73,
          78,
          72,
          67,
          56,
          65,
          63,
          70,
          63,
          60,
          72,
          59,
          73,
          57,
          79,
          75,
          70,
          55,
          58,
          61,
          58,
          56,
          72,
          80,
          72,
          62,
          58,
          68,
          67,
          70,
          63,
          76,
          55,
          75,
          71,
          70,
          72,
          66,
          56,
          76,
          69,
          73,
          61,
          71,
          61,
          73,
          72,
          64,
          74,
          60,
          66,
          59,
          67,
          76,
          73,
          75,
          70,
          59,
          62,
          67,
          66,
          73,
          67,
          55,
          56,
          77,
          73,
          63,
          77,
          64,
          75,
          77,
          80,
          75,
          80,
          77,
          78,
          60,
          74,
          57,
          60,
          77,
          68,
          73,
          59,
          72,
          56,
          70,
          74,
          67,
          74,
          72,
          68,
          57,
          62,
          55,
          77,
          75,
          71,
          64,
          55,
          69,
          67,
          74,
          64,
          71,
          72,
          60,
          71,
          61,
          49,
          59,
          58,
          43,
          54,
          43,
          55,
          35,
          57,
          53,
          49,
          56,
          43,
          38,
          45,
          57,
          35,
          55,
          45,
          58,
          44,
          49,
          51,
          48,
          50,
          56,
          60,
          37,
          43,
          43,
          44,
          43,
          45,
          56,
          57,
          45,
          36,
          57,
          47,
          49,
          51,
          44,
          38,
          57,
          48,
          44,
          51,
          44,
          35,
          60,
          58,
          42,
          39,
          36,
          41,
          41,
          36,
          46,
          39,
          57,
          55,
          51,
          56,
          57,
          36,
          41,
          38,
          37,
          35,
          45,
          58,
          56,
          56,
          51,
          42,
          59,
          45,
          40,
          45,
          52,
          45,
          54,
          51,
          41,
          50,
          40,
          54,
          55,
          59,
          45,
          38,
          58,
          55,
          36,
          52,
          59,
          51,
          47,
          51,
          51,
          55,
          54,
          55,
          56,
          56,
          57,
          59,
          51,
          49,
          39,
          35,
          52,
          42,
          46,
          38,
          60,
          53,
          58,
          35,
          53,
          47,
          53,
          45,
          37,
          60,
          45,
          57,
          57,
          57,
          59,
          41,
          48,
          36,
          36,
          59,
          48,
          50,
          40,
          43,
          57,
          60,
          59,
          60,
          47,
          45,
          39,
          40,
          48,
          59,
          48,
          43,
          46,
          47,
          44,
          58,
          40,
          38,
          48,
          49,
          38,
          58,
          44,
          59,
          48,
          41,
          52,
          48,
          41,
          37,
          35,
          41,
          50,
          35,
          37,
          39,
          45,
          37,
          51,
          56,
          40,
          36,
          37,
          47,
          44,
          59,
          56,
          45,
          39,
          37,
          37,
          54,
          51,
          54,
          45,
          40,
          37,
          44,
          45,
          45,
          48,
          79,
          62,
          61,
          73,
          58,
          55,
          72,
          64,
          64,
          74,
          73,
          67,
          63,
          66,
          56,
          66,
          55,
          58,
          65,
          62,
          71,
          71,
          71,
          63,
          60,
          61,
          68,
          62,
          66,
          63,
          72,
          65,
          78,
          67,
          60,
          76,
          78,
          60,
          75,
          72,
          80,
          76,
          68,
          78,
          64,
          80,
          68,
          67,
          70,
          74,
          67,
          80,
          79,
          75,
          55,
          68,
          68,
          76,
          60,
          72,
          68,
          62,
          65,
          64,
          58,
          75,
          66,
          70,
          57,
          58,
          62,
          75,
          80,
          76,
          76,
          61,
          60,
          63,
          67,
          63,
          68,
          61,
          74,
          79,
          62,
          60,
          65,
          55,
          62,
          59,
          77,
          58,
          63,
          63,
          70,
          73,
          77,
          79,
          77,
          62,
          76,
          61,
          60,
          74,
          71,
          71,
          72,
          59,
          64,
          58,
          77,
          75,
          69,
          80,
          78,
          79,
          62,
          60,
          67,
          78,
          80,
          61,
          66,
          61,
          60,
          66,
          56,
          72,
          77,
          65,
          79,
          63,
          78,
          78,
          67,
          65,
          72,
          57,
          58,
          58,
          65,
          65,
          65,
          69,
          55,
          61,
          79,
          63,
          61,
          70,
          74,
          64,
          58,
          79,
          68,
          79,
          77,
          74,
          68,
          75,
          78,
          79,
          60,
          69,
          67,
          67,
          67,
          70,
          71,
          68,
          66,
          65,
          59,
          59,
          63,
          69,
          75,
          61,
          74,
          74,
          63,
          56,
          74,
          76,
          65,
          67,
          79,
          61,
          70,
          80,
          77,
          67,
          73,
          56,
          70,
          56,
          77,
          59,
          73,
          77,
          24,
          18,
          26,
          18,
          27,
          25,
          21,
          30,
          27,
          11,
          5,
          10,
          7,
          20,
          22,
          15,
          27,
          18,
          15,
          23,
          8,
          27,
          23,
          16,
          29,
          17,
          21,
          6,
          23,
          16,
          18,
          21,
          23,
          17,
          25,
          18,
          19,
          24,
          24,
          17,
          30,
          29,
          24,
          21,
          11,
          25,
          22,
          21,
          26,
          18,
          6,
          21,
          5,
          7,
          13,
          24,
          23,
          20,
          19,
          9,
          27,
          30,
          21,
          30,
          11,
          9,
          27,
          29,
          25,
          14,
          9,
          14,
          21,
          23,
          6,
          5,
          9,
          8,
          11,
          17,
          5,
          28,
          13,
          9,
          27,
          25,
          7,
          10,
          18,
          26,
          16,
          20,
          9,
          30,
          25,
          23,
          14,
          17,
          24,
          28,
          94,
          95,
          92,
          76,
          77,
          94,
          92,
          89,
          88,
          77,
          88,
          87,
          75,
          85,
          95,
          79,
          95,
          79,
          76,
          86,
          94,
          78,
          70,
          71,
          79,
          78,
          73,
          76,
          87,
          83,
          91,
          81,
          74,
          71,
          91,
          71,
          79,
          72,
          73,
          84,
          90,
          70,
          89,
          80,
          91,
          78,
          70,
          86,
          95,
          90,
          72,
          81,
          75,
          81,
          75,
          71,
          94,
          73,
          79,
          86,
          79,
          74,
          75,
          83,
          85,
          80,
          72,
          75,
          85,
          87,
          72,
          88,
          79,
          88,
          74,
          82,
          91,
          85,
          88,
          92,
          92,
          77,
          86,
          88,
          73,
          73,
          74,
          89,
          70,
          87,
          82,
          86,
          85,
          93,
          89,
          94,
          81,
          71,
          75,
          81,
          40,
          24,
          26,
          22,
          21,
          19,
          21,
          17,
          36,
          28,
          19,
          23,
          30,
          27,
          19,
          28,
          38,
          37,
          18,
          16,
          20,
          25,
          17,
          37,
          15,
          37,
          19,
          33,
          27,
          16,
          36,
          29,
          31,
          34,
          16,
          30,
          35,
          18,
          40,
          29,
          38,
          32,
          38,
          32,
          29,
          34,
          19,
          17,
          15,
          19,
          36,
          31,
          36,
          23,
          26,
          33,
          18,
          17,
          34,
          35,
          28,
          24,
          35,
          24,
          37,
          36,
          18,
          38,
          31,
          29,
          20,
          21,
          30,
          38,
          24,
          36,
          18,
          16,
          27,
          17,
          29,
          36,
          27,
          28,
          36,
          35,
          21,
          38,
          18,
          23,
          31,
          34,
          37,
          16,
          24,
          38,
          21,
          18,
          20,
          26,
          130,
          144,
          123,
          125,
          131,
          123,
          140,
          122,
          123,
          134,
          130,
          145,
          122,
          139,
          141,
          138,
          144,
          136,
          122,
          136,
          145,
          132,
          133,
          121,
          125,
          140,
          132,
          126,
          120,
          142,
          135,
          126,
          139,
          141,
          142,
          129,
          134,
          138,
          131,
          122,
          126,
          128,
          132,
          137,
          123,
          136,
          134,
          139,
          127,
          138,
          120,
          142,
          133,
          139,
          134,
          140,
          127,
          120,
          139,
          136,
          139,
          133,
          130,
          135,
          140,
          132,
          121,
          132,
          142,
          121,
          140,
          120,
          133,
          135,
          145,
          136,
          129,
          130,
          129,
          135,
          120,
          125,
          132,
          140,
          145,
          128,
          139,
          122,
          144,
          120,
          141,
          121,
          125,
          138,
          124,
          138,
          143,
          142,
          124,
          134,
          25,
          19,
          30,
          8,
          22,
          26,
          27,
          22,
          22,
          13,
          25,
          15,
          10,
          9,
          17,
          12,
          14,
          21,
          18,
          17,
          14,
          8,
          19,
          16,
          29,
          9,
          21,
          5,
          28,
          29,
          15,
          21,
          14,
          5,
          8,
          22,
          7,
          27,
          10,
          16,
          18,
          7,
          6,
          5,
          16,
          20,
          25,
          7,
          28,
          25,
          25,
          16,
          12,
          23,
          25,
          28,
          21,
          20,
          7,
          6,
          13,
          17,
          6,
          10,
          11,
          25,
          7,
          12,
          22,
          19,
          22,
          30,
          14,
          23,
          16,
          5,
          7,
          18,
          5,
          23,
          30,
          10,
          11,
          21,
          6,
          20,
          7,
          24,
          21,
          25,
          25,
          10,
          22,
          14,
          30,
          12,
          7,
          18,
          23,
          24,
          17,
          27,
          25,
          18,
          26,
          25,
          24,
          30,
          6,
          26,
          30,
          9,
          7,
          21,
          26,
          27,
          5,
          14,
          18,
          14,
          9,
          6,
          12,
          13,
          25,
          25,
          21,
          25,
          24,
          25,
          17,
          25,
          25,
          11,
          26,
          17,
          25,
          8,
          13,
          22,
          13,
          23,
          22,
          23,
          10,
          12,
          20,
          11,
          19,
          26,
          20,
          17,
          7,
          22,
          21,
          12,
          12,
          14,
          9,
          16,
          7,
          6,
          20,
          29,
          5,
          5,
          15,
          11,
          15,
          30,
          12,
          25,
          11,
          5,
          18,
          22,
          18,
          18,
          28,
          18,
          20,
          22,
          25,
          15,
          16,
          5,
          21,
          23,
          29,
          11,
          18,
          21,
          8,
          6,
          25,
          13,
          26,
          21,
          15,
          16,
          128,
          144,
          128,
          120,
          129,
          137,
          139,
          123,
          144,
          124,
          122,
          121,
          126,
          139,
          133,
          143,
          140,
          137,
          121,
          144,
          128,
          128,
          143,
          140,
          144,
          141,
          144,
          143,
          137,
          144,
          126,
          120,
          143,
          141,
          142,
          138,
          125,
          121,
          122,
          123,
          121,
          137,
          135,
          144,
          123,
          133,
          130,
          143,
          143,
          122,
          125,
          139,
          123,
          136,
          131,
          140,
          138,
          127,
          145,
          139,
          126,
          136,
          124,
          138,
          136,
          134,
          143,
          120,
          145,
          141,
          123,
          136,
          136,
          141,
          129,
          138,
          137,
          132,
          139,
          125,
          143,
          144,
          143,
          135,
          130,
          142,
          129,
          135,
          145,
          121,
          131,
          140,
          138,
          140,
          145,
          120,
          132,
          137,
          144,
          140,
          30,
          6,
          13,
          16,
          7,
          27,
          23,
          18,
          24,
          23,
          17,
          12,
          9,
          7,
          18,
          11,
          8,
          17,
          5,
          8,
          13,
          25,
          7,
          23,
          14,
          7,
          29,
          14,
          8,
          18,
          25,
          12,
          16,
          14,
          7,
          12,
          25,
          8,
          5,
          17,
          30,
          23,
          27,
          11,
          21,
          22,
          18,
          10,
          16,
          9,
          11,
          15,
          5,
          22,
          15,
          6,
          16,
          20,
          29,
          28,
          25,
          6,
          29,
          11,
          24,
          21,
          29,
          29,
          23,
          9,
          5,
          12,
          20,
          8,
          8,
          21,
          19,
          18,
          15,
          22,
          25,
          7,
          7,
          30,
          17,
          23,
          20,
          23,
          14,
          11,
          29,
          24,
          8,
          10,
          13,
          30,
          8,
          7,
          17,
          26,
          68,
          46,
          47,
          65,
          68,
          68,
          62,
          65,
          68,
          64,
          51,
          47,
          64,
          57,
          60,
          58,
          55,
          51,
          65,
          57,
          52,
          67,
          64,
          62,
          48,
          46,
          68,
          59,
          51,
          54,
          56,
          68,
          59,
          70,
          61,
          60,
          62,
          62,
          57,
          47,
          50,
          46,
          68,
          62,
          58,
          60,
          66,
          65,
          54,
          64,
          52,
          47,
          48,
          54,
          65,
          52,
          46,
          63,
          49,
          53,
          55,
          62,
          58,
          65,
          50,
          64,
          58,
          58,
          69,
          67,
          67,
          68,
          57,
          50,
          50,
          47,
          60,
          51,
          68,
          69,
          55,
          55,
          62,
          69,
          61,
          57,
          66,
          55,
          61,
          64,
          57,
          65,
          66,
          55,
          70,
          59,
          64,
          67,
          59,
          64,
          30,
          23,
          28,
          21,
          18,
          11,
          5,
          6,
          30,
          7,
          18,
          10,
          8,
          18,
          15,
          19,
          20,
          17,
          11,
          6,
          6,
          6,
          8,
          13,
          9,
          27,
          24,
          6,
          14,
          14,
          6,
          11,
          14,
          6,
          6,
          25,
          14,
          12,
          25,
          21,
          22,
          5,
          11,
          30,
          10,
          7,
          20,
          15,
          17,
          15,
          23,
          19,
          21,
          27,
          29,
          8,
          24,
          29,
          11,
          10,
          29,
          29,
          30,
          12,
          13,
          28,
          24,
          23,
          26,
          28,
          18,
          6,
          30,
          7,
          26,
          6,
          12,
          5,
          19,
          9,
          30,
          30,
          13,
          29,
          30,
          13,
          15,
          12,
          28,
          22,
          10,
          20,
          9,
          16,
          8,
          8,
          27,
          21,
          5,
          26,
          47,
          36,
          47,
          47,
          38,
          50,
          41,
          45,
          47,
          60,
          45,
          59,
          38,
          49,
          40,
          35,
          43,
          46,
          39,
          56,
          36,
          58,
          42,
          41,
          39,
          60,
          46,
          49,
          35,
          36,
          45,
          51,
          60,
          37,
          52,
          48,
          38,
          41,
          53,
          48,
          46,
          41,
          42,
          50,
          37,
          39,
          38,
          38,
          40,
          50,
          40,
          40,
          50,
          36,
          50,
          51,
          57,
          47,
          52,
          40,
          60,
          43,
          44,
          49,
          44,
          59,
          53,
          52,
          36,
          48,
          52,
          37,
          39,
          51,
          36,
          56,
          54,
          56,
          45,
          46,
          49,
          53,
          60,
          56,
          52,
          43,
          44,
          43,
          37,
          48,
          45,
          56,
          40,
          37,
          46,
          38,
          53,
          39,
          58,
          60,
          47,
          37,
          41,
          40,
          41,
          35,
          37,
          43,
          55,
          40,
          53,
          46,
          41,
          55,
          43,
          38,
          49,
          40,
          35,
          45,
          53,
          56,
          55,
          45,
          54,
          56,
          40,
          44,
          47,
          40,
          57,
          36,
          60,
          51,
          39,
          50,
          52,
          52,
          49,
          48,
          47,
          52,
          52,
          51,
          37,
          41,
          55,
          56,
          40,
          56,
          56,
          46,
          48,
          58,
          50,
          41,
          42,
          40,
          57,
          41,
          45,
          40,
          43,
          36,
          58,
          41,
          48,
          58,
          59,
          35,
          41,
          57,
          42,
          59,
          43,
          46,
          37,
          41,
          56,
          53,
          54,
          58,
          39,
          50,
          38,
          48,
          41,
          54,
          46,
          52,
          43,
          55,
          57,
          47,
          43,
          44,
          52,
          39,
          39,
          38,
          21,
          21,
          38,
          24,
          28,
          23,
          31,
          25,
          18,
          32,
          36,
          33,
          15,
          30,
          39,
          34,
          15,
          20,
          29,
          32,
          24,
          21,
          23,
          26,
          33,
          25,
          26,
          18,
          27,
          39,
          27,
          21,
          27,
          24,
          31,
          35,
          27,
          40,
          40,
          21,
          34,
          30,
          21,
          33,
          23,
          15,
          29,
          29,
          35,
          29,
          33,
          17,
          19,
          20,
          27,
          40,
          35,
          31,
          28,
          24,
          26,
          28,
          40,
          38,
          40,
          22,
          40,
          28,
          39,
          28,
          20,
          26,
          29,
          30,
          40,
          37,
          40,
          37,
          18,
          23,
          18,
          31,
          33,
          26,
          35,
          36,
          38,
          33,
          31,
          16,
          40,
          31,
          21,
          38,
          35,
          34,
          15,
          33,
          32,
          18
         ]
        }
       ],
       "layout": {
        "template": {
         "data": {
          "bar": [
           {
            "error_x": {
             "color": "#2a3f5f"
            },
            "error_y": {
             "color": "#2a3f5f"
            },
            "marker": {
             "line": {
              "color": "#E5ECF6",
              "width": 0.5
             },
             "pattern": {
              "fillmode": "overlay",
              "size": 10,
              "solidity": 0.2
             }
            },
            "type": "bar"
           }
          ],
          "barpolar": [
           {
            "marker": {
             "line": {
              "color": "#E5ECF6",
              "width": 0.5
             },
             "pattern": {
              "fillmode": "overlay",
              "size": 10,
              "solidity": 0.2
             }
            },
            "type": "barpolar"
           }
          ],
          "carpet": [
           {
            "aaxis": {
             "endlinecolor": "#2a3f5f",
             "gridcolor": "white",
             "linecolor": "white",
             "minorgridcolor": "white",
             "startlinecolor": "#2a3f5f"
            },
            "baxis": {
             "endlinecolor": "#2a3f5f",
             "gridcolor": "white",
             "linecolor": "white",
             "minorgridcolor": "white",
             "startlinecolor": "#2a3f5f"
            },
            "type": "carpet"
           }
          ],
          "choropleth": [
           {
            "colorbar": {
             "outlinewidth": 0,
             "ticks": ""
            },
            "type": "choropleth"
           }
          ],
          "contour": [
           {
            "colorbar": {
             "outlinewidth": 0,
             "ticks": ""
            },
            "colorscale": [
             [
              0,
              "#0d0887"
             ],
             [
              0.1111111111111111,
              "#46039f"
             ],
             [
              0.2222222222222222,
              "#7201a8"
             ],
             [
              0.3333333333333333,
              "#9c179e"
             ],
             [
              0.4444444444444444,
              "#bd3786"
             ],
             [
              0.5555555555555556,
              "#d8576b"
             ],
             [
              0.6666666666666666,
              "#ed7953"
             ],
             [
              0.7777777777777778,
              "#fb9f3a"
             ],
             [
              0.8888888888888888,
              "#fdca26"
             ],
             [
              1,
              "#f0f921"
             ]
            ],
            "type": "contour"
           }
          ],
          "contourcarpet": [
           {
            "colorbar": {
             "outlinewidth": 0,
             "ticks": ""
            },
            "type": "contourcarpet"
           }
          ],
          "heatmap": [
           {
            "colorbar": {
             "outlinewidth": 0,
             "ticks": ""
            },
            "colorscale": [
             [
              0,
              "#0d0887"
             ],
             [
              0.1111111111111111,
              "#46039f"
             ],
             [
              0.2222222222222222,
              "#7201a8"
             ],
             [
              0.3333333333333333,
              "#9c179e"
             ],
             [
              0.4444444444444444,
              "#bd3786"
             ],
             [
              0.5555555555555556,
              "#d8576b"
             ],
             [
              0.6666666666666666,
              "#ed7953"
             ],
             [
              0.7777777777777778,
              "#fb9f3a"
             ],
             [
              0.8888888888888888,
              "#fdca26"
             ],
             [
              1,
              "#f0f921"
             ]
            ],
            "type": "heatmap"
           }
          ],
          "heatmapgl": [
           {
            "colorbar": {
             "outlinewidth": 0,
             "ticks": ""
            },
            "colorscale": [
             [
              0,
              "#0d0887"
             ],
             [
              0.1111111111111111,
              "#46039f"
             ],
             [
              0.2222222222222222,
              "#7201a8"
             ],
             [
              0.3333333333333333,
              "#9c179e"
             ],
             [
              0.4444444444444444,
              "#bd3786"
             ],
             [
              0.5555555555555556,
              "#d8576b"
             ],
             [
              0.6666666666666666,
              "#ed7953"
             ],
             [
              0.7777777777777778,
              "#fb9f3a"
             ],
             [
              0.8888888888888888,
              "#fdca26"
             ],
             [
              1,
              "#f0f921"
             ]
            ],
            "type": "heatmapgl"
           }
          ],
          "histogram": [
           {
            "marker": {
             "pattern": {
              "fillmode": "overlay",
              "size": 10,
              "solidity": 0.2
             }
            },
            "type": "histogram"
           }
          ],
          "histogram2d": [
           {
            "colorbar": {
             "outlinewidth": 0,
             "ticks": ""
            },
            "colorscale": [
             [
              0,
              "#0d0887"
             ],
             [
              0.1111111111111111,
              "#46039f"
             ],
             [
              0.2222222222222222,
              "#7201a8"
             ],
             [
              0.3333333333333333,
              "#9c179e"
             ],
             [
              0.4444444444444444,
              "#bd3786"
             ],
             [
              0.5555555555555556,
              "#d8576b"
             ],
             [
              0.6666666666666666,
              "#ed7953"
             ],
             [
              0.7777777777777778,
              "#fb9f3a"
             ],
             [
              0.8888888888888888,
              "#fdca26"
             ],
             [
              1,
              "#f0f921"
             ]
            ],
            "type": "histogram2d"
           }
          ],
          "histogram2dcontour": [
           {
            "colorbar": {
             "outlinewidth": 0,
             "ticks": ""
            },
            "colorscale": [
             [
              0,
              "#0d0887"
             ],
             [
              0.1111111111111111,
              "#46039f"
             ],
             [
              0.2222222222222222,
              "#7201a8"
             ],
             [
              0.3333333333333333,
              "#9c179e"
             ],
             [
              0.4444444444444444,
              "#bd3786"
             ],
             [
              0.5555555555555556,
              "#d8576b"
             ],
             [
              0.6666666666666666,
              "#ed7953"
             ],
             [
              0.7777777777777778,
              "#fb9f3a"
             ],
             [
              0.8888888888888888,
              "#fdca26"
             ],
             [
              1,
              "#f0f921"
             ]
            ],
            "type": "histogram2dcontour"
           }
          ],
          "mesh3d": [
           {
            "colorbar": {
             "outlinewidth": 0,
             "ticks": ""
            },
            "type": "mesh3d"
           }
          ],
          "parcoords": [
           {
            "line": {
             "colorbar": {
              "outlinewidth": 0,
              "ticks": ""
             }
            },
            "type": "parcoords"
           }
          ],
          "pie": [
           {
            "automargin": true,
            "type": "pie"
           }
          ],
          "scatter": [
           {
            "fillpattern": {
             "fillmode": "overlay",
             "size": 10,
             "solidity": 0.2
            },
            "type": "scatter"
           }
          ],
          "scatter3d": [
           {
            "line": {
             "colorbar": {
              "outlinewidth": 0,
              "ticks": ""
             }
            },
            "marker": {
             "colorbar": {
              "outlinewidth": 0,
              "ticks": ""
             }
            },
            "type": "scatter3d"
           }
          ],
          "scattercarpet": [
           {
            "marker": {
             "colorbar": {
              "outlinewidth": 0,
              "ticks": ""
             }
            },
            "type": "scattercarpet"
           }
          ],
          "scattergeo": [
           {
            "marker": {
             "colorbar": {
              "outlinewidth": 0,
              "ticks": ""
             }
            },
            "type": "scattergeo"
           }
          ],
          "scattergl": [
           {
            "marker": {
             "colorbar": {
              "outlinewidth": 0,
              "ticks": ""
             }
            },
            "type": "scattergl"
           }
          ],
          "scattermapbox": [
           {
            "marker": {
             "colorbar": {
              "outlinewidth": 0,
              "ticks": ""
             }
            },
            "type": "scattermapbox"
           }
          ],
          "scatterpolar": [
           {
            "marker": {
             "colorbar": {
              "outlinewidth": 0,
              "ticks": ""
             }
            },
            "type": "scatterpolar"
           }
          ],
          "scatterpolargl": [
           {
            "marker": {
             "colorbar": {
              "outlinewidth": 0,
              "ticks": ""
             }
            },
            "type": "scatterpolargl"
           }
          ],
          "scatterternary": [
           {
            "marker": {
             "colorbar": {
              "outlinewidth": 0,
              "ticks": ""
             }
            },
            "type": "scatterternary"
           }
          ],
          "surface": [
           {
            "colorbar": {
             "outlinewidth": 0,
             "ticks": ""
            },
            "colorscale": [
             [
              0,
              "#0d0887"
             ],
             [
              0.1111111111111111,
              "#46039f"
             ],
             [
              0.2222222222222222,
              "#7201a8"
             ],
             [
              0.3333333333333333,
              "#9c179e"
             ],
             [
              0.4444444444444444,
              "#bd3786"
             ],
             [
              0.5555555555555556,
              "#d8576b"
             ],
             [
              0.6666666666666666,
              "#ed7953"
             ],
             [
              0.7777777777777778,
              "#fb9f3a"
             ],
             [
              0.8888888888888888,
              "#fdca26"
             ],
             [
              1,
              "#f0f921"
             ]
            ],
            "type": "surface"
           }
          ],
          "table": [
           {
            "cells": {
             "fill": {
              "color": "#EBF0F8"
             },
             "line": {
              "color": "white"
             }
            },
            "header": {
             "fill": {
              "color": "#C8D4E3"
             },
             "line": {
              "color": "white"
             }
            },
            "type": "table"
           }
          ]
         },
         "layout": {
          "annotationdefaults": {
           "arrowcolor": "#2a3f5f",
           "arrowhead": 0,
           "arrowwidth": 1
          },
          "autotypenumbers": "strict",
          "coloraxis": {
           "colorbar": {
            "outlinewidth": 0,
            "ticks": ""
           }
          },
          "colorscale": {
           "diverging": [
            [
             0,
             "#8e0152"
            ],
            [
             0.1,
             "#c51b7d"
            ],
            [
             0.2,
             "#de77ae"
            ],
            [
             0.3,
             "#f1b6da"
            ],
            [
             0.4,
             "#fde0ef"
            ],
            [
             0.5,
             "#f7f7f7"
            ],
            [
             0.6,
             "#e6f5d0"
            ],
            [
             0.7,
             "#b8e186"
            ],
            [
             0.8,
             "#7fbc41"
            ],
            [
             0.9,
             "#4d9221"
            ],
            [
             1,
             "#276419"
            ]
           ],
           "sequential": [
            [
             0,
             "#0d0887"
            ],
            [
             0.1111111111111111,
             "#46039f"
            ],
            [
             0.2222222222222222,
             "#7201a8"
            ],
            [
             0.3333333333333333,
             "#9c179e"
            ],
            [
             0.4444444444444444,
             "#bd3786"
            ],
            [
             0.5555555555555556,
             "#d8576b"
            ],
            [
             0.6666666666666666,
             "#ed7953"
            ],
            [
             0.7777777777777778,
             "#fb9f3a"
            ],
            [
             0.8888888888888888,
             "#fdca26"
            ],
            [
             1,
             "#f0f921"
            ]
           ],
           "sequentialminus": [
            [
             0,
             "#0d0887"
            ],
            [
             0.1111111111111111,
             "#46039f"
            ],
            [
             0.2222222222222222,
             "#7201a8"
            ],
            [
             0.3333333333333333,
             "#9c179e"
            ],
            [
             0.4444444444444444,
             "#bd3786"
            ],
            [
             0.5555555555555556,
             "#d8576b"
            ],
            [
             0.6666666666666666,
             "#ed7953"
            ],
            [
             0.7777777777777778,
             "#fb9f3a"
            ],
            [
             0.8888888888888888,
             "#fdca26"
            ],
            [
             1,
             "#f0f921"
            ]
           ]
          },
          "colorway": [
           "#636efa",
           "#EF553B",
           "#00cc96",
           "#ab63fa",
           "#FFA15A",
           "#19d3f3",
           "#FF6692",
           "#B6E880",
           "#FF97FF",
           "#FECB52"
          ],
          "font": {
           "color": "#2a3f5f"
          },
          "geo": {
           "bgcolor": "white",
           "lakecolor": "white",
           "landcolor": "#E5ECF6",
           "showlakes": true,
           "showland": true,
           "subunitcolor": "white"
          },
          "hoverlabel": {
           "align": "left"
          },
          "hovermode": "closest",
          "mapbox": {
           "style": "light"
          },
          "paper_bgcolor": "white",
          "plot_bgcolor": "#E5ECF6",
          "polar": {
           "angularaxis": {
            "gridcolor": "white",
            "linecolor": "white",
            "ticks": ""
           },
           "bgcolor": "#E5ECF6",
           "radialaxis": {
            "gridcolor": "white",
            "linecolor": "white",
            "ticks": ""
           }
          },
          "scene": {
           "xaxis": {
            "backgroundcolor": "#E5ECF6",
            "gridcolor": "white",
            "gridwidth": 2,
            "linecolor": "white",
            "showbackground": true,
            "ticks": "",
            "zerolinecolor": "white"
           },
           "yaxis": {
            "backgroundcolor": "#E5ECF6",
            "gridcolor": "white",
            "gridwidth": 2,
            "linecolor": "white",
            "showbackground": true,
            "ticks": "",
            "zerolinecolor": "white"
           },
           "zaxis": {
            "backgroundcolor": "#E5ECF6",
            "gridcolor": "white",
            "gridwidth": 2,
            "linecolor": "white",
            "showbackground": true,
            "ticks": "",
            "zerolinecolor": "white"
           }
          },
          "shapedefaults": {
           "line": {
            "color": "#2a3f5f"
           }
          },
          "ternary": {
           "aaxis": {
            "gridcolor": "white",
            "linecolor": "white",
            "ticks": ""
           },
           "baxis": {
            "gridcolor": "white",
            "linecolor": "white",
            "ticks": ""
           },
           "bgcolor": "#E5ECF6",
           "caxis": {
            "gridcolor": "white",
            "linecolor": "white",
            "ticks": ""
           }
          },
          "title": {
           "x": 0.05
          },
          "xaxis": {
           "automargin": true,
           "gridcolor": "white",
           "linecolor": "white",
           "ticks": "",
           "title": {
            "standoff": 15
           },
           "zerolinecolor": "white",
           "zerolinewidth": 2
          },
          "yaxis": {
           "automargin": true,
           "gridcolor": "white",
           "linecolor": "white",
           "ticks": "",
           "title": {
            "standoff": 15
           },
           "zerolinecolor": "white",
           "zerolinewidth": 2
          }
         }
        },
        "title": {
         "text": "N vs P"
        },
        "xaxis": {
         "title": {
          "text": "N"
         }
        },
        "yaxis": {
         "title": {
          "text": "P"
         }
        }
       }
      }
     },
     "metadata": {},
     "output_type": "display_data"
    }
   ],
   "source": [
    "feature1_name = 'N'  # Replace 'N' with the first feature name\n",
    "feature2_name = 'P'  # Replace 'P' with the second feature name\n",
    "\n",
    "# Create the scatter plot\n",
    "fig = go.Figure()\n",
    "fig.add_trace(go.Scatter(x=X[feature1_name], y=X[feature2_name], mode='markers', name=f'{feature1_name} vs {feature2_name}'))\n",
    "fig.update_layout(title=f'{feature1_name} vs {feature2_name}', xaxis_title=feature1_name, yaxis_title=feature2_name)\n",
    "fig.show()\n"
   ]
  },
  {
   "cell_type": "code",
   "execution_count": 6,
   "metadata": {},
   "outputs": [
    {
     "data": {
      "application/vnd.plotly.v1+json": {
       "config": {
        "plotlyServerURL": "https://plot.ly"
       },
       "data": [
        {
         "name": "N",
         "type": "histogram",
         "x": [
          90,
          85,
          60,
          74,
          78,
          69,
          69,
          94,
          89,
          68,
          91,
          90,
          78,
          93,
          94,
          60,
          85,
          91,
          77,
          88,
          89,
          76,
          67,
          83,
          98,
          66,
          97,
          97,
          60,
          84,
          73,
          92,
          85,
          98,
          88,
          95,
          99,
          95,
          60,
          63,
          62,
          64,
          83,
          82,
          85,
          91,
          76,
          74,
          79,
          88,
          60,
          76,
          93,
          65,
          95,
          75,
          74,
          91,
          71,
          99,
          72,
          83,
          93,
          70,
          76,
          99,
          99,
          86,
          69,
          91,
          61,
          67,
          79,
          78,
          75,
          97,
          67,
          73,
          77,
          81,
          68,
          72,
          61,
          67,
          67,
          66,
          82,
          84,
          81,
          91,
          93,
          90,
          81,
          78,
          60,
          88,
          93,
          60,
          78,
          65,
          71,
          61,
          80,
          73,
          61,
          68,
          93,
          89,
          76,
          67,
          70,
          90,
          62,
          92,
          66,
          63,
          70,
          61,
          66,
          74,
          77,
          99,
          74,
          83,
          100,
          79,
          94,
          75,
          78,
          87,
          87,
          63,
          84,
          64,
          60,
          98,
          75,
          86,
          98,
          76,
          99,
          60,
          74,
          89,
          69,
          96,
          61,
          74,
          74,
          63,
          99,
          77,
          87,
          60,
          94,
          95,
          84,
          77,
          66,
          63,
          79,
          72,
          67,
          86,
          76,
          75,
          81,
          73,
          71,
          96,
          99,
          62,
          86,
          94,
          76,
          77,
          74,
          81,
          63,
          99,
          90,
          68,
          60,
          71,
          61,
          88,
          65,
          78,
          78,
          92,
          79,
          91,
          76,
          87,
          71,
          90,
          67,
          60,
          83,
          83,
          40,
          23,
          39,
          22,
          36,
          32,
          58,
          59,
          42,
          28,
          58,
          43,
          58,
          23,
          27,
          28,
          50,
          39,
          25,
          31,
          26,
          25,
          31,
          60,
          59,
          22,
          36,
          59,
          54,
          43,
          28,
          42,
          32,
          22,
          31,
          28,
          57,
          49,
          46,
          54,
          38,
          59,
          36,
          57,
          35,
          35,
          52,
          27,
          57,
          52,
          43,
          44,
          24,
          29,
          20,
          56,
          37,
          49,
          59,
          20,
          24,
          51,
          57,
          22,
          52,
          29,
          44,
          41,
          52,
          34,
          42,
          34,
          27,
          30,
          57,
          27,
          32,
          31,
          33,
          47,
          54,
          47,
          35,
          53,
          45,
          37,
          30,
          37,
          53,
          22,
          60,
          42,
          39,
          35,
          30,
          57,
          48,
          36,
          40,
          49,
          13,
          25,
          31,
          40,
          2,
          26,
          17,
          26,
          17,
          27,
          28,
          25,
          28,
          25,
          12,
          6,
          22,
          27,
          10,
          23,
          19,
          19,
          22,
          37,
          11,
          18,
          21,
          24,
          34,
          16,
          17,
          37,
          40,
          9,
          1,
          33,
          23,
          6,
          25,
          7,
          8,
          27,
          28,
          32,
          27,
          17,
          0,
          13,
          34,
          9,
          11,
          3,
          35,
          3,
          23,
          22,
          31,
          34,
          12,
          27,
          7,
          24,
          11,
          37,
          25,
          34,
          20,
          37,
          18,
          4,
          37,
          5,
          11,
          22,
          12,
          5,
          27,
          31,
          36,
          5,
          32,
          11,
          0,
          14,
          29,
          32,
          17,
          13,
          14,
          9,
          20,
          40,
          27,
          14,
          7,
          27,
          30,
          37,
          27,
          22,
          3,
          40,
          33,
          27,
          10,
          30,
          40,
          38,
          35,
          38,
          33,
          16,
          31,
          16,
          27,
          40,
          18,
          3,
          26,
          16,
          24,
          9,
          16,
          28,
          16,
          24,
          38,
          9,
          34,
          1,
          6,
          26,
          27,
          27,
          36,
          17,
          26,
          17,
          14,
          39,
          6,
          8,
          2,
          1,
          16,
          23,
          32,
          28,
          5,
          36,
          1,
          24,
          17,
          5,
          5,
          37,
          13,
          6,
          16,
          25,
          34,
          20,
          35,
          14,
          36,
          7,
          29,
          30,
          20,
          19,
          3,
          5,
          5,
          37,
          9,
          20,
          31,
          0,
          21,
          13,
          27,
          29,
          5,
          39,
          22,
          18,
          39,
          13,
          27,
          26,
          23,
          4,
          20,
          7,
          17,
          35,
          11,
          20,
          10,
          33,
          3,
          22,
          36,
          4,
          29,
          32,
          14,
          5,
          25,
          11,
          40,
          38,
          27,
          24,
          23,
          29,
          31,
          0,
          7,
          17,
          11,
          22,
          9,
          28,
          26,
          36,
          8,
          24,
          22,
          36,
          22,
          17,
          8,
          7,
          36,
          11,
          6,
          17,
          4,
          9,
          25,
          36,
          21,
          37,
          32,
          29,
          25,
          10,
          23,
          9,
          3,
          22,
          12,
          39,
          32,
          30,
          19,
          4,
          21,
          35,
          22,
          35,
          17,
          28,
          22,
          11,
          38,
          23,
          25,
          40,
          23,
          2,
          3,
          26,
          39,
          27,
          24,
          7,
          15,
          26,
          20,
          34,
          19,
          29,
          20,
          11,
          15,
          35,
          9,
          40,
          35,
          14,
          40,
          18,
          35,
          4,
          22,
          33,
          2,
          16,
          19,
          8,
          36,
          10,
          22,
          9,
          34,
          31,
          0,
          21,
          28,
          17,
          24,
          28,
          21,
          34,
          19,
          31,
          19,
          24,
          13,
          31,
          28,
          31,
          33,
          34,
          13,
          33,
          32,
          23,
          35,
          6,
          29,
          4,
          10,
          14,
          8,
          20,
          36,
          14,
          11,
          10,
          7,
          2,
          20,
          2,
          27,
          35,
          4,
          1,
          36,
          11,
          34,
          21,
          17,
          25,
          2,
          9,
          37,
          36,
          40,
          30,
          1,
          9,
          14,
          35,
          31,
          4,
          30,
          9,
          20,
          37,
          34,
          14,
          23,
          5,
          22,
          40,
          27,
          31,
          38,
          6,
          6,
          24,
          25,
          32,
          8,
          19,
          39,
          33,
          26,
          21,
          22,
          29,
          4,
          10,
          4,
          20,
          23,
          25,
          56,
          25,
          42,
          42,
          44,
          50,
          35,
          30,
          27,
          50,
          39,
          57,
          52,
          55,
          51,
          36,
          59,
          50,
          30,
          20,
          58,
          25,
          52,
          40,
          20,
          48,
          49,
          48,
          32,
          21,
          20,
          25,
          41,
          53,
          39,
          25,
          21,
          57,
          56,
          49,
          24,
          49,
          28,
          55,
          50,
          34,
          20,
          55,
          23,
          53,
          26,
          33,
          37,
          33,
          22,
          20,
          43,
          44,
          34,
          21,
          25,
          41,
          28,
          35,
          52,
          58,
          34,
          52,
          23,
          42,
          37,
          44,
          21,
          56,
          29,
          43,
          55,
          44,
          29,
          47,
          40,
          58,
          41,
          58,
          27,
          27,
          52,
          44,
          21,
          60,
          33,
          59,
          29,
          59,
          29,
          58,
          55,
          42,
          44,
          38,
          32,
          13,
          38,
          11,
          37,
          29,
          2,
          6,
          13,
          8,
          6,
          2,
          3,
          27,
          39,
          40,
          37,
          31,
          22,
          3,
          4,
          13,
          12,
          4,
          9,
          18,
          32,
          6,
          15,
          0,
          30,
          3,
          2,
          10,
          14,
          39,
          19,
          18,
          31,
          28,
          5,
          16,
          34,
          14,
          22,
          24,
          2,
          26,
          27,
          24,
          13,
          6,
          12,
          32,
          6,
          10,
          38,
          17,
          26,
          23,
          32,
          19,
          22,
          28,
          1,
          12,
          36,
          28,
          12,
          22,
          26,
          16,
          14,
          33,
          21,
          0,
          10,
          30,
          0,
          35,
          7,
          9,
          14,
          14,
          36,
          28,
          28,
          40,
          10,
          12,
          37,
          0,
          7,
          10,
          39,
          26,
          9,
          4,
          34,
          33,
          2,
          6,
          8,
          37,
          0,
          31,
          21,
          6,
          25,
          15,
          14,
          16,
          36,
          4,
          29,
          16,
          18,
          11,
          5,
          18,
          9,
          40,
          22,
          9,
          12,
          0,
          2,
          28,
          8,
          29,
          17,
          34,
          21,
          25,
          8,
          26,
          4,
          36,
          5,
          19,
          39,
          5,
          4,
          38,
          37,
          9,
          29,
          5,
          22,
          4,
          21,
          29,
          23,
          13,
          5,
          27,
          7,
          12,
          4,
          3,
          1,
          23,
          24,
          13,
          40,
          21,
          3,
          40,
          14,
          38,
          34,
          32,
          18,
          8,
          15,
          0,
          22,
          14,
          31,
          39,
          10,
          8,
          32,
          18,
          20,
          39,
          20,
          11,
          40,
          3,
          9,
          30,
          40,
          40,
          32,
          33,
          4,
          13,
          39,
          8,
          91,
          105,
          108,
          86,
          80,
          93,
          90,
          108,
          108,
          105,
          118,
          101,
          95,
          106,
          86,
          83,
          85,
          109,
          100,
          117,
          114,
          110,
          94,
          80,
          114,
          88,
          112,
          117,
          111,
          89,
          93,
          92,
          105,
          102,
          94,
          116,
          117,
          119,
          99,
          91,
          80,
          101,
          108,
          100,
          109,
          82,
          106,
          90,
          83,
          119,
          107,
          116,
          101,
          93,
          95,
          107,
          83,
          102,
          86,
          117,
          111,
          95,
          91,
          93,
          92,
          104,
          103,
          92,
          93,
          120,
          108,
          105,
          98,
          111,
          97,
          95,
          89,
          89,
          118,
          101,
          99,
          82,
          90,
          95,
          104,
          102,
          100,
          94,
          99,
          112,
          117,
          96,
          113,
          105,
          85,
          108,
          92,
          110,
          82,
          117,
          2,
          39,
          21,
          25,
          0,
          20,
          19,
          18,
          11,
          30,
          18,
          23,
          37,
          11,
          12,
          3,
          37,
          26,
          14,
          40,
          4,
          36,
          30,
          28,
          38,
          12,
          38,
          8,
          15,
          34,
          11,
          33,
          12,
          12,
          5,
          1,
          16,
          35,
          4,
          9,
          2,
          26,
          34,
          5,
          31,
          34,
          36,
          7,
          38,
          5,
          37,
          21,
          37,
          23,
          36,
          24,
          26,
          22,
          11,
          29,
          22,
          23,
          1,
          2,
          39,
          15,
          3,
          8,
          33,
          14,
          18,
          9,
          20,
          9,
          26,
          31,
          14,
          40,
          28,
          0,
          1,
          2,
          12,
          7,
          0,
          26,
          27,
          22,
          22,
          28,
          7,
          29,
          8,
          39,
          40,
          19,
          21,
          22,
          31,
          18,
          24,
          13,
          22,
          36,
          24,
          2,
          35,
          11,
          6,
          17,
          25,
          27,
          9,
          16,
          32,
          22,
          31,
          3,
          28,
          4,
          39,
          38,
          36,
          25,
          15,
          24,
          13,
          5,
          30,
          23,
          26,
          7,
          32,
          9,
          20,
          32,
          3,
          38,
          14,
          20,
          40,
          36,
          11,
          0,
          19,
          31,
          4,
          39,
          8,
          39,
          32,
          12,
          8,
          8,
          21,
          40,
          39,
          19,
          21,
          17,
          33,
          22,
          32,
          37,
          15,
          39,
          40,
          40,
          29,
          32,
          6,
          8,
          34,
          35,
          16,
          8,
          25,
          16,
          39,
          38,
          33,
          35,
          1,
          39,
          28,
          6,
          6,
          29,
          37,
          38,
          38,
          14,
          6,
          32,
          11,
          23,
          40,
          6,
          37,
          35,
          119,
          119,
          105,
          114,
          93,
          80,
          85,
          85,
          82,
          118,
          83,
          86,
          101,
          119,
          104,
          95,
          102,
          109,
          81,
          103,
          105,
          97,
          120,
          95,
          83,
          83,
          91,
          116,
          112,
          88,
          118,
          92,
          106,
          99,
          98,
          108,
          119,
          117,
          109,
          80,
          100,
          91,
          86,
          107,
          103,
          101,
          85,
          84,
          102,
          98,
          97,
          90,
          95,
          82,
          82,
          110,
          118,
          120,
          91,
          81,
          101,
          101,
          111,
          107,
          115,
          84,
          120,
          91,
          89,
          113,
          97,
          117,
          90,
          104,
          81,
          88,
          92,
          81,
          111,
          108,
          113,
          83,
          101,
          114,
          99,
          92,
          92,
          91,
          110,
          112,
          89,
          100,
          83,
          95,
          119,
          97,
          110,
          96,
          83,
          120,
          115,
          114,
          101,
          118,
          95,
          81,
          117,
          114,
          113,
          108,
          81,
          115,
          83,
          84,
          109,
          95,
          119,
          110,
          82,
          87,
          85,
          100,
          107,
          91,
          102,
          117,
          85,
          104,
          102,
          116,
          100,
          110,
          104,
          107,
          98,
          88,
          87,
          120,
          95,
          108,
          82,
          120,
          110,
          95,
          106,
          99,
          106,
          83,
          117,
          98,
          113,
          101,
          98,
          93,
          95,
          109,
          118,
          100,
          89,
          95,
          95,
          87,
          93,
          84,
          111,
          111,
          111,
          89,
          110,
          95,
          115,
          120,
          102,
          94,
          84,
          107,
          80,
          86,
          113,
          115,
          82,
          98,
          117,
          83,
          120,
          111,
          85,
          90,
          99,
          102,
          80,
          87,
          114,
          99,
          89,
          96,
          82,
          106,
          90,
          106,
          24,
          7,
          14,
          8,
          20,
          32,
          27,
          0,
          22,
          1,
          30,
          29,
          13,
          9,
          0,
          30,
          36,
          37,
          33,
          7,
          35,
          29,
          2,
          34,
          29,
          32,
          13,
          25,
          9,
          6,
          37,
          2,
          11,
          10,
          24,
          23,
          18,
          13,
          26,
          28,
          26,
          21,
          21,
          5,
          2,
          15,
          31,
          25,
          16,
          19,
          10,
          20,
          28,
          28,
          2,
          2,
          27,
          30,
          32,
          29,
          26,
          40,
          6,
          35,
          17,
          33,
          16,
          27,
          29,
          3,
          15,
          5,
          10,
          7,
          2,
          29,
          30,
          29,
          14,
          18,
          33,
          40,
          9,
          38,
          28,
          35,
          12,
          1,
          0,
          31,
          35,
          29,
          33,
          14,
          35,
          40,
          25,
          31,
          36,
          10,
          22,
          37,
          27,
          7,
          20,
          26,
          5,
          0,
          39,
          13,
          21,
          33,
          6,
          19,
          24,
          9,
          31,
          22,
          13,
          16,
          4,
          0,
          8,
          4,
          33,
          30,
          21,
          11,
          9,
          5,
          29,
          33,
          8,
          15,
          16,
          0,
          5,
          6,
          10,
          1,
          1,
          0,
          24,
          36,
          40,
          40,
          32,
          9,
          13,
          15,
          29,
          1,
          18,
          14,
          33,
          4,
          17,
          12,
          34,
          39,
          31,
          12,
          12,
          26,
          19,
          39,
          16,
          36,
          37,
          39,
          31,
          18,
          20,
          5,
          20,
          25,
          14,
          37,
          26,
          13,
          32,
          19,
          28,
          24,
          7,
          18,
          7,
          20,
          18,
          34,
          20,
          37,
          12,
          34,
          6,
          27,
          13,
          6,
          40,
          31,
          61,
          58,
          45,
          39,
          31,
          70,
          68,
          34,
          38,
          69,
          58,
          59,
          44,
          56,
          69,
          56,
          49,
          38,
          54,
          57,
          39,
          58,
          61,
          34,
          31,
          47,
          32,
          36,
          61,
          70,
          44,
          34,
          50,
          39,
          34,
          44,
          31,
          65,
          44,
          50,
          43,
          60,
          70,
          59,
          60,
          42,
          35,
          34,
          36,
          39,
          37,
          33,
          34,
          49,
          40,
          68,
          50,
          65,
          40,
          42,
          49,
          59,
          63,
          70,
          63,
          40,
          63,
          45,
          66,
          54,
          69,
          67,
          45,
          56,
          70,
          44,
          50,
          52,
          35,
          68,
          32,
          32,
          48,
          39,
          49,
          48,
          69,
          53,
          38,
          57,
          51,
          56,
          54,
          58,
          68,
          42,
          43,
          35,
          56,
          39,
          18,
          37,
          13,
          2,
          10,
          7,
          39,
          34,
          31,
          25,
          16,
          26,
          27,
          37,
          19,
          0,
          31,
          9,
          22,
          31,
          34,
          24,
          1,
          31,
          10,
          36,
          38,
          11,
          16,
          33,
          16,
          32,
          38,
          8,
          23,
          29,
          24,
          32,
          30,
          14,
          27,
          40,
          17,
          30,
          28,
          39,
          32,
          7,
          29,
          34,
          14,
          18,
          7,
          24,
          39,
          29,
          10,
          0,
          32,
          37,
          20,
          31,
          17,
          1,
          6,
          15,
          27,
          3,
          8,
          20,
          26,
          1,
          27,
          23,
          0,
          38,
          25,
          40,
          0,
          26,
          35,
          19,
          31,
          17,
          2,
          30,
          8,
          18,
          8,
          40,
          27,
          21,
          3,
          22,
          27,
          22,
          28,
          23,
          37,
          19,
          133,
          136,
          104,
          133,
          126,
          126,
          113,
          121,
          121,
          129,
          107,
          122,
          140,
          102,
          111,
          131,
          135,
          100,
          123,
          117,
          121,
          101,
          107,
          100,
          125,
          105,
          102,
          131,
          139,
          108,
          118,
          107,
          125,
          113,
          131,
          115,
          113,
          111,
          111,
          122,
          108,
          132,
          103,
          133,
          127,
          110,
          131,
          108,
          122,
          111,
          140,
          100,
          123,
          107,
          118,
          103,
          133,
          129,
          116,
          114,
          131,
          107,
          123,
          112,
          119,
          130,
          127,
          134,
          109,
          100,
          132,
          102,
          111,
          117,
          136,
          134,
          112,
          105,
          140,
          126,
          106,
          121,
          108,
          116,
          100,
          129,
          118,
          117,
          126,
          120,
          102,
          131,
          114,
          101,
          106,
          113,
          102,
          110,
          107,
          120,
          89,
          60,
          63,
          86,
          96,
          100,
          63,
          70,
          67,
          74,
          89,
          74,
          89,
          60,
          67,
          70,
          74,
          90,
          82,
          73,
          85,
          81,
          84,
          80,
          76,
          76,
          81,
          76,
          69,
          82,
          69,
          81,
          67,
          72,
          65,
          78,
          77,
          89,
          62,
          90,
          66,
          80,
          89,
          77,
          94,
          75,
          60,
          62,
          84,
          100,
          75,
          78,
          82,
          100,
          88,
          67,
          72,
          89,
          89,
          61,
          79,
          84,
          98,
          75,
          89,
          91,
          77,
          66,
          62,
          82,
          61,
          99,
          70,
          90,
          73,
          67,
          84,
          72,
          71,
          64,
          65,
          60,
          86,
          90,
          91,
          87,
          72,
          71,
          82,
          71,
          80,
          77,
          95,
          63,
          93,
          87,
          88,
          90,
          90,
          84,
          91,
          107,
          83,
          108,
          116,
          116,
          109,
          89,
          118,
          111,
          84,
          85,
          99,
          81,
          95,
          81,
          80,
          104,
          109,
          100,
          100,
          83,
          120,
          104,
          108,
          91,
          86,
          98,
          111,
          84,
          98,
          118,
          103,
          82,
          86,
          88,
          84,
          120,
          106,
          113,
          117,
          80,
          88,
          113,
          87,
          113,
          98,
          97,
          85,
          82,
          103,
          112,
          99,
          120,
          114,
          100,
          108,
          115,
          87,
          82,
          94,
          87,
          118,
          87,
          92,
          97,
          99,
          89,
          112,
          111,
          114,
          117,
          111,
          119,
          116,
          95,
          86,
          117,
          105,
          109,
          80,
          101,
          103,
          93,
          104,
          116,
          107,
          101,
          107,
          99,
          103,
          118,
          106,
          116,
          97,
          107,
          99,
          118,
          117,
          104
         ]
        }
       ],
       "layout": {
        "template": {
         "data": {
          "bar": [
           {
            "error_x": {
             "color": "#2a3f5f"
            },
            "error_y": {
             "color": "#2a3f5f"
            },
            "marker": {
             "line": {
              "color": "#E5ECF6",
              "width": 0.5
             },
             "pattern": {
              "fillmode": "overlay",
              "size": 10,
              "solidity": 0.2
             }
            },
            "type": "bar"
           }
          ],
          "barpolar": [
           {
            "marker": {
             "line": {
              "color": "#E5ECF6",
              "width": 0.5
             },
             "pattern": {
              "fillmode": "overlay",
              "size": 10,
              "solidity": 0.2
             }
            },
            "type": "barpolar"
           }
          ],
          "carpet": [
           {
            "aaxis": {
             "endlinecolor": "#2a3f5f",
             "gridcolor": "white",
             "linecolor": "white",
             "minorgridcolor": "white",
             "startlinecolor": "#2a3f5f"
            },
            "baxis": {
             "endlinecolor": "#2a3f5f",
             "gridcolor": "white",
             "linecolor": "white",
             "minorgridcolor": "white",
             "startlinecolor": "#2a3f5f"
            },
            "type": "carpet"
           }
          ],
          "choropleth": [
           {
            "colorbar": {
             "outlinewidth": 0,
             "ticks": ""
            },
            "type": "choropleth"
           }
          ],
          "contour": [
           {
            "colorbar": {
             "outlinewidth": 0,
             "ticks": ""
            },
            "colorscale": [
             [
              0,
              "#0d0887"
             ],
             [
              0.1111111111111111,
              "#46039f"
             ],
             [
              0.2222222222222222,
              "#7201a8"
             ],
             [
              0.3333333333333333,
              "#9c179e"
             ],
             [
              0.4444444444444444,
              "#bd3786"
             ],
             [
              0.5555555555555556,
              "#d8576b"
             ],
             [
              0.6666666666666666,
              "#ed7953"
             ],
             [
              0.7777777777777778,
              "#fb9f3a"
             ],
             [
              0.8888888888888888,
              "#fdca26"
             ],
             [
              1,
              "#f0f921"
             ]
            ],
            "type": "contour"
           }
          ],
          "contourcarpet": [
           {
            "colorbar": {
             "outlinewidth": 0,
             "ticks": ""
            },
            "type": "contourcarpet"
           }
          ],
          "heatmap": [
           {
            "colorbar": {
             "outlinewidth": 0,
             "ticks": ""
            },
            "colorscale": [
             [
              0,
              "#0d0887"
             ],
             [
              0.1111111111111111,
              "#46039f"
             ],
             [
              0.2222222222222222,
              "#7201a8"
             ],
             [
              0.3333333333333333,
              "#9c179e"
             ],
             [
              0.4444444444444444,
              "#bd3786"
             ],
             [
              0.5555555555555556,
              "#d8576b"
             ],
             [
              0.6666666666666666,
              "#ed7953"
             ],
             [
              0.7777777777777778,
              "#fb9f3a"
             ],
             [
              0.8888888888888888,
              "#fdca26"
             ],
             [
              1,
              "#f0f921"
             ]
            ],
            "type": "heatmap"
           }
          ],
          "heatmapgl": [
           {
            "colorbar": {
             "outlinewidth": 0,
             "ticks": ""
            },
            "colorscale": [
             [
              0,
              "#0d0887"
             ],
             [
              0.1111111111111111,
              "#46039f"
             ],
             [
              0.2222222222222222,
              "#7201a8"
             ],
             [
              0.3333333333333333,
              "#9c179e"
             ],
             [
              0.4444444444444444,
              "#bd3786"
             ],
             [
              0.5555555555555556,
              "#d8576b"
             ],
             [
              0.6666666666666666,
              "#ed7953"
             ],
             [
              0.7777777777777778,
              "#fb9f3a"
             ],
             [
              0.8888888888888888,
              "#fdca26"
             ],
             [
              1,
              "#f0f921"
             ]
            ],
            "type": "heatmapgl"
           }
          ],
          "histogram": [
           {
            "marker": {
             "pattern": {
              "fillmode": "overlay",
              "size": 10,
              "solidity": 0.2
             }
            },
            "type": "histogram"
           }
          ],
          "histogram2d": [
           {
            "colorbar": {
             "outlinewidth": 0,
             "ticks": ""
            },
            "colorscale": [
             [
              0,
              "#0d0887"
             ],
             [
              0.1111111111111111,
              "#46039f"
             ],
             [
              0.2222222222222222,
              "#7201a8"
             ],
             [
              0.3333333333333333,
              "#9c179e"
             ],
             [
              0.4444444444444444,
              "#bd3786"
             ],
             [
              0.5555555555555556,
              "#d8576b"
             ],
             [
              0.6666666666666666,
              "#ed7953"
             ],
             [
              0.7777777777777778,
              "#fb9f3a"
             ],
             [
              0.8888888888888888,
              "#fdca26"
             ],
             [
              1,
              "#f0f921"
             ]
            ],
            "type": "histogram2d"
           }
          ],
          "histogram2dcontour": [
           {
            "colorbar": {
             "outlinewidth": 0,
             "ticks": ""
            },
            "colorscale": [
             [
              0,
              "#0d0887"
             ],
             [
              0.1111111111111111,
              "#46039f"
             ],
             [
              0.2222222222222222,
              "#7201a8"
             ],
             [
              0.3333333333333333,
              "#9c179e"
             ],
             [
              0.4444444444444444,
              "#bd3786"
             ],
             [
              0.5555555555555556,
              "#d8576b"
             ],
             [
              0.6666666666666666,
              "#ed7953"
             ],
             [
              0.7777777777777778,
              "#fb9f3a"
             ],
             [
              0.8888888888888888,
              "#fdca26"
             ],
             [
              1,
              "#f0f921"
             ]
            ],
            "type": "histogram2dcontour"
           }
          ],
          "mesh3d": [
           {
            "colorbar": {
             "outlinewidth": 0,
             "ticks": ""
            },
            "type": "mesh3d"
           }
          ],
          "parcoords": [
           {
            "line": {
             "colorbar": {
              "outlinewidth": 0,
              "ticks": ""
             }
            },
            "type": "parcoords"
           }
          ],
          "pie": [
           {
            "automargin": true,
            "type": "pie"
           }
          ],
          "scatter": [
           {
            "fillpattern": {
             "fillmode": "overlay",
             "size": 10,
             "solidity": 0.2
            },
            "type": "scatter"
           }
          ],
          "scatter3d": [
           {
            "line": {
             "colorbar": {
              "outlinewidth": 0,
              "ticks": ""
             }
            },
            "marker": {
             "colorbar": {
              "outlinewidth": 0,
              "ticks": ""
             }
            },
            "type": "scatter3d"
           }
          ],
          "scattercarpet": [
           {
            "marker": {
             "colorbar": {
              "outlinewidth": 0,
              "ticks": ""
             }
            },
            "type": "scattercarpet"
           }
          ],
          "scattergeo": [
           {
            "marker": {
             "colorbar": {
              "outlinewidth": 0,
              "ticks": ""
             }
            },
            "type": "scattergeo"
           }
          ],
          "scattergl": [
           {
            "marker": {
             "colorbar": {
              "outlinewidth": 0,
              "ticks": ""
             }
            },
            "type": "scattergl"
           }
          ],
          "scattermapbox": [
           {
            "marker": {
             "colorbar": {
              "outlinewidth": 0,
              "ticks": ""
             }
            },
            "type": "scattermapbox"
           }
          ],
          "scatterpolar": [
           {
            "marker": {
             "colorbar": {
              "outlinewidth": 0,
              "ticks": ""
             }
            },
            "type": "scatterpolar"
           }
          ],
          "scatterpolargl": [
           {
            "marker": {
             "colorbar": {
              "outlinewidth": 0,
              "ticks": ""
             }
            },
            "type": "scatterpolargl"
           }
          ],
          "scatterternary": [
           {
            "marker": {
             "colorbar": {
              "outlinewidth": 0,
              "ticks": ""
             }
            },
            "type": "scatterternary"
           }
          ],
          "surface": [
           {
            "colorbar": {
             "outlinewidth": 0,
             "ticks": ""
            },
            "colorscale": [
             [
              0,
              "#0d0887"
             ],
             [
              0.1111111111111111,
              "#46039f"
             ],
             [
              0.2222222222222222,
              "#7201a8"
             ],
             [
              0.3333333333333333,
              "#9c179e"
             ],
             [
              0.4444444444444444,
              "#bd3786"
             ],
             [
              0.5555555555555556,
              "#d8576b"
             ],
             [
              0.6666666666666666,
              "#ed7953"
             ],
             [
              0.7777777777777778,
              "#fb9f3a"
             ],
             [
              0.8888888888888888,
              "#fdca26"
             ],
             [
              1,
              "#f0f921"
             ]
            ],
            "type": "surface"
           }
          ],
          "table": [
           {
            "cells": {
             "fill": {
              "color": "#EBF0F8"
             },
             "line": {
              "color": "white"
             }
            },
            "header": {
             "fill": {
              "color": "#C8D4E3"
             },
             "line": {
              "color": "white"
             }
            },
            "type": "table"
           }
          ]
         },
         "layout": {
          "annotationdefaults": {
           "arrowcolor": "#2a3f5f",
           "arrowhead": 0,
           "arrowwidth": 1
          },
          "autotypenumbers": "strict",
          "coloraxis": {
           "colorbar": {
            "outlinewidth": 0,
            "ticks": ""
           }
          },
          "colorscale": {
           "diverging": [
            [
             0,
             "#8e0152"
            ],
            [
             0.1,
             "#c51b7d"
            ],
            [
             0.2,
             "#de77ae"
            ],
            [
             0.3,
             "#f1b6da"
            ],
            [
             0.4,
             "#fde0ef"
            ],
            [
             0.5,
             "#f7f7f7"
            ],
            [
             0.6,
             "#e6f5d0"
            ],
            [
             0.7,
             "#b8e186"
            ],
            [
             0.8,
             "#7fbc41"
            ],
            [
             0.9,
             "#4d9221"
            ],
            [
             1,
             "#276419"
            ]
           ],
           "sequential": [
            [
             0,
             "#0d0887"
            ],
            [
             0.1111111111111111,
             "#46039f"
            ],
            [
             0.2222222222222222,
             "#7201a8"
            ],
            [
             0.3333333333333333,
             "#9c179e"
            ],
            [
             0.4444444444444444,
             "#bd3786"
            ],
            [
             0.5555555555555556,
             "#d8576b"
            ],
            [
             0.6666666666666666,
             "#ed7953"
            ],
            [
             0.7777777777777778,
             "#fb9f3a"
            ],
            [
             0.8888888888888888,
             "#fdca26"
            ],
            [
             1,
             "#f0f921"
            ]
           ],
           "sequentialminus": [
            [
             0,
             "#0d0887"
            ],
            [
             0.1111111111111111,
             "#46039f"
            ],
            [
             0.2222222222222222,
             "#7201a8"
            ],
            [
             0.3333333333333333,
             "#9c179e"
            ],
            [
             0.4444444444444444,
             "#bd3786"
            ],
            [
             0.5555555555555556,
             "#d8576b"
            ],
            [
             0.6666666666666666,
             "#ed7953"
            ],
            [
             0.7777777777777778,
             "#fb9f3a"
            ],
            [
             0.8888888888888888,
             "#fdca26"
            ],
            [
             1,
             "#f0f921"
            ]
           ]
          },
          "colorway": [
           "#636efa",
           "#EF553B",
           "#00cc96",
           "#ab63fa",
           "#FFA15A",
           "#19d3f3",
           "#FF6692",
           "#B6E880",
           "#FF97FF",
           "#FECB52"
          ],
          "font": {
           "color": "#2a3f5f"
          },
          "geo": {
           "bgcolor": "white",
           "lakecolor": "white",
           "landcolor": "#E5ECF6",
           "showlakes": true,
           "showland": true,
           "subunitcolor": "white"
          },
          "hoverlabel": {
           "align": "left"
          },
          "hovermode": "closest",
          "mapbox": {
           "style": "light"
          },
          "paper_bgcolor": "white",
          "plot_bgcolor": "#E5ECF6",
          "polar": {
           "angularaxis": {
            "gridcolor": "white",
            "linecolor": "white",
            "ticks": ""
           },
           "bgcolor": "#E5ECF6",
           "radialaxis": {
            "gridcolor": "white",
            "linecolor": "white",
            "ticks": ""
           }
          },
          "scene": {
           "xaxis": {
            "backgroundcolor": "#E5ECF6",
            "gridcolor": "white",
            "gridwidth": 2,
            "linecolor": "white",
            "showbackground": true,
            "ticks": "",
            "zerolinecolor": "white"
           },
           "yaxis": {
            "backgroundcolor": "#E5ECF6",
            "gridcolor": "white",
            "gridwidth": 2,
            "linecolor": "white",
            "showbackground": true,
            "ticks": "",
            "zerolinecolor": "white"
           },
           "zaxis": {
            "backgroundcolor": "#E5ECF6",
            "gridcolor": "white",
            "gridwidth": 2,
            "linecolor": "white",
            "showbackground": true,
            "ticks": "",
            "zerolinecolor": "white"
           }
          },
          "shapedefaults": {
           "line": {
            "color": "#2a3f5f"
           }
          },
          "ternary": {
           "aaxis": {
            "gridcolor": "white",
            "linecolor": "white",
            "ticks": ""
           },
           "baxis": {
            "gridcolor": "white",
            "linecolor": "white",
            "ticks": ""
           },
           "bgcolor": "#E5ECF6",
           "caxis": {
            "gridcolor": "white",
            "linecolor": "white",
            "ticks": ""
           }
          },
          "title": {
           "x": 0.05
          },
          "xaxis": {
           "automargin": true,
           "gridcolor": "white",
           "linecolor": "white",
           "ticks": "",
           "title": {
            "standoff": 15
           },
           "zerolinecolor": "white",
           "zerolinewidth": 2
          },
          "yaxis": {
           "automargin": true,
           "gridcolor": "white",
           "linecolor": "white",
           "ticks": "",
           "title": {
            "standoff": 15
           },
           "zerolinecolor": "white",
           "zerolinewidth": 2
          }
         }
        },
        "title": {
         "text": "Histogram of N"
        },
        "xaxis": {
         "title": {
          "text": "N"
         }
        },
        "yaxis": {
         "title": {
          "text": "Count"
         }
        }
       }
      }
     },
     "metadata": {},
     "output_type": "display_data"
    }
   ],
   "source": [
    "feature_name = 'N'  # Replace 'N' with the actual feature name you want to visualize\n",
    "\n",
    "# Create the histogram\n",
    "fig = go.Figure()\n",
    "fig.add_trace(go.Histogram(x=X[feature_name], name=feature_name))\n",
    "fig.update_layout(title=f'Histogram of {feature_name}', xaxis_title=feature_name, yaxis_title='Count')\n",
    "fig.show()\n"
   ]
  },
  {
   "cell_type": "code",
   "execution_count": 7,
   "metadata": {},
   "outputs": [
    {
     "data": {
      "application/vnd.plotly.v1+json": {
       "config": {
        "plotlyServerURL": "https://plot.ly"
       },
       "data": [
        {
         "mode": "lines",
         "name": "Training Loss",
         "type": "scatter",
         "x": [
          1,
          2,
          3,
          4,
          5,
          6,
          7,
          8,
          9,
          10,
          11,
          12,
          13,
          14,
          15,
          16,
          17,
          18,
          19,
          20,
          21,
          22,
          23,
          24,
          25,
          26,
          27,
          28,
          29,
          30,
          31,
          32,
          33,
          34,
          35,
          36,
          37,
          38,
          39,
          40,
          41,
          42,
          43,
          44,
          45,
          46,
          47,
          48,
          49,
          50,
          51,
          52,
          53,
          54,
          55,
          56,
          57,
          58,
          59,
          60,
          61,
          62,
          63,
          64,
          65,
          66,
          67,
          68,
          69,
          70,
          71,
          72,
          73,
          74,
          75,
          76,
          77,
          78,
          79,
          80,
          81,
          82,
          83,
          84,
          85,
          86,
          87,
          88,
          89,
          90,
          91,
          92,
          93,
          94,
          95,
          96,
          97,
          98,
          99,
          100,
          101,
          102,
          103,
          104,
          105,
          106,
          107,
          108,
          109,
          110,
          111,
          112,
          113,
          114,
          115,
          116,
          117,
          118,
          119,
          120,
          121,
          122,
          123,
          124,
          125,
          126,
          127,
          128,
          129,
          130,
          131,
          132,
          133,
          134,
          135,
          136,
          137,
          138,
          139,
          140,
          141,
          142,
          143,
          144,
          145,
          146,
          147,
          148,
          149,
          150,
          151,
          152,
          153,
          154,
          155,
          156,
          157,
          158,
          159,
          160,
          161,
          162,
          163,
          164,
          165,
          166,
          167,
          168,
          169,
          170,
          171,
          172,
          173,
          174,
          175,
          176,
          177,
          178,
          179,
          180,
          181,
          182,
          183,
          184,
          185,
          186,
          187,
          188,
          189,
          190,
          191,
          192,
          193,
          194,
          195,
          196,
          197,
          198,
          199,
          200
         ],
         "y": [
          3.1028449535369873,
          3.0960071086883545,
          3.0899558067321777,
          3.084951162338257,
          3.080158233642578,
          3.0753273963928223,
          3.070779323577881,
          3.0663888454437256,
          3.0619051456451416,
          3.057317018508911,
          3.0525264739990234,
          3.0475361347198486,
          3.0424506664276123,
          3.0372724533081055,
          3.0320377349853516,
          3.026719570159912,
          3.021256923675537,
          3.0155768394470215,
          3.0096588134765625,
          3.003474235534668,
          2.9970548152923584,
          2.9903883934020996,
          2.983476400375366,
          2.9762964248657227,
          2.968812942504883,
          2.9610090255737305,
          2.95286226272583,
          2.9443771839141846,
          2.935554265975952,
          2.926356077194214,
          2.9167640209198,
          2.906770706176758,
          2.896350383758545,
          2.885457754135132,
          2.8740668296813965,
          2.862194776535034,
          2.8498668670654297,
          2.8371968269348145,
          2.8242063522338867,
          2.8107738494873047,
          2.7968764305114746,
          2.7825119495391846,
          2.767693042755127,
          2.7524333000183105,
          2.7367334365844727,
          2.720602512359619,
          2.7040421962738037,
          2.6870806217193604,
          2.6697404384613037,
          2.6520354747772217,
          2.633965015411377,
          2.6155173778533936,
          2.5966968536376953,
          2.5775444507598877,
          2.558077096939087,
          2.5383126735687256,
          2.518300771713257,
          2.498008966445923,
          2.4773809909820557,
          2.456474542617798,
          2.4353315830230713,
          2.4138944149017334,
          2.3921616077423096,
          2.3702800273895264,
          2.3481192588806152,
          2.325756072998047,
          2.3032257556915283,
          2.280487298965454,
          2.2575676441192627,
          2.2344770431518555,
          2.211238384246826,
          2.1878533363342285,
          2.164339542388916,
          2.1407058238983154,
          2.116973400115967,
          2.0931732654571533,
          2.0693247318267822,
          2.045443058013916,
          2.021540880203247,
          1.9976396560668945,
          1.9737622737884521,
          1.9499266147613525,
          1.9261524677276611,
          1.9024542570114136,
          1.8788527250289917,
          1.8553646802902222,
          1.8320072889328003,
          1.8087952136993408,
          1.7857422828674316,
          1.7628167867660522,
          1.7399307489395142,
          1.717149019241333,
          1.6948866844177246,
          1.672851800918579,
          1.6509578227996826,
          1.629227638244629,
          1.6076925992965698,
          1.5863769054412842,
          1.5653201341629028,
          1.5445622205734253,
          1.5240148305892944,
          1.50364089012146,
          1.4834833145141602,
          1.4635770320892334,
          1.4439274072647095,
          1.424515724182129,
          1.4053269624710083,
          1.3863601684570312,
          1.3676129579544067,
          1.3490890264511108,
          1.3307902812957764,
          1.3127185106277466,
          1.2948716878890991,
          1.2772444486618042,
          1.2598353624343872,
          1.242637276649475,
          1.2256492376327515,
          1.208865761756897,
          1.192287802696228,
          1.1759161949157715,
          1.1597458124160767,
          1.1437736749649048,
          1.1280035972595215,
          1.1124292612075806,
          1.0970458984375,
          1.0818477869033813,
          1.0668377876281738,
          1.0520135164260864,
          1.0373650789260864,
          1.022889494895935,
          1.0085997581481934,
          0.9945039749145508,
          0.9805771112442017,
          0.966846764087677,
          0.9533020853996277,
          0.9399434924125671,
          0.9267817139625549,
          0.9138044714927673,
          0.9009844064712524,
          0.8883546590805054,
          0.8759090900421143,
          0.8636678457260132,
          0.8516215085983276,
          0.8397419452667236,
          0.8280375599861145,
          0.8165075182914734,
          0.8051514625549316,
          0.793969452381134,
          0.7829636931419373,
          0.7721306085586548,
          0.7614653706550598,
          0.7509639263153076,
          0.7406285405158997,
          0.7304537892341614,
          0.7204458713531494,
          0.7106009721755981,
          0.7009170055389404,
          0.6913915872573853,
          0.6820229291915894,
          0.672809898853302,
          0.6637536883354187,
          0.6548516750335693,
          0.646104633808136,
          0.6375063061714172,
          0.6290522217750549,
          0.6207395792007446,
          0.6125656962394714,
          0.6045323610305786,
          0.5966354608535767,
          0.5888742208480835,
          0.581244945526123,
          0.5737453699111938,
          0.5663747191429138,
          0.5591300129890442,
          0.552010178565979,
          0.5450124144554138,
          0.5381346940994263,
          0.531374990940094,
          0.524730384349823,
          0.5181991457939148,
          0.5117784142494202,
          0.505466878414154,
          0.4992620646953583,
          0.4931615889072418,
          0.4871639013290405,
          0.48126843571662903,
          0.4754721224308014,
          0.46977347135543823,
          0.46417003870010376,
          0.4586601257324219,
          0.4532417058944702,
          0.447913259267807,
          0.442672997713089,
          0.4375195801258087,
          0.4324512481689453,
          0.4274665117263794,
          0.42256414890289307,
          0.41774216294288635,
          0.4129982590675354,
          0.40833041071891785
         ]
        }
       ],
       "layout": {
        "template": {
         "data": {
          "bar": [
           {
            "error_x": {
             "color": "#2a3f5f"
            },
            "error_y": {
             "color": "#2a3f5f"
            },
            "marker": {
             "line": {
              "color": "#E5ECF6",
              "width": 0.5
             },
             "pattern": {
              "fillmode": "overlay",
              "size": 10,
              "solidity": 0.2
             }
            },
            "type": "bar"
           }
          ],
          "barpolar": [
           {
            "marker": {
             "line": {
              "color": "#E5ECF6",
              "width": 0.5
             },
             "pattern": {
              "fillmode": "overlay",
              "size": 10,
              "solidity": 0.2
             }
            },
            "type": "barpolar"
           }
          ],
          "carpet": [
           {
            "aaxis": {
             "endlinecolor": "#2a3f5f",
             "gridcolor": "white",
             "linecolor": "white",
             "minorgridcolor": "white",
             "startlinecolor": "#2a3f5f"
            },
            "baxis": {
             "endlinecolor": "#2a3f5f",
             "gridcolor": "white",
             "linecolor": "white",
             "minorgridcolor": "white",
             "startlinecolor": "#2a3f5f"
            },
            "type": "carpet"
           }
          ],
          "choropleth": [
           {
            "colorbar": {
             "outlinewidth": 0,
             "ticks": ""
            },
            "type": "choropleth"
           }
          ],
          "contour": [
           {
            "colorbar": {
             "outlinewidth": 0,
             "ticks": ""
            },
            "colorscale": [
             [
              0,
              "#0d0887"
             ],
             [
              0.1111111111111111,
              "#46039f"
             ],
             [
              0.2222222222222222,
              "#7201a8"
             ],
             [
              0.3333333333333333,
              "#9c179e"
             ],
             [
              0.4444444444444444,
              "#bd3786"
             ],
             [
              0.5555555555555556,
              "#d8576b"
             ],
             [
              0.6666666666666666,
              "#ed7953"
             ],
             [
              0.7777777777777778,
              "#fb9f3a"
             ],
             [
              0.8888888888888888,
              "#fdca26"
             ],
             [
              1,
              "#f0f921"
             ]
            ],
            "type": "contour"
           }
          ],
          "contourcarpet": [
           {
            "colorbar": {
             "outlinewidth": 0,
             "ticks": ""
            },
            "type": "contourcarpet"
           }
          ],
          "heatmap": [
           {
            "colorbar": {
             "outlinewidth": 0,
             "ticks": ""
            },
            "colorscale": [
             [
              0,
              "#0d0887"
             ],
             [
              0.1111111111111111,
              "#46039f"
             ],
             [
              0.2222222222222222,
              "#7201a8"
             ],
             [
              0.3333333333333333,
              "#9c179e"
             ],
             [
              0.4444444444444444,
              "#bd3786"
             ],
             [
              0.5555555555555556,
              "#d8576b"
             ],
             [
              0.6666666666666666,
              "#ed7953"
             ],
             [
              0.7777777777777778,
              "#fb9f3a"
             ],
             [
              0.8888888888888888,
              "#fdca26"
             ],
             [
              1,
              "#f0f921"
             ]
            ],
            "type": "heatmap"
           }
          ],
          "heatmapgl": [
           {
            "colorbar": {
             "outlinewidth": 0,
             "ticks": ""
            },
            "colorscale": [
             [
              0,
              "#0d0887"
             ],
             [
              0.1111111111111111,
              "#46039f"
             ],
             [
              0.2222222222222222,
              "#7201a8"
             ],
             [
              0.3333333333333333,
              "#9c179e"
             ],
             [
              0.4444444444444444,
              "#bd3786"
             ],
             [
              0.5555555555555556,
              "#d8576b"
             ],
             [
              0.6666666666666666,
              "#ed7953"
             ],
             [
              0.7777777777777778,
              "#fb9f3a"
             ],
             [
              0.8888888888888888,
              "#fdca26"
             ],
             [
              1,
              "#f0f921"
             ]
            ],
            "type": "heatmapgl"
           }
          ],
          "histogram": [
           {
            "marker": {
             "pattern": {
              "fillmode": "overlay",
              "size": 10,
              "solidity": 0.2
             }
            },
            "type": "histogram"
           }
          ],
          "histogram2d": [
           {
            "colorbar": {
             "outlinewidth": 0,
             "ticks": ""
            },
            "colorscale": [
             [
              0,
              "#0d0887"
             ],
             [
              0.1111111111111111,
              "#46039f"
             ],
             [
              0.2222222222222222,
              "#7201a8"
             ],
             [
              0.3333333333333333,
              "#9c179e"
             ],
             [
              0.4444444444444444,
              "#bd3786"
             ],
             [
              0.5555555555555556,
              "#d8576b"
             ],
             [
              0.6666666666666666,
              "#ed7953"
             ],
             [
              0.7777777777777778,
              "#fb9f3a"
             ],
             [
              0.8888888888888888,
              "#fdca26"
             ],
             [
              1,
              "#f0f921"
             ]
            ],
            "type": "histogram2d"
           }
          ],
          "histogram2dcontour": [
           {
            "colorbar": {
             "outlinewidth": 0,
             "ticks": ""
            },
            "colorscale": [
             [
              0,
              "#0d0887"
             ],
             [
              0.1111111111111111,
              "#46039f"
             ],
             [
              0.2222222222222222,
              "#7201a8"
             ],
             [
              0.3333333333333333,
              "#9c179e"
             ],
             [
              0.4444444444444444,
              "#bd3786"
             ],
             [
              0.5555555555555556,
              "#d8576b"
             ],
             [
              0.6666666666666666,
              "#ed7953"
             ],
             [
              0.7777777777777778,
              "#fb9f3a"
             ],
             [
              0.8888888888888888,
              "#fdca26"
             ],
             [
              1,
              "#f0f921"
             ]
            ],
            "type": "histogram2dcontour"
           }
          ],
          "mesh3d": [
           {
            "colorbar": {
             "outlinewidth": 0,
             "ticks": ""
            },
            "type": "mesh3d"
           }
          ],
          "parcoords": [
           {
            "line": {
             "colorbar": {
              "outlinewidth": 0,
              "ticks": ""
             }
            },
            "type": "parcoords"
           }
          ],
          "pie": [
           {
            "automargin": true,
            "type": "pie"
           }
          ],
          "scatter": [
           {
            "fillpattern": {
             "fillmode": "overlay",
             "size": 10,
             "solidity": 0.2
            },
            "type": "scatter"
           }
          ],
          "scatter3d": [
           {
            "line": {
             "colorbar": {
              "outlinewidth": 0,
              "ticks": ""
             }
            },
            "marker": {
             "colorbar": {
              "outlinewidth": 0,
              "ticks": ""
             }
            },
            "type": "scatter3d"
           }
          ],
          "scattercarpet": [
           {
            "marker": {
             "colorbar": {
              "outlinewidth": 0,
              "ticks": ""
             }
            },
            "type": "scattercarpet"
           }
          ],
          "scattergeo": [
           {
            "marker": {
             "colorbar": {
              "outlinewidth": 0,
              "ticks": ""
             }
            },
            "type": "scattergeo"
           }
          ],
          "scattergl": [
           {
            "marker": {
             "colorbar": {
              "outlinewidth": 0,
              "ticks": ""
             }
            },
            "type": "scattergl"
           }
          ],
          "scattermapbox": [
           {
            "marker": {
             "colorbar": {
              "outlinewidth": 0,
              "ticks": ""
             }
            },
            "type": "scattermapbox"
           }
          ],
          "scatterpolar": [
           {
            "marker": {
             "colorbar": {
              "outlinewidth": 0,
              "ticks": ""
             }
            },
            "type": "scatterpolar"
           }
          ],
          "scatterpolargl": [
           {
            "marker": {
             "colorbar": {
              "outlinewidth": 0,
              "ticks": ""
             }
            },
            "type": "scatterpolargl"
           }
          ],
          "scatterternary": [
           {
            "marker": {
             "colorbar": {
              "outlinewidth": 0,
              "ticks": ""
             }
            },
            "type": "scatterternary"
           }
          ],
          "surface": [
           {
            "colorbar": {
             "outlinewidth": 0,
             "ticks": ""
            },
            "colorscale": [
             [
              0,
              "#0d0887"
             ],
             [
              0.1111111111111111,
              "#46039f"
             ],
             [
              0.2222222222222222,
              "#7201a8"
             ],
             [
              0.3333333333333333,
              "#9c179e"
             ],
             [
              0.4444444444444444,
              "#bd3786"
             ],
             [
              0.5555555555555556,
              "#d8576b"
             ],
             [
              0.6666666666666666,
              "#ed7953"
             ],
             [
              0.7777777777777778,
              "#fb9f3a"
             ],
             [
              0.8888888888888888,
              "#fdca26"
             ],
             [
              1,
              "#f0f921"
             ]
            ],
            "type": "surface"
           }
          ],
          "table": [
           {
            "cells": {
             "fill": {
              "color": "#EBF0F8"
             },
             "line": {
              "color": "white"
             }
            },
            "header": {
             "fill": {
              "color": "#C8D4E3"
             },
             "line": {
              "color": "white"
             }
            },
            "type": "table"
           }
          ]
         },
         "layout": {
          "annotationdefaults": {
           "arrowcolor": "#2a3f5f",
           "arrowhead": 0,
           "arrowwidth": 1
          },
          "autotypenumbers": "strict",
          "coloraxis": {
           "colorbar": {
            "outlinewidth": 0,
            "ticks": ""
           }
          },
          "colorscale": {
           "diverging": [
            [
             0,
             "#8e0152"
            ],
            [
             0.1,
             "#c51b7d"
            ],
            [
             0.2,
             "#de77ae"
            ],
            [
             0.3,
             "#f1b6da"
            ],
            [
             0.4,
             "#fde0ef"
            ],
            [
             0.5,
             "#f7f7f7"
            ],
            [
             0.6,
             "#e6f5d0"
            ],
            [
             0.7,
             "#b8e186"
            ],
            [
             0.8,
             "#7fbc41"
            ],
            [
             0.9,
             "#4d9221"
            ],
            [
             1,
             "#276419"
            ]
           ],
           "sequential": [
            [
             0,
             "#0d0887"
            ],
            [
             0.1111111111111111,
             "#46039f"
            ],
            [
             0.2222222222222222,
             "#7201a8"
            ],
            [
             0.3333333333333333,
             "#9c179e"
            ],
            [
             0.4444444444444444,
             "#bd3786"
            ],
            [
             0.5555555555555556,
             "#d8576b"
            ],
            [
             0.6666666666666666,
             "#ed7953"
            ],
            [
             0.7777777777777778,
             "#fb9f3a"
            ],
            [
             0.8888888888888888,
             "#fdca26"
            ],
            [
             1,
             "#f0f921"
            ]
           ],
           "sequentialminus": [
            [
             0,
             "#0d0887"
            ],
            [
             0.1111111111111111,
             "#46039f"
            ],
            [
             0.2222222222222222,
             "#7201a8"
            ],
            [
             0.3333333333333333,
             "#9c179e"
            ],
            [
             0.4444444444444444,
             "#bd3786"
            ],
            [
             0.5555555555555556,
             "#d8576b"
            ],
            [
             0.6666666666666666,
             "#ed7953"
            ],
            [
             0.7777777777777778,
             "#fb9f3a"
            ],
            [
             0.8888888888888888,
             "#fdca26"
            ],
            [
             1,
             "#f0f921"
            ]
           ]
          },
          "colorway": [
           "#636efa",
           "#EF553B",
           "#00cc96",
           "#ab63fa",
           "#FFA15A",
           "#19d3f3",
           "#FF6692",
           "#B6E880",
           "#FF97FF",
           "#FECB52"
          ],
          "font": {
           "color": "#2a3f5f"
          },
          "geo": {
           "bgcolor": "white",
           "lakecolor": "white",
           "landcolor": "#E5ECF6",
           "showlakes": true,
           "showland": true,
           "subunitcolor": "white"
          },
          "hoverlabel": {
           "align": "left"
          },
          "hovermode": "closest",
          "mapbox": {
           "style": "light"
          },
          "paper_bgcolor": "white",
          "plot_bgcolor": "#E5ECF6",
          "polar": {
           "angularaxis": {
            "gridcolor": "white",
            "linecolor": "white",
            "ticks": ""
           },
           "bgcolor": "#E5ECF6",
           "radialaxis": {
            "gridcolor": "white",
            "linecolor": "white",
            "ticks": ""
           }
          },
          "scene": {
           "xaxis": {
            "backgroundcolor": "#E5ECF6",
            "gridcolor": "white",
            "gridwidth": 2,
            "linecolor": "white",
            "showbackground": true,
            "ticks": "",
            "zerolinecolor": "white"
           },
           "yaxis": {
            "backgroundcolor": "#E5ECF6",
            "gridcolor": "white",
            "gridwidth": 2,
            "linecolor": "white",
            "showbackground": true,
            "ticks": "",
            "zerolinecolor": "white"
           },
           "zaxis": {
            "backgroundcolor": "#E5ECF6",
            "gridcolor": "white",
            "gridwidth": 2,
            "linecolor": "white",
            "showbackground": true,
            "ticks": "",
            "zerolinecolor": "white"
           }
          },
          "shapedefaults": {
           "line": {
            "color": "#2a3f5f"
           }
          },
          "ternary": {
           "aaxis": {
            "gridcolor": "white",
            "linecolor": "white",
            "ticks": ""
           },
           "baxis": {
            "gridcolor": "white",
            "linecolor": "white",
            "ticks": ""
           },
           "bgcolor": "#E5ECF6",
           "caxis": {
            "gridcolor": "white",
            "linecolor": "white",
            "ticks": ""
           }
          },
          "title": {
           "x": 0.05
          },
          "xaxis": {
           "automargin": true,
           "gridcolor": "white",
           "linecolor": "white",
           "ticks": "",
           "title": {
            "standoff": 15
           },
           "zerolinecolor": "white",
           "zerolinewidth": 2
          },
          "yaxis": {
           "automargin": true,
           "gridcolor": "white",
           "linecolor": "white",
           "ticks": "",
           "title": {
            "standoff": 15
           },
           "zerolinecolor": "white",
           "zerolinewidth": 2
          }
         }
        },
        "title": {
         "text": "Training Loss Over Epochs"
        },
        "xaxis": {
         "title": {
          "text": "Epoch"
         }
        },
        "yaxis": {
         "title": {
          "text": "Loss"
         }
        }
       }
      }
     },
     "metadata": {},
     "output_type": "display_data"
    }
   ],
   "source": [
    "fig = go.Figure()\n",
    "fig.add_trace(go.Scatter(x=list(range(1, num_epochs + 1)), y=training_loss_values, mode='lines', name='Training Loss'))\n",
    "fig.update_layout(title='Training Loss Over Epochs', xaxis_title='Epoch', yaxis_title='Loss')\n",
    "fig.show()\n",
    "\n"
   ]
  },
  {
   "cell_type": "code",
   "execution_count": 8,
   "metadata": {},
   "outputs": [
    {
     "data": {
      "application/vnd.plotly.v1+json": {
       "config": {
        "plotlyServerURL": "https://plot.ly"
       },
       "data": [
        {
         "mode": "lines",
         "name": "Training Reward",
         "type": "scatter",
         "x": [
          1,
          2,
          3,
          4,
          5,
          6,
          7,
          8,
          9,
          10,
          11,
          12,
          13,
          14,
          15,
          16,
          17,
          18,
          19,
          20,
          21,
          22,
          23,
          24,
          25,
          26,
          27,
          28,
          29,
          30,
          31,
          32,
          33,
          34,
          35,
          36,
          37,
          38,
          39,
          40,
          41,
          42,
          43,
          44,
          45,
          46,
          47,
          48,
          49,
          50,
          51,
          52,
          53,
          54,
          55,
          56,
          57,
          58,
          59,
          60,
          61,
          62,
          63,
          64,
          65,
          66,
          67,
          68,
          69,
          70,
          71,
          72,
          73,
          74,
          75,
          76,
          77,
          78,
          79,
          80,
          81,
          82,
          83,
          84,
          85,
          86,
          87,
          88,
          89,
          90,
          91,
          92,
          93,
          94,
          95,
          96,
          97,
          98,
          99,
          100,
          101,
          102,
          103,
          104,
          105,
          106,
          107,
          108,
          109,
          110,
          111,
          112,
          113,
          114,
          115,
          116,
          117,
          118,
          119,
          120,
          121,
          122,
          123,
          124,
          125,
          126,
          127,
          128,
          129,
          130,
          131,
          132,
          133,
          134,
          135,
          136,
          137,
          138,
          139,
          140,
          141,
          142,
          143,
          144,
          145,
          146,
          147,
          148,
          149,
          150,
          151,
          152,
          153,
          154,
          155,
          156,
          157,
          158,
          159,
          160,
          161,
          162,
          163,
          164,
          165,
          166,
          167,
          168,
          169,
          170,
          171,
          172,
          173,
          174,
          175,
          176,
          177,
          178,
          179,
          180,
          181,
          182,
          183,
          184,
          185,
          186,
          187,
          188,
          189,
          190,
          191,
          192,
          193,
          194,
          195,
          196,
          197,
          198,
          199,
          200
         ],
         "y": [
          -3.1028449535369873,
          -3.0960071086883545,
          -3.0899558067321777,
          -3.084951162338257,
          -3.080158233642578,
          -3.0753273963928223,
          -3.070779323577881,
          -3.0663888454437256,
          -3.0619051456451416,
          -3.057317018508911,
          -3.0525264739990234,
          -3.0475361347198486,
          -3.0424506664276123,
          -3.0372724533081055,
          -3.0320377349853516,
          -3.026719570159912,
          -3.021256923675537,
          -3.0155768394470215,
          -3.0096588134765625,
          -3.003474235534668,
          -2.9970548152923584,
          -2.9903883934020996,
          -2.983476400375366,
          -2.9762964248657227,
          -2.968812942504883,
          -2.9610090255737305,
          -2.95286226272583,
          -2.9443771839141846,
          -2.935554265975952,
          -2.926356077194214,
          -2.9167640209198,
          -2.906770706176758,
          -2.896350383758545,
          -2.885457754135132,
          -2.8740668296813965,
          -2.862194776535034,
          -2.8498668670654297,
          -2.8371968269348145,
          -2.8242063522338867,
          -2.8107738494873047,
          -2.7968764305114746,
          -2.7825119495391846,
          -2.767693042755127,
          -2.7524333000183105,
          -2.7367334365844727,
          -2.720602512359619,
          -2.7040421962738037,
          -2.6870806217193604,
          -2.6697404384613037,
          -2.6520354747772217,
          -2.633965015411377,
          -2.6155173778533936,
          -2.5966968536376953,
          -2.5775444507598877,
          -2.558077096939087,
          -2.5383126735687256,
          -2.518300771713257,
          -2.498008966445923,
          -2.4773809909820557,
          -2.456474542617798,
          -2.4353315830230713,
          -2.4138944149017334,
          -2.3921616077423096,
          -2.3702800273895264,
          -2.3481192588806152,
          -2.325756072998047,
          -2.3032257556915283,
          -2.280487298965454,
          -2.2575676441192627,
          -2.2344770431518555,
          -2.211238384246826,
          -2.1878533363342285,
          -2.164339542388916,
          -2.1407058238983154,
          -2.116973400115967,
          -2.0931732654571533,
          -2.0693247318267822,
          -2.045443058013916,
          -2.021540880203247,
          -1.9976396560668945,
          -1.9737622737884521,
          -1.9499266147613525,
          -1.9261524677276611,
          -1.9024542570114136,
          -1.8788527250289917,
          -1.8553646802902222,
          -1.8320072889328003,
          -1.8087952136993408,
          -1.7857422828674316,
          -1.7628167867660522,
          -1.7399307489395142,
          -1.717149019241333,
          -1.6948866844177246,
          -1.672851800918579,
          -1.6509578227996826,
          -1.629227638244629,
          -1.6076925992965698,
          -1.5863769054412842,
          -1.5653201341629028,
          -1.5445622205734253,
          -1.5240148305892944,
          -1.50364089012146,
          -1.4834833145141602,
          -1.4635770320892334,
          -1.4439274072647095,
          -1.424515724182129,
          -1.4053269624710083,
          -1.3863601684570312,
          -1.3676129579544067,
          -1.3490890264511108,
          -1.3307902812957764,
          -1.3127185106277466,
          -1.2948716878890991,
          -1.2772444486618042,
          -1.2598353624343872,
          -1.242637276649475,
          -1.2256492376327515,
          -1.208865761756897,
          -1.192287802696228,
          -1.1759161949157715,
          -1.1597458124160767,
          -1.1437736749649048,
          -1.1280035972595215,
          -1.1124292612075806,
          -1.0970458984375,
          -1.0818477869033813,
          -1.0668377876281738,
          -1.0520135164260864,
          -1.0373650789260864,
          -1.022889494895935,
          -1.0085997581481934,
          -0.9945039749145508,
          -0.9805771112442017,
          -0.966846764087677,
          -0.9533020853996277,
          -0.9399434924125671,
          -0.9267817139625549,
          -0.9138044714927673,
          -0.9009844064712524,
          -0.8883546590805054,
          -0.8759090900421143,
          -0.8636678457260132,
          -0.8516215085983276,
          -0.8397419452667236,
          -0.8280375599861145,
          -0.8165075182914734,
          -0.8051514625549316,
          -0.793969452381134,
          -0.7829636931419373,
          -0.7721306085586548,
          -0.7614653706550598,
          -0.7509639263153076,
          -0.7406285405158997,
          -0.7304537892341614,
          -0.7204458713531494,
          -0.7106009721755981,
          -0.7009170055389404,
          -0.6913915872573853,
          -0.6820229291915894,
          -0.672809898853302,
          -0.6637536883354187,
          -0.6548516750335693,
          -0.646104633808136,
          -0.6375063061714172,
          -0.6290522217750549,
          -0.6207395792007446,
          -0.6125656962394714,
          -0.6045323610305786,
          -0.5966354608535767,
          -0.5888742208480835,
          -0.581244945526123,
          -0.5737453699111938,
          -0.5663747191429138,
          -0.5591300129890442,
          -0.552010178565979,
          -0.5450124144554138,
          -0.5381346940994263,
          -0.531374990940094,
          -0.524730384349823,
          -0.5181991457939148,
          -0.5117784142494202,
          -0.505466878414154,
          -0.4992620646953583,
          -0.4931615889072418,
          -0.4871639013290405,
          -0.48126843571662903,
          -0.4754721224308014,
          -0.46977347135543823,
          -0.46417003870010376,
          -0.4586601257324219,
          -0.4532417058944702,
          -0.447913259267807,
          -0.442672997713089,
          -0.4375195801258087,
          -0.4324512481689453,
          -0.4274665117263794,
          -0.42256414890289307,
          -0.41774216294288635,
          -0.4129982590675354,
          -0.40833041071891785
         ]
        }
       ],
       "layout": {
        "template": {
         "data": {
          "bar": [
           {
            "error_x": {
             "color": "#2a3f5f"
            },
            "error_y": {
             "color": "#2a3f5f"
            },
            "marker": {
             "line": {
              "color": "#E5ECF6",
              "width": 0.5
             },
             "pattern": {
              "fillmode": "overlay",
              "size": 10,
              "solidity": 0.2
             }
            },
            "type": "bar"
           }
          ],
          "barpolar": [
           {
            "marker": {
             "line": {
              "color": "#E5ECF6",
              "width": 0.5
             },
             "pattern": {
              "fillmode": "overlay",
              "size": 10,
              "solidity": 0.2
             }
            },
            "type": "barpolar"
           }
          ],
          "carpet": [
           {
            "aaxis": {
             "endlinecolor": "#2a3f5f",
             "gridcolor": "white",
             "linecolor": "white",
             "minorgridcolor": "white",
             "startlinecolor": "#2a3f5f"
            },
            "baxis": {
             "endlinecolor": "#2a3f5f",
             "gridcolor": "white",
             "linecolor": "white",
             "minorgridcolor": "white",
             "startlinecolor": "#2a3f5f"
            },
            "type": "carpet"
           }
          ],
          "choropleth": [
           {
            "colorbar": {
             "outlinewidth": 0,
             "ticks": ""
            },
            "type": "choropleth"
           }
          ],
          "contour": [
           {
            "colorbar": {
             "outlinewidth": 0,
             "ticks": ""
            },
            "colorscale": [
             [
              0,
              "#0d0887"
             ],
             [
              0.1111111111111111,
              "#46039f"
             ],
             [
              0.2222222222222222,
              "#7201a8"
             ],
             [
              0.3333333333333333,
              "#9c179e"
             ],
             [
              0.4444444444444444,
              "#bd3786"
             ],
             [
              0.5555555555555556,
              "#d8576b"
             ],
             [
              0.6666666666666666,
              "#ed7953"
             ],
             [
              0.7777777777777778,
              "#fb9f3a"
             ],
             [
              0.8888888888888888,
              "#fdca26"
             ],
             [
              1,
              "#f0f921"
             ]
            ],
            "type": "contour"
           }
          ],
          "contourcarpet": [
           {
            "colorbar": {
             "outlinewidth": 0,
             "ticks": ""
            },
            "type": "contourcarpet"
           }
          ],
          "heatmap": [
           {
            "colorbar": {
             "outlinewidth": 0,
             "ticks": ""
            },
            "colorscale": [
             [
              0,
              "#0d0887"
             ],
             [
              0.1111111111111111,
              "#46039f"
             ],
             [
              0.2222222222222222,
              "#7201a8"
             ],
             [
              0.3333333333333333,
              "#9c179e"
             ],
             [
              0.4444444444444444,
              "#bd3786"
             ],
             [
              0.5555555555555556,
              "#d8576b"
             ],
             [
              0.6666666666666666,
              "#ed7953"
             ],
             [
              0.7777777777777778,
              "#fb9f3a"
             ],
             [
              0.8888888888888888,
              "#fdca26"
             ],
             [
              1,
              "#f0f921"
             ]
            ],
            "type": "heatmap"
           }
          ],
          "heatmapgl": [
           {
            "colorbar": {
             "outlinewidth": 0,
             "ticks": ""
            },
            "colorscale": [
             [
              0,
              "#0d0887"
             ],
             [
              0.1111111111111111,
              "#46039f"
             ],
             [
              0.2222222222222222,
              "#7201a8"
             ],
             [
              0.3333333333333333,
              "#9c179e"
             ],
             [
              0.4444444444444444,
              "#bd3786"
             ],
             [
              0.5555555555555556,
              "#d8576b"
             ],
             [
              0.6666666666666666,
              "#ed7953"
             ],
             [
              0.7777777777777778,
              "#fb9f3a"
             ],
             [
              0.8888888888888888,
              "#fdca26"
             ],
             [
              1,
              "#f0f921"
             ]
            ],
            "type": "heatmapgl"
           }
          ],
          "histogram": [
           {
            "marker": {
             "pattern": {
              "fillmode": "overlay",
              "size": 10,
              "solidity": 0.2
             }
            },
            "type": "histogram"
           }
          ],
          "histogram2d": [
           {
            "colorbar": {
             "outlinewidth": 0,
             "ticks": ""
            },
            "colorscale": [
             [
              0,
              "#0d0887"
             ],
             [
              0.1111111111111111,
              "#46039f"
             ],
             [
              0.2222222222222222,
              "#7201a8"
             ],
             [
              0.3333333333333333,
              "#9c179e"
             ],
             [
              0.4444444444444444,
              "#bd3786"
             ],
             [
              0.5555555555555556,
              "#d8576b"
             ],
             [
              0.6666666666666666,
              "#ed7953"
             ],
             [
              0.7777777777777778,
              "#fb9f3a"
             ],
             [
              0.8888888888888888,
              "#fdca26"
             ],
             [
              1,
              "#f0f921"
             ]
            ],
            "type": "histogram2d"
           }
          ],
          "histogram2dcontour": [
           {
            "colorbar": {
             "outlinewidth": 0,
             "ticks": ""
            },
            "colorscale": [
             [
              0,
              "#0d0887"
             ],
             [
              0.1111111111111111,
              "#46039f"
             ],
             [
              0.2222222222222222,
              "#7201a8"
             ],
             [
              0.3333333333333333,
              "#9c179e"
             ],
             [
              0.4444444444444444,
              "#bd3786"
             ],
             [
              0.5555555555555556,
              "#d8576b"
             ],
             [
              0.6666666666666666,
              "#ed7953"
             ],
             [
              0.7777777777777778,
              "#fb9f3a"
             ],
             [
              0.8888888888888888,
              "#fdca26"
             ],
             [
              1,
              "#f0f921"
             ]
            ],
            "type": "histogram2dcontour"
           }
          ],
          "mesh3d": [
           {
            "colorbar": {
             "outlinewidth": 0,
             "ticks": ""
            },
            "type": "mesh3d"
           }
          ],
          "parcoords": [
           {
            "line": {
             "colorbar": {
              "outlinewidth": 0,
              "ticks": ""
             }
            },
            "type": "parcoords"
           }
          ],
          "pie": [
           {
            "automargin": true,
            "type": "pie"
           }
          ],
          "scatter": [
           {
            "fillpattern": {
             "fillmode": "overlay",
             "size": 10,
             "solidity": 0.2
            },
            "type": "scatter"
           }
          ],
          "scatter3d": [
           {
            "line": {
             "colorbar": {
              "outlinewidth": 0,
              "ticks": ""
             }
            },
            "marker": {
             "colorbar": {
              "outlinewidth": 0,
              "ticks": ""
             }
            },
            "type": "scatter3d"
           }
          ],
          "scattercarpet": [
           {
            "marker": {
             "colorbar": {
              "outlinewidth": 0,
              "ticks": ""
             }
            },
            "type": "scattercarpet"
           }
          ],
          "scattergeo": [
           {
            "marker": {
             "colorbar": {
              "outlinewidth": 0,
              "ticks": ""
             }
            },
            "type": "scattergeo"
           }
          ],
          "scattergl": [
           {
            "marker": {
             "colorbar": {
              "outlinewidth": 0,
              "ticks": ""
             }
            },
            "type": "scattergl"
           }
          ],
          "scattermapbox": [
           {
            "marker": {
             "colorbar": {
              "outlinewidth": 0,
              "ticks": ""
             }
            },
            "type": "scattermapbox"
           }
          ],
          "scatterpolar": [
           {
            "marker": {
             "colorbar": {
              "outlinewidth": 0,
              "ticks": ""
             }
            },
            "type": "scatterpolar"
           }
          ],
          "scatterpolargl": [
           {
            "marker": {
             "colorbar": {
              "outlinewidth": 0,
              "ticks": ""
             }
            },
            "type": "scatterpolargl"
           }
          ],
          "scatterternary": [
           {
            "marker": {
             "colorbar": {
              "outlinewidth": 0,
              "ticks": ""
             }
            },
            "type": "scatterternary"
           }
          ],
          "surface": [
           {
            "colorbar": {
             "outlinewidth": 0,
             "ticks": ""
            },
            "colorscale": [
             [
              0,
              "#0d0887"
             ],
             [
              0.1111111111111111,
              "#46039f"
             ],
             [
              0.2222222222222222,
              "#7201a8"
             ],
             [
              0.3333333333333333,
              "#9c179e"
             ],
             [
              0.4444444444444444,
              "#bd3786"
             ],
             [
              0.5555555555555556,
              "#d8576b"
             ],
             [
              0.6666666666666666,
              "#ed7953"
             ],
             [
              0.7777777777777778,
              "#fb9f3a"
             ],
             [
              0.8888888888888888,
              "#fdca26"
             ],
             [
              1,
              "#f0f921"
             ]
            ],
            "type": "surface"
           }
          ],
          "table": [
           {
            "cells": {
             "fill": {
              "color": "#EBF0F8"
             },
             "line": {
              "color": "white"
             }
            },
            "header": {
             "fill": {
              "color": "#C8D4E3"
             },
             "line": {
              "color": "white"
             }
            },
            "type": "table"
           }
          ]
         },
         "layout": {
          "annotationdefaults": {
           "arrowcolor": "#2a3f5f",
           "arrowhead": 0,
           "arrowwidth": 1
          },
          "autotypenumbers": "strict",
          "coloraxis": {
           "colorbar": {
            "outlinewidth": 0,
            "ticks": ""
           }
          },
          "colorscale": {
           "diverging": [
            [
             0,
             "#8e0152"
            ],
            [
             0.1,
             "#c51b7d"
            ],
            [
             0.2,
             "#de77ae"
            ],
            [
             0.3,
             "#f1b6da"
            ],
            [
             0.4,
             "#fde0ef"
            ],
            [
             0.5,
             "#f7f7f7"
            ],
            [
             0.6,
             "#e6f5d0"
            ],
            [
             0.7,
             "#b8e186"
            ],
            [
             0.8,
             "#7fbc41"
            ],
            [
             0.9,
             "#4d9221"
            ],
            [
             1,
             "#276419"
            ]
           ],
           "sequential": [
            [
             0,
             "#0d0887"
            ],
            [
             0.1111111111111111,
             "#46039f"
            ],
            [
             0.2222222222222222,
             "#7201a8"
            ],
            [
             0.3333333333333333,
             "#9c179e"
            ],
            [
             0.4444444444444444,
             "#bd3786"
            ],
            [
             0.5555555555555556,
             "#d8576b"
            ],
            [
             0.6666666666666666,
             "#ed7953"
            ],
            [
             0.7777777777777778,
             "#fb9f3a"
            ],
            [
             0.8888888888888888,
             "#fdca26"
            ],
            [
             1,
             "#f0f921"
            ]
           ],
           "sequentialminus": [
            [
             0,
             "#0d0887"
            ],
            [
             0.1111111111111111,
             "#46039f"
            ],
            [
             0.2222222222222222,
             "#7201a8"
            ],
            [
             0.3333333333333333,
             "#9c179e"
            ],
            [
             0.4444444444444444,
             "#bd3786"
            ],
            [
             0.5555555555555556,
             "#d8576b"
            ],
            [
             0.6666666666666666,
             "#ed7953"
            ],
            [
             0.7777777777777778,
             "#fb9f3a"
            ],
            [
             0.8888888888888888,
             "#fdca26"
            ],
            [
             1,
             "#f0f921"
            ]
           ]
          },
          "colorway": [
           "#636efa",
           "#EF553B",
           "#00cc96",
           "#ab63fa",
           "#FFA15A",
           "#19d3f3",
           "#FF6692",
           "#B6E880",
           "#FF97FF",
           "#FECB52"
          ],
          "font": {
           "color": "#2a3f5f"
          },
          "geo": {
           "bgcolor": "white",
           "lakecolor": "white",
           "landcolor": "#E5ECF6",
           "showlakes": true,
           "showland": true,
           "subunitcolor": "white"
          },
          "hoverlabel": {
           "align": "left"
          },
          "hovermode": "closest",
          "mapbox": {
           "style": "light"
          },
          "paper_bgcolor": "white",
          "plot_bgcolor": "#E5ECF6",
          "polar": {
           "angularaxis": {
            "gridcolor": "white",
            "linecolor": "white",
            "ticks": ""
           },
           "bgcolor": "#E5ECF6",
           "radialaxis": {
            "gridcolor": "white",
            "linecolor": "white",
            "ticks": ""
           }
          },
          "scene": {
           "xaxis": {
            "backgroundcolor": "#E5ECF6",
            "gridcolor": "white",
            "gridwidth": 2,
            "linecolor": "white",
            "showbackground": true,
            "ticks": "",
            "zerolinecolor": "white"
           },
           "yaxis": {
            "backgroundcolor": "#E5ECF6",
            "gridcolor": "white",
            "gridwidth": 2,
            "linecolor": "white",
            "showbackground": true,
            "ticks": "",
            "zerolinecolor": "white"
           },
           "zaxis": {
            "backgroundcolor": "#E5ECF6",
            "gridcolor": "white",
            "gridwidth": 2,
            "linecolor": "white",
            "showbackground": true,
            "ticks": "",
            "zerolinecolor": "white"
           }
          },
          "shapedefaults": {
           "line": {
            "color": "#2a3f5f"
           }
          },
          "ternary": {
           "aaxis": {
            "gridcolor": "white",
            "linecolor": "white",
            "ticks": ""
           },
           "baxis": {
            "gridcolor": "white",
            "linecolor": "white",
            "ticks": ""
           },
           "bgcolor": "#E5ECF6",
           "caxis": {
            "gridcolor": "white",
            "linecolor": "white",
            "ticks": ""
           }
          },
          "title": {
           "x": 0.05
          },
          "xaxis": {
           "automargin": true,
           "gridcolor": "white",
           "linecolor": "white",
           "ticks": "",
           "title": {
            "standoff": 15
           },
           "zerolinecolor": "white",
           "zerolinewidth": 2
          },
          "yaxis": {
           "automargin": true,
           "gridcolor": "white",
           "linecolor": "white",
           "ticks": "",
           "title": {
            "standoff": 15
           },
           "zerolinecolor": "white",
           "zerolinewidth": 2
          }
         }
        },
        "title": {
         "text": "Training Reward Over Epochs"
        },
        "xaxis": {
         "title": {
          "text": "Epoch"
         }
        },
        "yaxis": {
         "title": {
          "text": "Reward"
         }
        }
       }
      }
     },
     "metadata": {},
     "output_type": "display_data"
    }
   ],
   "source": [
    "reward_values = [-loss for loss in training_loss_values]\n",
    "\n",
    "# Create the line plot for training reward over epochs\n",
    "fig = go.Figure() \n",
    "fig.add_trace(go.Scatter(x=list(range(1, num_epochs + 1)), y=reward_values, mode='lines', name='Training Reward'))\n",
    "fig.update_layout(title='Training Reward Over Epochs', xaxis_title='Epoch', yaxis_title='Reward')\n",
    "fig.show()"
   ]
  },
  {
   "cell_type": "code",
   "execution_count": 9,
   "metadata": {},
   "outputs": [
    {
     "data": {
      "application/vnd.plotly.v1+json": {
       "config": {
        "plotlyServerURL": "https://plot.ly"
       },
       "data": [
        {
         "mode": "lines",
         "name": "Training Loss",
         "type": "scatter",
         "x": [
          200,
          199,
          198,
          197,
          196,
          195,
          194,
          193,
          192,
          191,
          190,
          189,
          188,
          187,
          186,
          185,
          184,
          183,
          182,
          181,
          180,
          179,
          178,
          177,
          176,
          175,
          174,
          173,
          172,
          171,
          170,
          169,
          168,
          167,
          166,
          165,
          164,
          163,
          162,
          161,
          160,
          159,
          158,
          157,
          156,
          155,
          154,
          153,
          152,
          151,
          150,
          149,
          148,
          147,
          146,
          145,
          144,
          143,
          142,
          141,
          140,
          139,
          138,
          137,
          136,
          135,
          134,
          133,
          132,
          131,
          130,
          129,
          128,
          127,
          126,
          125,
          124,
          123,
          122,
          121,
          120,
          119,
          118,
          117,
          116,
          115,
          114,
          113,
          112,
          111,
          110,
          109,
          108,
          107,
          106,
          105,
          104,
          103,
          102,
          101,
          100,
          99,
          98,
          97,
          96,
          95,
          94,
          93,
          92,
          91,
          90,
          89,
          88,
          87,
          86,
          85,
          84,
          83,
          82,
          81,
          80,
          79,
          78,
          77,
          76,
          75,
          74,
          73,
          72,
          71,
          70,
          69,
          68,
          67,
          66,
          65,
          64,
          63,
          62,
          61,
          60,
          59,
          58,
          57,
          56,
          55,
          54,
          53,
          52,
          51,
          50,
          49,
          48,
          47,
          46,
          45,
          44,
          43,
          42,
          41,
          40,
          39,
          38,
          37,
          36,
          35,
          34,
          33,
          32,
          31,
          30,
          29,
          28,
          27,
          26,
          25,
          24,
          23,
          22,
          21,
          20,
          19,
          18,
          17,
          16,
          15,
          14,
          13,
          12,
          11,
          10,
          9,
          8,
          7,
          6,
          5,
          4,
          3,
          2,
          1
         ],
         "y": [
          3.1028449535369873,
          3.0960071086883545,
          3.0899558067321777,
          3.084951162338257,
          3.080158233642578,
          3.0753273963928223,
          3.070779323577881,
          3.0663888454437256,
          3.0619051456451416,
          3.057317018508911,
          3.0525264739990234,
          3.0475361347198486,
          3.0424506664276123,
          3.0372724533081055,
          3.0320377349853516,
          3.026719570159912,
          3.021256923675537,
          3.0155768394470215,
          3.0096588134765625,
          3.003474235534668,
          2.9970548152923584,
          2.9903883934020996,
          2.983476400375366,
          2.9762964248657227,
          2.968812942504883,
          2.9610090255737305,
          2.95286226272583,
          2.9443771839141846,
          2.935554265975952,
          2.926356077194214,
          2.9167640209198,
          2.906770706176758,
          2.896350383758545,
          2.885457754135132,
          2.8740668296813965,
          2.862194776535034,
          2.8498668670654297,
          2.8371968269348145,
          2.8242063522338867,
          2.8107738494873047,
          2.7968764305114746,
          2.7825119495391846,
          2.767693042755127,
          2.7524333000183105,
          2.7367334365844727,
          2.720602512359619,
          2.7040421962738037,
          2.6870806217193604,
          2.6697404384613037,
          2.6520354747772217,
          2.633965015411377,
          2.6155173778533936,
          2.5966968536376953,
          2.5775444507598877,
          2.558077096939087,
          2.5383126735687256,
          2.518300771713257,
          2.498008966445923,
          2.4773809909820557,
          2.456474542617798,
          2.4353315830230713,
          2.4138944149017334,
          2.3921616077423096,
          2.3702800273895264,
          2.3481192588806152,
          2.325756072998047,
          2.3032257556915283,
          2.280487298965454,
          2.2575676441192627,
          2.2344770431518555,
          2.211238384246826,
          2.1878533363342285,
          2.164339542388916,
          2.1407058238983154,
          2.116973400115967,
          2.0931732654571533,
          2.0693247318267822,
          2.045443058013916,
          2.021540880203247,
          1.9976396560668945,
          1.9737622737884521,
          1.9499266147613525,
          1.9261524677276611,
          1.9024542570114136,
          1.8788527250289917,
          1.8553646802902222,
          1.8320072889328003,
          1.8087952136993408,
          1.7857422828674316,
          1.7628167867660522,
          1.7399307489395142,
          1.717149019241333,
          1.6948866844177246,
          1.672851800918579,
          1.6509578227996826,
          1.629227638244629,
          1.6076925992965698,
          1.5863769054412842,
          1.5653201341629028,
          1.5445622205734253,
          1.5240148305892944,
          1.50364089012146,
          1.4834833145141602,
          1.4635770320892334,
          1.4439274072647095,
          1.424515724182129,
          1.4053269624710083,
          1.3863601684570312,
          1.3676129579544067,
          1.3490890264511108,
          1.3307902812957764,
          1.3127185106277466,
          1.2948716878890991,
          1.2772444486618042,
          1.2598353624343872,
          1.242637276649475,
          1.2256492376327515,
          1.208865761756897,
          1.192287802696228,
          1.1759161949157715,
          1.1597458124160767,
          1.1437736749649048,
          1.1280035972595215,
          1.1124292612075806,
          1.0970458984375,
          1.0818477869033813,
          1.0668377876281738,
          1.0520135164260864,
          1.0373650789260864,
          1.022889494895935,
          1.0085997581481934,
          0.9945039749145508,
          0.9805771112442017,
          0.966846764087677,
          0.9533020853996277,
          0.9399434924125671,
          0.9267817139625549,
          0.9138044714927673,
          0.9009844064712524,
          0.8883546590805054,
          0.8759090900421143,
          0.8636678457260132,
          0.8516215085983276,
          0.8397419452667236,
          0.8280375599861145,
          0.8165075182914734,
          0.8051514625549316,
          0.793969452381134,
          0.7829636931419373,
          0.7721306085586548,
          0.7614653706550598,
          0.7509639263153076,
          0.7406285405158997,
          0.7304537892341614,
          0.7204458713531494,
          0.7106009721755981,
          0.7009170055389404,
          0.6913915872573853,
          0.6820229291915894,
          0.672809898853302,
          0.6637536883354187,
          0.6548516750335693,
          0.646104633808136,
          0.6375063061714172,
          0.6290522217750549,
          0.6207395792007446,
          0.6125656962394714,
          0.6045323610305786,
          0.5966354608535767,
          0.5888742208480835,
          0.581244945526123,
          0.5737453699111938,
          0.5663747191429138,
          0.5591300129890442,
          0.552010178565979,
          0.5450124144554138,
          0.5381346940994263,
          0.531374990940094,
          0.524730384349823,
          0.5181991457939148,
          0.5117784142494202,
          0.505466878414154,
          0.4992620646953583,
          0.4931615889072418,
          0.4871639013290405,
          0.48126843571662903,
          0.4754721224308014,
          0.46977347135543823,
          0.46417003870010376,
          0.4586601257324219,
          0.4532417058944702,
          0.447913259267807,
          0.442672997713089,
          0.4375195801258087,
          0.4324512481689453,
          0.4274665117263794,
          0.42256414890289307,
          0.41774216294288635,
          0.4129982590675354,
          0.40833041071891785
         ]
        }
       ],
       "layout": {
        "template": {
         "data": {
          "bar": [
           {
            "error_x": {
             "color": "#2a3f5f"
            },
            "error_y": {
             "color": "#2a3f5f"
            },
            "marker": {
             "line": {
              "color": "#E5ECF6",
              "width": 0.5
             },
             "pattern": {
              "fillmode": "overlay",
              "size": 10,
              "solidity": 0.2
             }
            },
            "type": "bar"
           }
          ],
          "barpolar": [
           {
            "marker": {
             "line": {
              "color": "#E5ECF6",
              "width": 0.5
             },
             "pattern": {
              "fillmode": "overlay",
              "size": 10,
              "solidity": 0.2
             }
            },
            "type": "barpolar"
           }
          ],
          "carpet": [
           {
            "aaxis": {
             "endlinecolor": "#2a3f5f",
             "gridcolor": "white",
             "linecolor": "white",
             "minorgridcolor": "white",
             "startlinecolor": "#2a3f5f"
            },
            "baxis": {
             "endlinecolor": "#2a3f5f",
             "gridcolor": "white",
             "linecolor": "white",
             "minorgridcolor": "white",
             "startlinecolor": "#2a3f5f"
            },
            "type": "carpet"
           }
          ],
          "choropleth": [
           {
            "colorbar": {
             "outlinewidth": 0,
             "ticks": ""
            },
            "type": "choropleth"
           }
          ],
          "contour": [
           {
            "colorbar": {
             "outlinewidth": 0,
             "ticks": ""
            },
            "colorscale": [
             [
              0,
              "#0d0887"
             ],
             [
              0.1111111111111111,
              "#46039f"
             ],
             [
              0.2222222222222222,
              "#7201a8"
             ],
             [
              0.3333333333333333,
              "#9c179e"
             ],
             [
              0.4444444444444444,
              "#bd3786"
             ],
             [
              0.5555555555555556,
              "#d8576b"
             ],
             [
              0.6666666666666666,
              "#ed7953"
             ],
             [
              0.7777777777777778,
              "#fb9f3a"
             ],
             [
              0.8888888888888888,
              "#fdca26"
             ],
             [
              1,
              "#f0f921"
             ]
            ],
            "type": "contour"
           }
          ],
          "contourcarpet": [
           {
            "colorbar": {
             "outlinewidth": 0,
             "ticks": ""
            },
            "type": "contourcarpet"
           }
          ],
          "heatmap": [
           {
            "colorbar": {
             "outlinewidth": 0,
             "ticks": ""
            },
            "colorscale": [
             [
              0,
              "#0d0887"
             ],
             [
              0.1111111111111111,
              "#46039f"
             ],
             [
              0.2222222222222222,
              "#7201a8"
             ],
             [
              0.3333333333333333,
              "#9c179e"
             ],
             [
              0.4444444444444444,
              "#bd3786"
             ],
             [
              0.5555555555555556,
              "#d8576b"
             ],
             [
              0.6666666666666666,
              "#ed7953"
             ],
             [
              0.7777777777777778,
              "#fb9f3a"
             ],
             [
              0.8888888888888888,
              "#fdca26"
             ],
             [
              1,
              "#f0f921"
             ]
            ],
            "type": "heatmap"
           }
          ],
          "heatmapgl": [
           {
            "colorbar": {
             "outlinewidth": 0,
             "ticks": ""
            },
            "colorscale": [
             [
              0,
              "#0d0887"
             ],
             [
              0.1111111111111111,
              "#46039f"
             ],
             [
              0.2222222222222222,
              "#7201a8"
             ],
             [
              0.3333333333333333,
              "#9c179e"
             ],
             [
              0.4444444444444444,
              "#bd3786"
             ],
             [
              0.5555555555555556,
              "#d8576b"
             ],
             [
              0.6666666666666666,
              "#ed7953"
             ],
             [
              0.7777777777777778,
              "#fb9f3a"
             ],
             [
              0.8888888888888888,
              "#fdca26"
             ],
             [
              1,
              "#f0f921"
             ]
            ],
            "type": "heatmapgl"
           }
          ],
          "histogram": [
           {
            "marker": {
             "pattern": {
              "fillmode": "overlay",
              "size": 10,
              "solidity": 0.2
             }
            },
            "type": "histogram"
           }
          ],
          "histogram2d": [
           {
            "colorbar": {
             "outlinewidth": 0,
             "ticks": ""
            },
            "colorscale": [
             [
              0,
              "#0d0887"
             ],
             [
              0.1111111111111111,
              "#46039f"
             ],
             [
              0.2222222222222222,
              "#7201a8"
             ],
             [
              0.3333333333333333,
              "#9c179e"
             ],
             [
              0.4444444444444444,
              "#bd3786"
             ],
             [
              0.5555555555555556,
              "#d8576b"
             ],
             [
              0.6666666666666666,
              "#ed7953"
             ],
             [
              0.7777777777777778,
              "#fb9f3a"
             ],
             [
              0.8888888888888888,
              "#fdca26"
             ],
             [
              1,
              "#f0f921"
             ]
            ],
            "type": "histogram2d"
           }
          ],
          "histogram2dcontour": [
           {
            "colorbar": {
             "outlinewidth": 0,
             "ticks": ""
            },
            "colorscale": [
             [
              0,
              "#0d0887"
             ],
             [
              0.1111111111111111,
              "#46039f"
             ],
             [
              0.2222222222222222,
              "#7201a8"
             ],
             [
              0.3333333333333333,
              "#9c179e"
             ],
             [
              0.4444444444444444,
              "#bd3786"
             ],
             [
              0.5555555555555556,
              "#d8576b"
             ],
             [
              0.6666666666666666,
              "#ed7953"
             ],
             [
              0.7777777777777778,
              "#fb9f3a"
             ],
             [
              0.8888888888888888,
              "#fdca26"
             ],
             [
              1,
              "#f0f921"
             ]
            ],
            "type": "histogram2dcontour"
           }
          ],
          "mesh3d": [
           {
            "colorbar": {
             "outlinewidth": 0,
             "ticks": ""
            },
            "type": "mesh3d"
           }
          ],
          "parcoords": [
           {
            "line": {
             "colorbar": {
              "outlinewidth": 0,
              "ticks": ""
             }
            },
            "type": "parcoords"
           }
          ],
          "pie": [
           {
            "automargin": true,
            "type": "pie"
           }
          ],
          "scatter": [
           {
            "fillpattern": {
             "fillmode": "overlay",
             "size": 10,
             "solidity": 0.2
            },
            "type": "scatter"
           }
          ],
          "scatter3d": [
           {
            "line": {
             "colorbar": {
              "outlinewidth": 0,
              "ticks": ""
             }
            },
            "marker": {
             "colorbar": {
              "outlinewidth": 0,
              "ticks": ""
             }
            },
            "type": "scatter3d"
           }
          ],
          "scattercarpet": [
           {
            "marker": {
             "colorbar": {
              "outlinewidth": 0,
              "ticks": ""
             }
            },
            "type": "scattercarpet"
           }
          ],
          "scattergeo": [
           {
            "marker": {
             "colorbar": {
              "outlinewidth": 0,
              "ticks": ""
             }
            },
            "type": "scattergeo"
           }
          ],
          "scattergl": [
           {
            "marker": {
             "colorbar": {
              "outlinewidth": 0,
              "ticks": ""
             }
            },
            "type": "scattergl"
           }
          ],
          "scattermapbox": [
           {
            "marker": {
             "colorbar": {
              "outlinewidth": 0,
              "ticks": ""
             }
            },
            "type": "scattermapbox"
           }
          ],
          "scatterpolar": [
           {
            "marker": {
             "colorbar": {
              "outlinewidth": 0,
              "ticks": ""
             }
            },
            "type": "scatterpolar"
           }
          ],
          "scatterpolargl": [
           {
            "marker": {
             "colorbar": {
              "outlinewidth": 0,
              "ticks": ""
             }
            },
            "type": "scatterpolargl"
           }
          ],
          "scatterternary": [
           {
            "marker": {
             "colorbar": {
              "outlinewidth": 0,
              "ticks": ""
             }
            },
            "type": "scatterternary"
           }
          ],
          "surface": [
           {
            "colorbar": {
             "outlinewidth": 0,
             "ticks": ""
            },
            "colorscale": [
             [
              0,
              "#0d0887"
             ],
             [
              0.1111111111111111,
              "#46039f"
             ],
             [
              0.2222222222222222,
              "#7201a8"
             ],
             [
              0.3333333333333333,
              "#9c179e"
             ],
             [
              0.4444444444444444,
              "#bd3786"
             ],
             [
              0.5555555555555556,
              "#d8576b"
             ],
             [
              0.6666666666666666,
              "#ed7953"
             ],
             [
              0.7777777777777778,
              "#fb9f3a"
             ],
             [
              0.8888888888888888,
              "#fdca26"
             ],
             [
              1,
              "#f0f921"
             ]
            ],
            "type": "surface"
           }
          ],
          "table": [
           {
            "cells": {
             "fill": {
              "color": "#EBF0F8"
             },
             "line": {
              "color": "white"
             }
            },
            "header": {
             "fill": {
              "color": "#C8D4E3"
             },
             "line": {
              "color": "white"
             }
            },
            "type": "table"
           }
          ]
         },
         "layout": {
          "annotationdefaults": {
           "arrowcolor": "#2a3f5f",
           "arrowhead": 0,
           "arrowwidth": 1
          },
          "autotypenumbers": "strict",
          "coloraxis": {
           "colorbar": {
            "outlinewidth": 0,
            "ticks": ""
           }
          },
          "colorscale": {
           "diverging": [
            [
             0,
             "#8e0152"
            ],
            [
             0.1,
             "#c51b7d"
            ],
            [
             0.2,
             "#de77ae"
            ],
            [
             0.3,
             "#f1b6da"
            ],
            [
             0.4,
             "#fde0ef"
            ],
            [
             0.5,
             "#f7f7f7"
            ],
            [
             0.6,
             "#e6f5d0"
            ],
            [
             0.7,
             "#b8e186"
            ],
            [
             0.8,
             "#7fbc41"
            ],
            [
             0.9,
             "#4d9221"
            ],
            [
             1,
             "#276419"
            ]
           ],
           "sequential": [
            [
             0,
             "#0d0887"
            ],
            [
             0.1111111111111111,
             "#46039f"
            ],
            [
             0.2222222222222222,
             "#7201a8"
            ],
            [
             0.3333333333333333,
             "#9c179e"
            ],
            [
             0.4444444444444444,
             "#bd3786"
            ],
            [
             0.5555555555555556,
             "#d8576b"
            ],
            [
             0.6666666666666666,
             "#ed7953"
            ],
            [
             0.7777777777777778,
             "#fb9f3a"
            ],
            [
             0.8888888888888888,
             "#fdca26"
            ],
            [
             1,
             "#f0f921"
            ]
           ],
           "sequentialminus": [
            [
             0,
             "#0d0887"
            ],
            [
             0.1111111111111111,
             "#46039f"
            ],
            [
             0.2222222222222222,
             "#7201a8"
            ],
            [
             0.3333333333333333,
             "#9c179e"
            ],
            [
             0.4444444444444444,
             "#bd3786"
            ],
            [
             0.5555555555555556,
             "#d8576b"
            ],
            [
             0.6666666666666666,
             "#ed7953"
            ],
            [
             0.7777777777777778,
             "#fb9f3a"
            ],
            [
             0.8888888888888888,
             "#fdca26"
            ],
            [
             1,
             "#f0f921"
            ]
           ]
          },
          "colorway": [
           "#636efa",
           "#EF553B",
           "#00cc96",
           "#ab63fa",
           "#FFA15A",
           "#19d3f3",
           "#FF6692",
           "#B6E880",
           "#FF97FF",
           "#FECB52"
          ],
          "font": {
           "color": "#2a3f5f"
          },
          "geo": {
           "bgcolor": "white",
           "lakecolor": "white",
           "landcolor": "#E5ECF6",
           "showlakes": true,
           "showland": true,
           "subunitcolor": "white"
          },
          "hoverlabel": {
           "align": "left"
          },
          "hovermode": "closest",
          "mapbox": {
           "style": "light"
          },
          "paper_bgcolor": "white",
          "plot_bgcolor": "#E5ECF6",
          "polar": {
           "angularaxis": {
            "gridcolor": "white",
            "linecolor": "white",
            "ticks": ""
           },
           "bgcolor": "#E5ECF6",
           "radialaxis": {
            "gridcolor": "white",
            "linecolor": "white",
            "ticks": ""
           }
          },
          "scene": {
           "xaxis": {
            "backgroundcolor": "#E5ECF6",
            "gridcolor": "white",
            "gridwidth": 2,
            "linecolor": "white",
            "showbackground": true,
            "ticks": "",
            "zerolinecolor": "white"
           },
           "yaxis": {
            "backgroundcolor": "#E5ECF6",
            "gridcolor": "white",
            "gridwidth": 2,
            "linecolor": "white",
            "showbackground": true,
            "ticks": "",
            "zerolinecolor": "white"
           },
           "zaxis": {
            "backgroundcolor": "#E5ECF6",
            "gridcolor": "white",
            "gridwidth": 2,
            "linecolor": "white",
            "showbackground": true,
            "ticks": "",
            "zerolinecolor": "white"
           }
          },
          "shapedefaults": {
           "line": {
            "color": "#2a3f5f"
           }
          },
          "ternary": {
           "aaxis": {
            "gridcolor": "white",
            "linecolor": "white",
            "ticks": ""
           },
           "baxis": {
            "gridcolor": "white",
            "linecolor": "white",
            "ticks": ""
           },
           "bgcolor": "#E5ECF6",
           "caxis": {
            "gridcolor": "white",
            "linecolor": "white",
            "ticks": ""
           }
          },
          "title": {
           "x": 0.05
          },
          "xaxis": {
           "automargin": true,
           "gridcolor": "white",
           "linecolor": "white",
           "ticks": "",
           "title": {
            "standoff": 15
           },
           "zerolinecolor": "white",
           "zerolinewidth": 2
          },
          "yaxis": {
           "automargin": true,
           "gridcolor": "white",
           "linecolor": "white",
           "ticks": "",
           "title": {
            "standoff": 15
           },
           "zerolinecolor": "white",
           "zerolinewidth": 2
          }
         }
        },
        "title": {
         "text": "Reward Over Epochs"
        },
        "xaxis": {
         "title": {
          "text": "Epoch"
         }
        },
        "yaxis": {
         "title": {
          "text": "Reward"
         }
        }
       }
      }
     },
     "metadata": {},
     "output_type": "display_data"
    }
   ],
   "source": [
    "# Reverse the training loss values and epoch values\n",
    "\n",
    "reversed_epochs = list(range(num_epochs, 0, -1))\n",
    "\n",
    "# Create the line plot for reversed training loss over epochs\n",
    "fig = go.Figure()\n",
    "fig.add_trace(go.Scatter(x=reversed_epochs, y=training_loss_values, mode='lines', name='Training Loss'))\n",
    "fig.update_layout(title='Reward Over Epochs', xaxis_title='Epoch', yaxis_title='Reward')\n",
    "fig.show()\n"
   ]
  },
  {
   "cell_type": "code",
   "execution_count": 10,
   "metadata": {},
   "outputs": [
    {
     "data": {
      "application/vnd.plotly.v1+json": {
       "config": {
        "plotlyServerURL": "https://plot.ly"
       },
       "data": [
        {
         "name": "Crop Labels",
         "type": "bar",
         "x": [
          "rice",
          "maize",
          "jute",
          "cotton",
          "coconut",
          "papaya",
          "orange",
          "apple",
          "muskmelon",
          "watermelon",
          "grapes",
          "mango",
          "banana",
          "pomegranate",
          "lentil",
          "blackgram",
          "mungbean",
          "mothbeans",
          "pigeonpeas",
          "kidneybeans",
          "chickpea",
          "coffee"
         ],
         "y": [
          100,
          100,
          100,
          100,
          100,
          100,
          100,
          100,
          100,
          100,
          100,
          100,
          100,
          100,
          100,
          100,
          100,
          100,
          100,
          100,
          100,
          100
         ]
        }
       ],
       "layout": {
        "template": {
         "data": {
          "bar": [
           {
            "error_x": {
             "color": "#2a3f5f"
            },
            "error_y": {
             "color": "#2a3f5f"
            },
            "marker": {
             "line": {
              "color": "#E5ECF6",
              "width": 0.5
             },
             "pattern": {
              "fillmode": "overlay",
              "size": 10,
              "solidity": 0.2
             }
            },
            "type": "bar"
           }
          ],
          "barpolar": [
           {
            "marker": {
             "line": {
              "color": "#E5ECF6",
              "width": 0.5
             },
             "pattern": {
              "fillmode": "overlay",
              "size": 10,
              "solidity": 0.2
             }
            },
            "type": "barpolar"
           }
          ],
          "carpet": [
           {
            "aaxis": {
             "endlinecolor": "#2a3f5f",
             "gridcolor": "white",
             "linecolor": "white",
             "minorgridcolor": "white",
             "startlinecolor": "#2a3f5f"
            },
            "baxis": {
             "endlinecolor": "#2a3f5f",
             "gridcolor": "white",
             "linecolor": "white",
             "minorgridcolor": "white",
             "startlinecolor": "#2a3f5f"
            },
            "type": "carpet"
           }
          ],
          "choropleth": [
           {
            "colorbar": {
             "outlinewidth": 0,
             "ticks": ""
            },
            "type": "choropleth"
           }
          ],
          "contour": [
           {
            "colorbar": {
             "outlinewidth": 0,
             "ticks": ""
            },
            "colorscale": [
             [
              0,
              "#0d0887"
             ],
             [
              0.1111111111111111,
              "#46039f"
             ],
             [
              0.2222222222222222,
              "#7201a8"
             ],
             [
              0.3333333333333333,
              "#9c179e"
             ],
             [
              0.4444444444444444,
              "#bd3786"
             ],
             [
              0.5555555555555556,
              "#d8576b"
             ],
             [
              0.6666666666666666,
              "#ed7953"
             ],
             [
              0.7777777777777778,
              "#fb9f3a"
             ],
             [
              0.8888888888888888,
              "#fdca26"
             ],
             [
              1,
              "#f0f921"
             ]
            ],
            "type": "contour"
           }
          ],
          "contourcarpet": [
           {
            "colorbar": {
             "outlinewidth": 0,
             "ticks": ""
            },
            "type": "contourcarpet"
           }
          ],
          "heatmap": [
           {
            "colorbar": {
             "outlinewidth": 0,
             "ticks": ""
            },
            "colorscale": [
             [
              0,
              "#0d0887"
             ],
             [
              0.1111111111111111,
              "#46039f"
             ],
             [
              0.2222222222222222,
              "#7201a8"
             ],
             [
              0.3333333333333333,
              "#9c179e"
             ],
             [
              0.4444444444444444,
              "#bd3786"
             ],
             [
              0.5555555555555556,
              "#d8576b"
             ],
             [
              0.6666666666666666,
              "#ed7953"
             ],
             [
              0.7777777777777778,
              "#fb9f3a"
             ],
             [
              0.8888888888888888,
              "#fdca26"
             ],
             [
              1,
              "#f0f921"
             ]
            ],
            "type": "heatmap"
           }
          ],
          "heatmapgl": [
           {
            "colorbar": {
             "outlinewidth": 0,
             "ticks": ""
            },
            "colorscale": [
             [
              0,
              "#0d0887"
             ],
             [
              0.1111111111111111,
              "#46039f"
             ],
             [
              0.2222222222222222,
              "#7201a8"
             ],
             [
              0.3333333333333333,
              "#9c179e"
             ],
             [
              0.4444444444444444,
              "#bd3786"
             ],
             [
              0.5555555555555556,
              "#d8576b"
             ],
             [
              0.6666666666666666,
              "#ed7953"
             ],
             [
              0.7777777777777778,
              "#fb9f3a"
             ],
             [
              0.8888888888888888,
              "#fdca26"
             ],
             [
              1,
              "#f0f921"
             ]
            ],
            "type": "heatmapgl"
           }
          ],
          "histogram": [
           {
            "marker": {
             "pattern": {
              "fillmode": "overlay",
              "size": 10,
              "solidity": 0.2
             }
            },
            "type": "histogram"
           }
          ],
          "histogram2d": [
           {
            "colorbar": {
             "outlinewidth": 0,
             "ticks": ""
            },
            "colorscale": [
             [
              0,
              "#0d0887"
             ],
             [
              0.1111111111111111,
              "#46039f"
             ],
             [
              0.2222222222222222,
              "#7201a8"
             ],
             [
              0.3333333333333333,
              "#9c179e"
             ],
             [
              0.4444444444444444,
              "#bd3786"
             ],
             [
              0.5555555555555556,
              "#d8576b"
             ],
             [
              0.6666666666666666,
              "#ed7953"
             ],
             [
              0.7777777777777778,
              "#fb9f3a"
             ],
             [
              0.8888888888888888,
              "#fdca26"
             ],
             [
              1,
              "#f0f921"
             ]
            ],
            "type": "histogram2d"
           }
          ],
          "histogram2dcontour": [
           {
            "colorbar": {
             "outlinewidth": 0,
             "ticks": ""
            },
            "colorscale": [
             [
              0,
              "#0d0887"
             ],
             [
              0.1111111111111111,
              "#46039f"
             ],
             [
              0.2222222222222222,
              "#7201a8"
             ],
             [
              0.3333333333333333,
              "#9c179e"
             ],
             [
              0.4444444444444444,
              "#bd3786"
             ],
             [
              0.5555555555555556,
              "#d8576b"
             ],
             [
              0.6666666666666666,
              "#ed7953"
             ],
             [
              0.7777777777777778,
              "#fb9f3a"
             ],
             [
              0.8888888888888888,
              "#fdca26"
             ],
             [
              1,
              "#f0f921"
             ]
            ],
            "type": "histogram2dcontour"
           }
          ],
          "mesh3d": [
           {
            "colorbar": {
             "outlinewidth": 0,
             "ticks": ""
            },
            "type": "mesh3d"
           }
          ],
          "parcoords": [
           {
            "line": {
             "colorbar": {
              "outlinewidth": 0,
              "ticks": ""
             }
            },
            "type": "parcoords"
           }
          ],
          "pie": [
           {
            "automargin": true,
            "type": "pie"
           }
          ],
          "scatter": [
           {
            "fillpattern": {
             "fillmode": "overlay",
             "size": 10,
             "solidity": 0.2
            },
            "type": "scatter"
           }
          ],
          "scatter3d": [
           {
            "line": {
             "colorbar": {
              "outlinewidth": 0,
              "ticks": ""
             }
            },
            "marker": {
             "colorbar": {
              "outlinewidth": 0,
              "ticks": ""
             }
            },
            "type": "scatter3d"
           }
          ],
          "scattercarpet": [
           {
            "marker": {
             "colorbar": {
              "outlinewidth": 0,
              "ticks": ""
             }
            },
            "type": "scattercarpet"
           }
          ],
          "scattergeo": [
           {
            "marker": {
             "colorbar": {
              "outlinewidth": 0,
              "ticks": ""
             }
            },
            "type": "scattergeo"
           }
          ],
          "scattergl": [
           {
            "marker": {
             "colorbar": {
              "outlinewidth": 0,
              "ticks": ""
             }
            },
            "type": "scattergl"
           }
          ],
          "scattermapbox": [
           {
            "marker": {
             "colorbar": {
              "outlinewidth": 0,
              "ticks": ""
             }
            },
            "type": "scattermapbox"
           }
          ],
          "scatterpolar": [
           {
            "marker": {
             "colorbar": {
              "outlinewidth": 0,
              "ticks": ""
             }
            },
            "type": "scatterpolar"
           }
          ],
          "scatterpolargl": [
           {
            "marker": {
             "colorbar": {
              "outlinewidth": 0,
              "ticks": ""
             }
            },
            "type": "scatterpolargl"
           }
          ],
          "scatterternary": [
           {
            "marker": {
             "colorbar": {
              "outlinewidth": 0,
              "ticks": ""
             }
            },
            "type": "scatterternary"
           }
          ],
          "surface": [
           {
            "colorbar": {
             "outlinewidth": 0,
             "ticks": ""
            },
            "colorscale": [
             [
              0,
              "#0d0887"
             ],
             [
              0.1111111111111111,
              "#46039f"
             ],
             [
              0.2222222222222222,
              "#7201a8"
             ],
             [
              0.3333333333333333,
              "#9c179e"
             ],
             [
              0.4444444444444444,
              "#bd3786"
             ],
             [
              0.5555555555555556,
              "#d8576b"
             ],
             [
              0.6666666666666666,
              "#ed7953"
             ],
             [
              0.7777777777777778,
              "#fb9f3a"
             ],
             [
              0.8888888888888888,
              "#fdca26"
             ],
             [
              1,
              "#f0f921"
             ]
            ],
            "type": "surface"
           }
          ],
          "table": [
           {
            "cells": {
             "fill": {
              "color": "#EBF0F8"
             },
             "line": {
              "color": "white"
             }
            },
            "header": {
             "fill": {
              "color": "#C8D4E3"
             },
             "line": {
              "color": "white"
             }
            },
            "type": "table"
           }
          ]
         },
         "layout": {
          "annotationdefaults": {
           "arrowcolor": "#2a3f5f",
           "arrowhead": 0,
           "arrowwidth": 1
          },
          "autotypenumbers": "strict",
          "coloraxis": {
           "colorbar": {
            "outlinewidth": 0,
            "ticks": ""
           }
          },
          "colorscale": {
           "diverging": [
            [
             0,
             "#8e0152"
            ],
            [
             0.1,
             "#c51b7d"
            ],
            [
             0.2,
             "#de77ae"
            ],
            [
             0.3,
             "#f1b6da"
            ],
            [
             0.4,
             "#fde0ef"
            ],
            [
             0.5,
             "#f7f7f7"
            ],
            [
             0.6,
             "#e6f5d0"
            ],
            [
             0.7,
             "#b8e186"
            ],
            [
             0.8,
             "#7fbc41"
            ],
            [
             0.9,
             "#4d9221"
            ],
            [
             1,
             "#276419"
            ]
           ],
           "sequential": [
            [
             0,
             "#0d0887"
            ],
            [
             0.1111111111111111,
             "#46039f"
            ],
            [
             0.2222222222222222,
             "#7201a8"
            ],
            [
             0.3333333333333333,
             "#9c179e"
            ],
            [
             0.4444444444444444,
             "#bd3786"
            ],
            [
             0.5555555555555556,
             "#d8576b"
            ],
            [
             0.6666666666666666,
             "#ed7953"
            ],
            [
             0.7777777777777778,
             "#fb9f3a"
            ],
            [
             0.8888888888888888,
             "#fdca26"
            ],
            [
             1,
             "#f0f921"
            ]
           ],
           "sequentialminus": [
            [
             0,
             "#0d0887"
            ],
            [
             0.1111111111111111,
             "#46039f"
            ],
            [
             0.2222222222222222,
             "#7201a8"
            ],
            [
             0.3333333333333333,
             "#9c179e"
            ],
            [
             0.4444444444444444,
             "#bd3786"
            ],
            [
             0.5555555555555556,
             "#d8576b"
            ],
            [
             0.6666666666666666,
             "#ed7953"
            ],
            [
             0.7777777777777778,
             "#fb9f3a"
            ],
            [
             0.8888888888888888,
             "#fdca26"
            ],
            [
             1,
             "#f0f921"
            ]
           ]
          },
          "colorway": [
           "#636efa",
           "#EF553B",
           "#00cc96",
           "#ab63fa",
           "#FFA15A",
           "#19d3f3",
           "#FF6692",
           "#B6E880",
           "#FF97FF",
           "#FECB52"
          ],
          "font": {
           "color": "#2a3f5f"
          },
          "geo": {
           "bgcolor": "white",
           "lakecolor": "white",
           "landcolor": "#E5ECF6",
           "showlakes": true,
           "showland": true,
           "subunitcolor": "white"
          },
          "hoverlabel": {
           "align": "left"
          },
          "hovermode": "closest",
          "mapbox": {
           "style": "light"
          },
          "paper_bgcolor": "white",
          "plot_bgcolor": "#E5ECF6",
          "polar": {
           "angularaxis": {
            "gridcolor": "white",
            "linecolor": "white",
            "ticks": ""
           },
           "bgcolor": "#E5ECF6",
           "radialaxis": {
            "gridcolor": "white",
            "linecolor": "white",
            "ticks": ""
           }
          },
          "scene": {
           "xaxis": {
            "backgroundcolor": "#E5ECF6",
            "gridcolor": "white",
            "gridwidth": 2,
            "linecolor": "white",
            "showbackground": true,
            "ticks": "",
            "zerolinecolor": "white"
           },
           "yaxis": {
            "backgroundcolor": "#E5ECF6",
            "gridcolor": "white",
            "gridwidth": 2,
            "linecolor": "white",
            "showbackground": true,
            "ticks": "",
            "zerolinecolor": "white"
           },
           "zaxis": {
            "backgroundcolor": "#E5ECF6",
            "gridcolor": "white",
            "gridwidth": 2,
            "linecolor": "white",
            "showbackground": true,
            "ticks": "",
            "zerolinecolor": "white"
           }
          },
          "shapedefaults": {
           "line": {
            "color": "#2a3f5f"
           }
          },
          "ternary": {
           "aaxis": {
            "gridcolor": "white",
            "linecolor": "white",
            "ticks": ""
           },
           "baxis": {
            "gridcolor": "white",
            "linecolor": "white",
            "ticks": ""
           },
           "bgcolor": "#E5ECF6",
           "caxis": {
            "gridcolor": "white",
            "linecolor": "white",
            "ticks": ""
           }
          },
          "title": {
           "x": 0.05
          },
          "xaxis": {
           "automargin": true,
           "gridcolor": "white",
           "linecolor": "white",
           "ticks": "",
           "title": {
            "standoff": 15
           },
           "zerolinecolor": "white",
           "zerolinewidth": 2
          },
          "yaxis": {
           "automargin": true,
           "gridcolor": "white",
           "linecolor": "white",
           "ticks": "",
           "title": {
            "standoff": 15
           },
           "zerolinecolor": "white",
           "zerolinewidth": 2
          }
         }
        },
        "title": {
         "text": "Crop Labels Distribution"
        },
        "xaxis": {
         "title": {
          "text": "Crop Label"
         }
        },
        "yaxis": {
         "title": {
          "text": "Count"
         }
        }
       }
      }
     },
     "metadata": {},
     "output_type": "display_data"
    }
   ],
   "source": [
    "crop_labels_distribution = df['label'].value_counts()\n",
    "\n",
    "# Create the bar chart\n",
    "fig = go.Figure()\n",
    "fig.add_trace(go.Bar(x=crop_labels_distribution.index, y=crop_labels_distribution.values, name='Crop Labels'))\n",
    "fig.update_layout(title='Crop Labels Distribution', xaxis_title='Crop Label', yaxis_title='Count')\n",
    "fig.show()\n"
   ]
  },
  {
   "cell_type": "code",
   "execution_count": 11,
   "metadata": {},
   "outputs": [
    {
     "data": {
      "text/plain": [
       "1760"
      ]
     },
     "execution_count": 11,
     "metadata": {},
     "output_type": "execute_result"
    }
   ],
   "source": [
    "(X_train.shape[0])"
   ]
  },
  {
   "cell_type": "code",
   "execution_count": 12,
   "metadata": {},
   "outputs": [
    {
     "data": {
      "text/plain": [
       "array(['rice', 'maize', 'chickpea', 'kidneybeans', 'pigeonpeas',\n",
       "       'mothbeans', 'mungbean', 'blackgram', 'lentil', 'pomegranate',\n",
       "       'banana', 'mango', 'grapes', 'watermelon', 'muskmelon', 'apple',\n",
       "       'orange', 'papaya', 'coconut', 'cotton', 'jute', 'coffee'],\n",
       "      dtype=object)"
      ]
     },
     "execution_count": 12,
     "metadata": {},
     "output_type": "execute_result"
    }
   ],
   "source": [
    "df['label'].unique()"
   ]
  },
  {
   "cell_type": "code",
   "execution_count": null,
   "metadata": {},
   "outputs": [],
   "source": []
  }
 ],
 "metadata": {
  "kernelspec": {
   "display_name": "gpu",
   "language": "python",
   "name": "python3"
  },
  "language_info": {
   "codemirror_mode": {
    "name": "ipython",
    "version": 3
   },
   "file_extension": ".py",
   "mimetype": "text/x-python",
   "name": "python",
   "nbconvert_exporter": "python",
   "pygments_lexer": "ipython3",
   "version": "3.12.2"
  }
 },
 "nbformat": 4,
 "nbformat_minor": 2
}
